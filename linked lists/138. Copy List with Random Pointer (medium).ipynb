{
 "cells": [
  {
   "cell_type": "markdown",
   "id": "94e4fa30",
   "metadata": {},
   "source": [
    "## 138. Copy List with Random Pointer (medium)"
   ]
  },
  {
   "cell_type": "code",
   "execution_count": null,
   "id": "675fe2f8",
   "metadata": {},
   "outputs": [],
   "source": [
    "\n",
    "# Definition for a Node.\n",
    "class Node:\n",
    "    def __init__(self, x: int, next: 'Node' = None, random: 'Node' = None):\n",
    "        self.val = int(x)\n",
    "        self.next = next\n",
    "        self.random = random\n",
    "\n",
    "\n",
    "def copyRandomList(self, head: 'Node') -> 'Node':\n",
    "    if not head: return head\n",
    "    # 1. Creating new weaved list\n",
    "    current = head\n",
    "    while current:\n",
    "        new_node = Node(current.val, current.next)\n",
    "        current.next = new_node\n",
    "        current = new_node.next\n",
    "    # 2. Copy random pointers \n",
    "    current = head\n",
    "    while current:\n",
    "        current.next.random = current.random.next if current.random else None\n",
    "        current = current.next.next\n",
    "    # 3. Unweave the current list\n",
    "    result = head.next\n",
    "    ptr_old_list = head\n",
    "    ptr_new_list = head.next\n",
    "    while ptr_old_list:\n",
    "        ptr_old_list.next = ptr_old_list.next.next\n",
    "        ptr_new_list.next = ptr_new_list.next.next if ptr_new_list.next else None\n",
    "\n",
    "        ptr_old_list = ptr_old_list.next\n",
    "        ptr_new_list = ptr_new_list.next\n",
    "    return result"
   ]
  }
 ],
 "metadata": {
  "kernelspec": {
   "display_name": "Python 3 (ipykernel)",
   "language": "python",
   "name": "python3"
  },
  "language_info": {
   "codemirror_mode": {
    "name": "ipython",
    "version": 3
   },
   "file_extension": ".py",
   "mimetype": "text/x-python",
   "name": "python",
   "nbconvert_exporter": "python",
   "pygments_lexer": "ipython3",
   "version": "3.9.2"
  }
 },
 "nbformat": 4,
 "nbformat_minor": 5
}
