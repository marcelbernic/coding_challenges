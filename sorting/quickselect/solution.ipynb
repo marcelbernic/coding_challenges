{
 "cells": [
  {
   "cell_type": "markdown",
   "id": "00b1dcda",
   "metadata": {},
   "source": [
    "This notebook was prepared by [Marcel Bernic](https://github.com/marcelbernic)."
   ]
  },
  {
   "cell_type": "markdown",
   "id": "96bef8e2",
   "metadata": {},
   "source": [
    "# Challenge"
   ]
  },
  {
   "cell_type": "markdown",
   "id": "a795a619",
   "metadata": {},
   "source": [
    "## Problem: Quickselect\n",
    "\n",
    "* [Description](#Description)\n",
    "* [Algorithm](#Algorithm)\n",
    "* [Edge Cases](#Edge-Cases)\n",
    "* [Solution](#Solution)\n",
    "* [Unit Tests](#Unit-Tests)\n",
    "* [Hints](#Hints)\n",
    "* [References](#References)"
   ]
  },
  {
   "cell_type": "markdown",
   "id": "86fc0281",
   "metadata": {},
   "source": [
    "## Description\n",
    "\n",
    "Find Kth smallest element in an array. Solve the selection problem by recursive partition-based algorithm.\n",
    "\n",
    "Input: Subarray A[l..r] of array A[0..n-1] of orderable elements and integer k (1 <= k <= r - l + 1)\n",
    "\n",
    "Output: The value of the `Kth` smallest element in A[l..r]\n",
    "\n",
    "### Constraints\n",
    "\n",
    "* Can we assume that all entries are valid?\n",
    "    * Yes\n",
    "* Try to solve this in a time complexity better than `O(nlogn)`"
   ]
  },
  {
   "cell_type": "markdown",
   "id": "fa2a32b6",
   "metadata": {},
   "source": [
    "## Algorithm\n",
    "\n",
    "```\n",
    "s <- LomutoPartition(A[l..r]) // or another partition algorithm\n",
    "if s = k - 1 return A[s]\n",
    "else if s > l + k - 1 quickselect(A[l..s-1], k)\n",
    "else quickselect(A[s+1..r], k-s-1)\n",
    "```"
   ]
  },
  {
   "cell_type": "markdown",
   "id": "022d45ac",
   "metadata": {},
   "source": [
    "## Edge Cases\n",
    "\n",
    "* Empty list\n",
    "* The list is sorted"
   ]
  },
  {
   "cell_type": "markdown",
   "id": "ca0e2782",
   "metadata": {},
   "source": [
    "## Solution"
   ]
  },
  {
   "cell_type": "code",
   "execution_count": 51,
   "id": "121a41b2",
   "metadata": {},
   "outputs": [],
   "source": [
    "from typing import List\n",
    "\n",
    "# implement lomuto first see: \"\"/sorting/lomuto_partition/solution.ipynb\"\n",
    "def lomuto_partition(array: List[int], l: int, r: int) -> int:\n",
    "    if len(array) == 0:\n",
    "        return None\n",
    "    p, s = array[l], l\n",
    "    for i in range(l+1, r+1):\n",
    "        if array[i] < p:\n",
    "            s += 1\n",
    "            array[s], array[i] = array[i], array[s]\n",
    "    \n",
    "    array[l], array[s] = array[s], array[l]\n",
    "    return s\n",
    "\n",
    "\n",
    "def quickselect(a: List[int], k: int) -> int:\n",
    "    return quickselect_rec(a, 0, len(a)-1, k)\n",
    "\n",
    "def quickselect_rec(a: List[int], l, r, k: int) -> int:\n",
    "    print(f\"Called recursively for: {a} - l:{l} - r:{r} - k:{k}\")\n",
    "    s = lomuto_partition(a, l, r)\n",
    "    print(f\"s-l: {s-l}\")\n",
    "    if s-l == k - 1: \n",
    "        return a[s]\n",
    "    elif s > l + k - 1:\n",
    "        return quickselect_rec(a, l, s-1, k)\n",
    "    else:\n",
    "        return quickselect_rec(a, s+1, r, k-1-(s-l))"
   ]
  },
  {
   "cell_type": "markdown",
   "id": "ed5da62b",
   "metadata": {},
   "source": [
    "## Unit Tests"
   ]
  },
  {
   "cell_type": "code",
   "execution_count": 58,
   "id": "a09c4dba",
   "metadata": {},
   "outputs": [
    {
     "name": "stdout",
     "output_type": "stream",
     "text": [
      "Overwriting test_challenge.py\n"
     ]
    }
   ],
   "source": [
    "%%writefile test_challenge.py\n",
    "\n",
    "import unittest\n",
    "\n",
    "\n",
    "class TestChallenge(unittest.TestCase):\n",
    "\n",
    "    def test_challenge(self):\n",
    "        print('Sorted array asc')\n",
    "        self.assertEqual(quickselect([0, 1, 2, 3, 4, 5, 6], 4), 3)\n",
    "        print('Sorted array desc')\n",
    "        self.assertEqual(quickselect([6, 5, 4, 3, 2, 1, 0], 4), 3)\n",
    "        print('One element array')\n",
    "        self.assertEqual(quickselect([1], 1), 1)\n",
    "        print('Unsorted array - first element')\n",
    "        self.assertEqual(quickselect([9, 4, 6, 1, 2, 7, 5, 3, 8], 1), 1)\n",
    "        print('Unsorted array - last element')\n",
    "        self.assertEqual(quickselect([9, 4, 6, 1, 2, 7, 5, 3, 8], 9), 9)\n",
    "        print('Unsorted array - middle element')\n",
    "        self.assertEqual(quickselect([9, 4, 6, 1, 2, 7, 5, 3, 8], 4), 4)\n",
    "        print('Success: quickselect')\n",
    "\n",
    "\n",
    "def main():\n",
    "    test = TestChallenge()\n",
    "    test.test_challenge()\n",
    "\n",
    "\n",
    "if __name__ == '__main__':\n",
    "    main()"
   ]
  },
  {
   "cell_type": "code",
   "execution_count": 59,
   "id": "18f55620",
   "metadata": {},
   "outputs": [
    {
     "name": "stdout",
     "output_type": "stream",
     "text": [
      "Sorted array asc\n",
      "Called recursively for: [0, 1, 2, 3, 4, 5, 6] - l:0 - r:6 - k:4\n",
      "s-l: 0\n",
      "Called recursively for: [0, 1, 2, 3, 4, 5, 6] - l:1 - r:6 - k:3\n",
      "s-l: 0\n",
      "Called recursively for: [0, 1, 2, 3, 4, 5, 6] - l:2 - r:6 - k:2\n",
      "s-l: 0\n",
      "Called recursively for: [0, 1, 2, 3, 4, 5, 6] - l:3 - r:6 - k:1\n",
      "s-l: 0\n",
      "Sorted array desc\n",
      "Called recursively for: [6, 5, 4, 3, 2, 1, 0] - l:0 - r:6 - k:4\n",
      "s-l: 6\n",
      "Called recursively for: [0, 5, 4, 3, 2, 1, 6] - l:0 - r:5 - k:4\n",
      "s-l: 0\n",
      "Called recursively for: [0, 5, 4, 3, 2, 1, 6] - l:1 - r:5 - k:3\n",
      "s-l: 4\n",
      "Called recursively for: [0, 1, 4, 3, 2, 5, 6] - l:1 - r:4 - k:3\n",
      "s-l: 0\n",
      "Called recursively for: [0, 1, 4, 3, 2, 5, 6] - l:2 - r:4 - k:2\n",
      "s-l: 2\n",
      "Called recursively for: [0, 1, 2, 3, 4, 5, 6] - l:2 - r:3 - k:2\n",
      "s-l: 0\n",
      "Called recursively for: [0, 1, 2, 3, 4, 5, 6] - l:3 - r:3 - k:1\n",
      "s-l: 0\n",
      "One element array\n",
      "Called recursively for: [1] - l:0 - r:0 - k:1\n",
      "s-l: 0\n",
      "Unsorted array - first element\n",
      "Called recursively for: [9, 4, 6, 1, 2, 7, 5, 3, 8] - l:0 - r:8 - k:1\n",
      "s-l: 8\n",
      "Called recursively for: [8, 4, 6, 1, 2, 7, 5, 3, 9] - l:0 - r:7 - k:1\n",
      "s-l: 7\n",
      "Called recursively for: [3, 4, 6, 1, 2, 7, 5, 8, 9] - l:0 - r:6 - k:1\n",
      "s-l: 2\n",
      "Called recursively for: [2, 1, 3, 4, 6, 7, 5, 8, 9] - l:0 - r:1 - k:1\n",
      "s-l: 1\n",
      "Called recursively for: [1, 2, 3, 4, 6, 7, 5, 8, 9] - l:0 - r:0 - k:1\n",
      "s-l: 0\n",
      "Unsorted array - last element\n",
      "Called recursively for: [9, 4, 6, 1, 2, 7, 5, 3, 8] - l:0 - r:8 - k:9\n",
      "s-l: 8\n",
      "Unsorted array - middle element\n",
      "Called recursively for: [9, 4, 6, 1, 2, 7, 5, 3, 8] - l:0 - r:8 - k:4\n",
      "s-l: 8\n",
      "Called recursively for: [8, 4, 6, 1, 2, 7, 5, 3, 9] - l:0 - r:7 - k:4\n",
      "s-l: 7\n",
      "Called recursively for: [3, 4, 6, 1, 2, 7, 5, 8, 9] - l:0 - r:6 - k:4\n",
      "s-l: 2\n",
      "Called recursively for: [2, 1, 3, 4, 6, 7, 5, 8, 9] - l:3 - r:6 - k:1\n",
      "s-l: 0\n",
      "Success: quickselect\n"
     ]
    }
   ],
   "source": [
    "%run -i test_challenge.py"
   ]
  },
  {
   "cell_type": "markdown",
   "id": "c0d8b8d6",
   "metadata": {},
   "source": [
    "## Hints\n",
    "\n",
    "<details>\n",
    "  <summary>Hint 1</summary>\n",
    "  --> What if we sort first the entries? How about the time complexity in this case?\n",
    "</details>\n",
    "\n",
    "<details>\n",
    "  <summary>Hint 2</summary>\n",
    "  --> How can we use `Lomuto Partitioning` algorithm in order to solve this problem. After applying `Lomuto` on the entered array there are 3 possibilities. Try to list those possibilities.\n",
    "</details>"
   ]
  },
  {
   "cell_type": "markdown",
   "id": "285d9801",
   "metadata": {},
   "source": [
    "## References\n",
    "\n",
    "* link to [LeetCode](https://leetcode.com/)\n",
    "* link to blog posts\n",
    "* Author Surname, X., **Book title**. 3rd ed. [Pearson 2099] --> _Section: 1.2, p.123_"
   ]
  }
 ],
 "metadata": {
  "kernelspec": {
   "display_name": "Python 3 (ipykernel)",
   "language": "python",
   "name": "python3"
  },
  "language_info": {
   "codemirror_mode": {
    "name": "ipython",
    "version": 3
   },
   "file_extension": ".py",
   "mimetype": "text/x-python",
   "name": "python",
   "nbconvert_exporter": "python",
   "pygments_lexer": "ipython3",
   "version": "3.9.2"
  }
 },
 "nbformat": 4,
 "nbformat_minor": 5
}
