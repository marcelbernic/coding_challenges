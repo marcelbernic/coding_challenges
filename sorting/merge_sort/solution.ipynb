{
 "cells": [
  {
   "cell_type": "markdown",
   "id": "00b1dcda",
   "metadata": {},
   "source": [
    "This notebook was prepared by [Marcel Bernic](https://github.com/marcelbernic)."
   ]
  },
  {
   "cell_type": "markdown",
   "id": "96bef8e2",
   "metadata": {},
   "source": [
    "# Challenge"
   ]
  },
  {
   "cell_type": "markdown",
   "id": "a795a619",
   "metadata": {},
   "source": [
    "## Problem: Implement Merge Sort\n",
    "\n",
    "* [Description](#Description)\n",
    "* [Algorithm](#Algorithm)\n",
    "* [Edge Cases](#Edge-Cases)\n",
    "* [Solution](#Solution)\n",
    "* [Unit Tests](#Unit-Tests)\n",
    "* [Hints](#Hints)\n",
    "* [References](#References)"
   ]
  },
  {
   "cell_type": "markdown",
   "id": "86fc0281",
   "metadata": {},
   "source": [
    "## Description\n",
    "\n",
    "Given an array of integers, sort the array in the ascending order using `Merge Sort`.\n",
    "\n",
    "Algorithm demonstration: ![Merge Sort](./Merge-sort-example-300px.gif)\n",
    "\n",
    "### Constraints\n",
    "\n",
    "* Is an empty array a valid case?\n",
    "    * Yes"
   ]
  },
  {
   "cell_type": "markdown",
   "id": "fa2a32b6",
   "metadata": {},
   "source": [
    "## Algorithm\n",
    "\n",
    "1. Split the initial array in two parts\n",
    "\n",
    "2. Recursively sort each part separately\n",
    "\n",
    "3. Merge both parts keeping the order"
   ]
  },
  {
   "cell_type": "markdown",
   "id": "022d45ac",
   "metadata": {},
   "source": [
    "## Edge Cases\n",
    "\n",
    "* Empty list\n",
    "* Sorted array\n",
    "* One element array"
   ]
  },
  {
   "cell_type": "markdown",
   "id": "ca0e2782",
   "metadata": {},
   "source": [
    "## Solution"
   ]
  },
  {
   "cell_type": "code",
   "execution_count": 32,
   "id": "121a41b2",
   "metadata": {},
   "outputs": [],
   "source": [
    "from typing import List\n",
    "\n",
    "def merge(B: List[int], C: List[int], A: List[int]):\n",
    "    i, j, k = 0, 0, 0\n",
    "    p, q = len(B), len(C)\n",
    "    while (i < p) and (j < q):\n",
    "        if B[i] < C[j]:\n",
    "            A[k] = B[i]\n",
    "            i += 1\n",
    "        else:\n",
    "            A[k] = C[j]\n",
    "            j += 1\n",
    "        k += 1\n",
    "    A[k:p+q] = C[j:q] if i == p else B[i:p]\n",
    "        \n",
    "\n",
    "def merge_sort(A: List[int]):\n",
    "    n = len(A)\n",
    "    if n > 1:\n",
    "        B = A[:n // 2]\n",
    "        C = A[n // 2:]\n",
    "        merge_sort(B)\n",
    "        merge_sort(C)\n",
    "        merge(B, C, A)"
   ]
  },
  {
   "cell_type": "markdown",
   "id": "ed5da62b",
   "metadata": {},
   "source": [
    "## Unit Tests"
   ]
  },
  {
   "cell_type": "code",
   "execution_count": 1,
   "id": "a09c4dba",
   "metadata": {},
   "outputs": [
    {
     "name": "stdout",
     "output_type": "stream",
     "text": [
      "Overwriting test_challenge.py\n"
     ]
    }
   ],
   "source": [
    "%%writefile test_challenge.py\n",
    "\n",
    "import unittest\n",
    "\n",
    "\n",
    "class TestChallenge(unittest.TestCase):\n",
    "\n",
    "    def test_challenge(self):\n",
    "        print(\"Test case: empty array\")\n",
    "        A = []\n",
    "        merge_sort(A)\n",
    "        self.assertEqual(A, [])\n",
    "        print(\"Test case: one element array\")\n",
    "        A = [1]\n",
    "        merge_sort(A)\n",
    "        self.assertEqual(A, [1])\n",
    "        print(\"Test case: two element array\")\n",
    "        A = [7, 3]\n",
    "        merge_sort(A)\n",
    "        self.assertEqual(A, [3, 7])\n",
    "        print(\"Test case: multiple element array\")\n",
    "        A = [1, 4, 8, 2, 9, 5, 6, 7, 3]\n",
    "        merge_sort(A)\n",
    "        self.assertEqual(A, [1, 2, 3, 4, 5, 6, 7, 8, 9])\n",
    " \n",
    "        print('Success: merge_sort')\n",
    "\n",
    "\n",
    "def main():\n",
    "    test = TestChallenge()\n",
    "    test.test_challenge()\n",
    "\n",
    "\n",
    "if __name__ == '__main__':\n",
    "    main()"
   ]
  },
  {
   "cell_type": "code",
   "execution_count": 34,
   "id": "18f55620",
   "metadata": {
    "scrolled": true
   },
   "outputs": [
    {
     "name": "stdout",
     "output_type": "stream",
     "text": [
      "Test case: empty array\n",
      "Test case: one element array\n",
      "Test case: two element array\n",
      "Test case: multiple element array\n",
      "Success: merge_sort\n"
     ]
    }
   ],
   "source": [
    "%run -i test_challenge.py"
   ]
  },
  {
   "cell_type": "markdown",
   "id": "c0d8b8d6",
   "metadata": {},
   "source": [
    "## Hints\n",
    "\n",
    "<details>\n",
    "  <summary>Hint 1</summary>\n",
    "  --> What is the base case for this recursive algorithm?\n",
    "</details>\n",
    "<details>\n",
    "  <summary>Hint 2</summary>\n",
    "  --> For simplicity, you can merge the arrays using extra space. Don't try to do all the mergin in place?\n",
    "</details>"
   ]
  },
  {
   "cell_type": "markdown",
   "id": "285d9801",
   "metadata": {},
   "source": [
    "## References\n",
    "\n",
    "* Levitin, A., **Introduction to the Design and Analysis of Algorithms.** 3rd ed. [Pearson 2012] --> _Section: 5.1"
   ]
  }
 ],
 "metadata": {
  "kernelspec": {
   "display_name": "Python 3 (ipykernel)",
   "language": "python",
   "name": "python3"
  },
  "language_info": {
   "codemirror_mode": {
    "name": "ipython",
    "version": 3
   },
   "file_extension": ".py",
   "mimetype": "text/x-python",
   "name": "python",
   "nbconvert_exporter": "python",
   "pygments_lexer": "ipython3",
   "version": "3.9.2"
  }
 },
 "nbformat": 4,
 "nbformat_minor": 5
}
