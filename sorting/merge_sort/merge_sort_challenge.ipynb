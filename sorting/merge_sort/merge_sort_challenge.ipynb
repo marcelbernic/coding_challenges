{
 "cells": [
  {
   "cell_type": "markdown",
   "id": "00b1dcda",
   "metadata": {},
   "source": [
    "This notebook was prepared by [Author](https://github.com/)."
   ]
  },
  {
   "cell_type": "markdown",
   "id": "96bef8e2",
   "metadata": {},
   "source": [
    "# Challenge"
   ]
  },
  {
   "cell_type": "markdown",
   "id": "a795a619",
   "metadata": {},
   "source": [
    "## Problem: Merge sort\n",
    "\n",
    "* [Description](#Description)\n",
    "* [Algorithm](#Algorithm)\n",
    "* [Edge Cases](#Test-Cases)\n",
    "* [Code](#Code)\n",
    "* [Unit Test](#Unit-Test)\n",
    "* [Hints](#Hints)\n",
    "* [Solution](#Solution)\n",
    "* [References](#References)"
   ]
  },
  {
   "cell_type": "markdown",
   "id": "86fc0281",
   "metadata": {},
   "source": [
    "## Description\n",
    "\n",
    "Implement merge sort\n",
    "\n",
    "### Constraints\n",
    "\n",
    "* Can we assume that all entries are valid?\n",
    "    * Yes"
   ]
  },
  {
   "cell_type": "markdown",
   "id": "fa2a32b6",
   "metadata": {},
   "source": [
    "## Algorithm\n",
    "\n",
    "1. split array in two\n",
    "2. "
   ]
  },
  {
   "cell_type": "markdown",
   "id": "022d45ac",
   "metadata": {},
   "source": [
    "## Edge cases\n",
    "\n",
    "Think about the possible edge cases. Try to list all the corner cases you can think of.\n",
    "\n",
    "* Empty list\n",
    "* List with the same element (with duplicates)"
   ]
  },
  {
   "cell_type": "markdown",
   "id": "ca0e2782",
   "metadata": {},
   "source": [
    "## Code"
   ]
  },
  {
   "cell_type": "code",
   "execution_count": 12,
   "id": "121a41b2",
   "metadata": {},
   "outputs": [],
   "source": [
    "from typing import List\n",
    "def merge_sort(nums: List[int]):\n",
    "    pass\n",
    "\n",
    "def merge(a: List[int], a1: List[int], a2: List[int]):\n",
    "    pass\n"
   ]
  },
  {
   "cell_type": "markdown",
   "id": "ed5da62b",
   "metadata": {},
   "source": [
    "## Unit tests"
   ]
  },
  {
   "cell_type": "code",
   "execution_count": 13,
   "id": "a09c4dba",
   "metadata": {},
   "outputs": [
    {
     "name": "stdout",
     "output_type": "stream",
     "text": [
      "Test case: empty array\n",
      "Test case: one element array\n",
      "Test case: two element array\n",
      "Test case: multiple element array\n",
      "Success: merge_sort\n"
     ]
    }
   ],
   "source": [
    "# %load test_challenge.py\n",
    "\n",
    "\n",
    "import unittest\n",
    "\n",
    "\n",
    "class TestChallenge(unittest.TestCase):\n",
    "\n",
    "    def test_challenge(self):\n",
    "        print(\"Test case: empty array\")\n",
    "        A = []\n",
    "        merge_sort(A)\n",
    "        self.assertEqual(A, [])\n",
    "        print(\"Test case: one element array\")\n",
    "        A = [1]\n",
    "        merge_sort(A)\n",
    "        self.assertEqual(A, [1])\n",
    "        print(\"Test case: two element array\")\n",
    "        A = [7, 3]\n",
    "        merge_sort(A)\n",
    "        self.assertEqual(A, [3, 7])\n",
    "        print(\"Test case: multiple element array\")\n",
    "        A = [1, 4, 8, 2, 9, 5, 6, 7, 3]\n",
    "        merge_sort(A)\n",
    "        self.assertEqual(A, [1, 2, 3, 4, 5, 6, 7, 8, 9])\n",
    " \n",
    "        print('Success: merge_sort')\n",
    "\n",
    "\n",
    "def main():\n",
    "    test = TestChallenge()\n",
    "    test.test_challenge()\n",
    "\n",
    "\n",
    "if __name__ == '__main__':\n",
    "    main()\n"
   ]
  },
  {
   "cell_type": "markdown",
   "id": "7430fd6b",
   "metadata": {},
   "source": [
    "## Hints\n",
    "\n",
    "<details>\n",
    "  <summary>Hint 1</summary>\n",
    "  --> What if we sort first the entries?\n",
    "</details>\n",
    "\n",
    "<details>\n",
    "  <summary>Hint 2</summary>\n",
    "  --> Think about different ways to traverse a graph.\n",
    "</details>"
   ]
  },
  {
   "cell_type": "markdown",
   "id": "b6cb0524",
   "metadata": {},
   "source": [
    "## Solution\n",
    "\n",
    "Review the [Solution](./solution_template.ipynb) for possible solutions."
   ]
  },
  {
   "cell_type": "markdown",
   "id": "285d9801",
   "metadata": {},
   "source": [
    "## References\n",
    "\n",
    "* link to [LeetCode](https://leetcode.com/)\n",
    "* link to youtube video\n",
    "* link to Book chapter"
   ]
  }
 ],
 "metadata": {
  "kernelspec": {
   "display_name": "Python 3 (ipykernel)",
   "language": "python",
   "name": "python3"
  },
  "language_info": {
   "codemirror_mode": {
    "name": "ipython",
    "version": 3
   },
   "file_extension": ".py",
   "mimetype": "text/x-python",
   "name": "python",
   "nbconvert_exporter": "python",
   "pygments_lexer": "ipython3",
   "version": "3.9.2"
  }
 },
 "nbformat": 4,
 "nbformat_minor": 5
}
