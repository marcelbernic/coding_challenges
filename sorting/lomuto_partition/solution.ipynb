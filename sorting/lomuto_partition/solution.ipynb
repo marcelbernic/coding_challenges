{
 "cells": [
  {
   "cell_type": "markdown",
   "id": "00b1dcda",
   "metadata": {},
   "source": [
    "This notebook was prepared by [Marcel Bernic](https://github.com/marcelbernic)."
   ]
  },
  {
   "cell_type": "markdown",
   "id": "96bef8e2",
   "metadata": {},
   "source": [
    "# Challenge"
   ]
  },
  {
   "cell_type": "markdown",
   "id": "a795a619",
   "metadata": {},
   "source": [
    "## Problem: Lomuto paritioning\n",
    "\n",
    "* [Description](#Description)\n",
    "* [Algorithm](#Algorithm)\n",
    "* [Edge Cases](#Edge-Cases)\n",
    "* [Solution](#Solution)\n",
    "* [Unit Tests](#Unit-Tests)\n",
    "* [Hints](#Hints)\n",
    "* [References](#References)"
   ]
  },
  {
   "cell_type": "markdown",
   "id": "86fc0281",
   "metadata": {},
   "source": [
    "## Description\n",
    "\n",
    "Implement `Lomuto Partition` algorithm. This algorithm can be used to find the `K` smallest or greatest element in a list of sortable elements.\n",
    "\n",
    "### Constraints\n",
    "\n",
    "* The input array can be empty?\n",
    "    * Yes\n",
    "* Can we assume that there are no duplicates?\n",
    "    * Yes"
   ]
  },
  {
   "cell_type": "markdown",
   "id": "fa2a32b6",
   "metadata": {},
   "source": [
    "## Algorithm\n",
    "\n",
    "Think about a subarray A[l..r] (0 <= l <= r <= n - 1) composed of three contiguous segments. After partitioning the array will be composed by the next segments (in order):\n",
    "1. a segment with elements known to be smaller than p\n",
    "2. the element p\n",
    "3. a segment with elements greater than or equal to p\n",
    "\n",
    "Starting with `i = l + 1`, scan the subarray `A[l..r]` left to right, maintaining the order described in the three steps above until a partition is achieved.\n",
    "\n",
    "On each iteration, compare the first element in the unknown segment (pointed by the scanning index ex `i`) with the pivot `p`. If `A[i] >= p`, `i` is simply incremented. If `A[i] < p`, it is the segment of the elements smaller than `p` that needs to be expanded (swap `A[i]` and `A[s]` and then increment `i`). After no unprocessed elements remain, swap the pivot with `A[s]` to achieve the partition."
   ]
  },
  {
   "cell_type": "markdown",
   "id": "022d45ac",
   "metadata": {},
   "source": [
    "## Edge Cases\n",
    "\n",
    "Think about the possible edge cases. Try to list all the corner cases you can think of.\n",
    "\n",
    "* Possible overflow for X values\n",
    "* Empty list\n",
    "* ..."
   ]
  },
  {
   "cell_type": "markdown",
   "id": "ca0e2782",
   "metadata": {},
   "source": [
    "## Solution"
   ]
  },
  {
   "cell_type": "code",
   "execution_count": 38,
   "id": "121a41b2",
   "metadata": {},
   "outputs": [],
   "source": [
    "from typing import List\n",
    "\n",
    "def lomuto_partition(array: List[int], l: int, r: int) -> int:\n",
    "    if len(array) == 0:\n",
    "        return None\n",
    "    \n",
    "    p, s = array[l], l\n",
    "    for i in range(l+1, r+1):\n",
    "        if array[i] < p:\n",
    "            s += 1\n",
    "            array[s], array[i] = array[i], array[s]\n",
    "    \n",
    "    array[l], array[s] = array[s], array[l]\n",
    "    return s"
   ]
  },
  {
   "cell_type": "markdown",
   "id": "ed5da62b",
   "metadata": {},
   "source": [
    "## Unit Tests"
   ]
  },
  {
   "cell_type": "code",
   "execution_count": 41,
   "id": "a09c4dba",
   "metadata": {},
   "outputs": [
    {
     "name": "stdout",
     "output_type": "stream",
     "text": [
      "Overwriting test_challenge.py\n"
     ]
    }
   ],
   "source": [
    "%%writefile test_challenge.py\n",
    "\n",
    "import unittest\n",
    "\n",
    "class TestChallenge(unittest.TestCase):\n",
    "\n",
    "    def test_challenge(self):\n",
    "        print('Test: Empty array')\n",
    "        self.assertEqual(lomuto_partition([], 0, 0), None)\n",
    "        print('Test: One element array')\n",
    "        self.assertEqual(lomuto_partition([0], 0, 0), 0)\n",
    "        print('Test: Sorted array')\n",
    "        self.assertEqual(lomuto_partition([5, 2, 3, 4, 1, 6, 7, 8, 9], 0, 8), 4)\n",
    "        print('Test: Random array')\n",
    "        self.assertEqual(lomuto_partition([6, 2, 4, 9, 5, 3, 1, 7, 8], 0, 8), 5)\n",
    "        print('Success: lomuto_partition')\n",
    "\n",
    "def main():\n",
    "    test = TestChallenge()\n",
    "    test.test_challenge()\n",
    "\n",
    "if __name__ == '__main__':\n",
    "    main()"
   ]
  },
  {
   "cell_type": "code",
   "execution_count": 42,
   "id": "18f55620",
   "metadata": {},
   "outputs": [
    {
     "name": "stdout",
     "output_type": "stream",
     "text": [
      "Test: Empty array\n",
      "Test: One element array\n",
      "Test: Sorted array\n",
      "Test: Random array\n",
      "Success: lomuto_partition\n"
     ]
    }
   ],
   "source": [
    "%run -i test_challenge.py"
   ]
  },
  {
   "cell_type": "markdown",
   "id": "c0d8b8d6",
   "metadata": {},
   "source": [
    "## Hints\n",
    "\n",
    "<details>\n",
    "  <summary>Hint 1</summary>\n",
    "  --> Think about splitting the array in multiple segments?\n",
    "</details>"
   ]
  },
  {
   "cell_type": "markdown",
   "id": "285d9801",
   "metadata": {},
   "source": [
    "## References\n",
    "\n",
    "* Levitin, A., **Introduction to the Design and Analysis of Algorithms.** 3rd ed. [Pearson 2012] --> _Section: 4.5, p.158_"
   ]
  }
 ],
 "metadata": {
  "kernelspec": {
   "display_name": "Python 3 (ipykernel)",
   "language": "python",
   "name": "python3"
  },
  "language_info": {
   "codemirror_mode": {
    "name": "ipython",
    "version": 3
   },
   "file_extension": ".py",
   "mimetype": "text/x-python",
   "name": "python",
   "nbconvert_exporter": "python",
   "pygments_lexer": "ipython3",
   "version": "3.9.2"
  }
 },
 "nbformat": 4,
 "nbformat_minor": 5
}
