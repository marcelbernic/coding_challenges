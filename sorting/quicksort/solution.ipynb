{
 "cells": [
  {
   "cell_type": "markdown",
   "id": "00b1dcda",
   "metadata": {},
   "source": [
    "This notebook was prepared by [Marcel Bernic](https://github.com/marcelbernic)."
   ]
  },
  {
   "cell_type": "markdown",
   "id": "96bef8e2",
   "metadata": {},
   "source": [
    "# Challenge"
   ]
  },
  {
   "cell_type": "markdown",
   "id": "a795a619",
   "metadata": {},
   "source": [
    "## Problem: Implement Quicksort\n",
    "* [Description](#Description)\n",
    "* [Algorithm](#Algorithm)\n",
    "* [Edge Cases](#Edge-Cases)\n",
    "* [Solution](#Solution)\n",
    "* [Unit Tests](#Unit-Tests)\n",
    "* [Hints](#Hints)\n",
    "* [References](#References)"
   ]
  },
  {
   "cell_type": "markdown",
   "id": "86fc0281",
   "metadata": {},
   "source": [
    "## Description\n",
    "\n",
    "[Insert problem description here]\n",
    "\n",
    "### Constraints\n",
    "\n",
    "* Can we assume that all entries are valid?\n",
    "    * Yes"
   ]
  },
  {
   "cell_type": "markdown",
   "id": "fa2a32b6",
   "metadata": {},
   "source": [
    "## Algorithm\n",
    "\n",
    "Describe the algorithm with your own words. "
   ]
  },
  {
   "cell_type": "markdown",
   "id": "022d45ac",
   "metadata": {},
   "source": [
    "## Edge Cases\n",
    "\n",
    "Think about the possible edge cases. Try to list all the corner cases you can think of.\n",
    "\n",
    "* Possible overflow for X values\n",
    "* Empty list\n",
    "* ..."
   ]
  },
  {
   "cell_type": "markdown",
   "id": "ca0e2782",
   "metadata": {},
   "source": [
    "## Solution"
   ]
  },
  {
   "cell_type": "code",
   "execution_count": 48,
   "id": "121a41b2",
   "metadata": {},
   "outputs": [],
   "source": [
    "from typing import List\n",
    "    \n",
    "def hoare_partition(A: List[int], l: int, r: int) -> int:\n",
    "    p = A[(l + r) // 2] \n",
    "    i, j = l, r\n",
    "    while True:\n",
    "        while A[i] < p: \n",
    "            i += 1\n",
    "        while A[j] > p:\n",
    "            j -= 1\n",
    "        if i >= j:\n",
    "            return j\n",
    "        A[i], A[j] = A[j], A[i]\n",
    "\n",
    "def _quicksort(A: List[int], l: int, r: int):\n",
    "    if l < r:\n",
    "        s = hoare_partition(A, l, r)\n",
    "        _quicksort(A, l, s-1)\n",
    "        _quicksort(A, s+1, r)\n",
    "    \n",
    "    return A\n",
    "\n",
    "def quicksort(A: List[int]):\n",
    "    return _quicksort(A, 0, len(A)-1)"
   ]
  },
  {
   "cell_type": "markdown",
   "id": "ed5da62b",
   "metadata": {},
   "source": [
    "## Unit Tests"
   ]
  },
  {
   "cell_type": "code",
   "execution_count": 45,
   "id": "a09c4dba",
   "metadata": {},
   "outputs": [
    {
     "name": "stdout",
     "output_type": "stream",
     "text": [
      "Overwriting test_challenge.py\n"
     ]
    }
   ],
   "source": [
    "%%writefile test_challenge.py\n",
    "\n",
    "import unittest\n",
    "\n",
    "class TestChallenge(unittest.TestCase):\n",
    "\n",
    "    def test_challenge(self):\n",
    "        print(\"Test case: empty array\")\n",
    "        self.assertEqual(quicksort([]), [])\n",
    "        print(\"Test case: one element array\")\n",
    "        self.assertEqual(quicksort([1]), [1])\n",
    "        print(\"Test case: two element array\")\n",
    "        self.assertEqual(quicksort([7, 3]), [3, 7])\n",
    "        print(\"Test case: multiple element array\")\n",
    "        self.assertEqual(quicksort([1, 4, 8, 2, 9, 5, 6, 7, 3]), [1, 2, 3, 4, 5, 6, 7, 8, 9])\n",
    " \n",
    "        print('Success: quicksort')\n",
    "\n",
    "def main():\n",
    "    test = TestChallenge()\n",
    "    test.test_challenge()\n",
    "\n",
    "\n",
    "if __name__ == '__main__':\n",
    "    main()"
   ]
  },
  {
   "cell_type": "code",
   "execution_count": 47,
   "id": "18f55620",
   "metadata": {},
   "outputs": [
    {
     "name": "stdout",
     "output_type": "stream",
     "text": [
      "Test case: empty array\n",
      "Test case: one element array\n",
      "Test case: two element array\n",
      "Test case: multiple element array\n",
      "Success: quicksort\n"
     ]
    }
   ],
   "source": [
    "%run -i test_challenge.py"
   ]
  },
  {
   "cell_type": "markdown",
   "id": "c0d8b8d6",
   "metadata": {},
   "source": [
    "## Hints\n",
    "\n",
    "<details>\n",
    "  <summary>Hint 1</summary>\n",
    "  --> Think about a partitioning algorithm and recursion\n",
    "</details>"
   ]
  },
  {
   "cell_type": "markdown",
   "id": "285d9801",
   "metadata": {},
   "source": [
    "## References\n",
    "\n",
    "* Levitin, A., **Introduction to the Design and Analysis of Algorithms.** 3rd ed. [Pearson 2012] --> _Section: 5.2"
   ]
  }
 ],
 "metadata": {
  "kernelspec": {
   "display_name": "Python 3 (ipykernel)",
   "language": "python",
   "name": "python3"
  },
  "language_info": {
   "codemirror_mode": {
    "name": "ipython",
    "version": 3
   },
   "file_extension": ".py",
   "mimetype": "text/x-python",
   "name": "python",
   "nbconvert_exporter": "python",
   "pygments_lexer": "ipython3",
   "version": "3.9.2"
  }
 },
 "nbformat": 4,
 "nbformat_minor": 5
}
