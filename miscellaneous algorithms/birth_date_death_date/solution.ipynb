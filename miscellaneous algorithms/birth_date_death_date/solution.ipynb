{
 "cells": [
  {
   "cell_type": "markdown",
   "id": "00b1dcda",
   "metadata": {},
   "source": [
    "This notebook was prepared by [Author](https://github.com/)."
   ]
  },
  {
   "cell_type": "markdown",
   "id": "96bef8e2",
   "metadata": {},
   "source": [
    "# Challenge"
   ]
  },
  {
   "cell_type": "markdown",
   "id": "a795a619",
   "metadata": {},
   "source": [
    "## Problem: Most dense population\n",
    "\n",
    "* [Description](#Description)\n",
    "* [Algorithm](#Algorithm)\n",
    "* [Edge Cases](#Edge-Cases)\n",
    "* [Solution](#Solution)\n",
    "* [Unit Tests](#Unit-Tests)\n",
    "* [Hints](#Hints)\n",
    "* [References](#References)"
   ]
  },
  {
   "cell_type": "markdown",
   "id": "86fc0281",
   "metadata": {},
   "source": [
    "## Description\n",
    "\n",
    "Given a list of people with their birth date and death date, write an algorithm who returns the year with the most people alive.\n",
    "\n",
    "### Constraints\n",
    "\n",
    "* Can we assume that all entries are valid?\n",
    "    * Yes"
   ]
  },
  {
   "cell_type": "markdown",
   "id": "fa2a32b6",
   "metadata": {},
   "source": [
    "## Algorithm\n",
    "\n",
    "Describe the algorithm with your own words. "
   ]
  },
  {
   "cell_type": "markdown",
   "id": "022d45ac",
   "metadata": {},
   "source": [
    "## Edge Cases\n",
    "\n",
    "Think about the possible edge cases. Try to list all the corner cases you can think of.\n",
    "\n",
    "* All the people live in the same time"
   ]
  },
  {
   "cell_type": "markdown",
   "id": "ca0e2782",
   "metadata": {},
   "source": [
    "## Solution"
   ]
  },
  {
   "cell_type": "code",
   "execution_count": 7,
   "id": "121a41b2",
   "metadata": {},
   "outputs": [],
   "source": [
    "from typing import List, Tuple\n",
    "import numpy as np\n",
    " \n",
    "def birth_date_death_date(people: List[Tuple[int, int]]) -> int:\n",
    "    if not people:\n",
    "        return None\n",
    "    \n",
    "    firstBirth = _getMinBirth(people) # TODO: use lambda to calculate that\n",
    "    lastBirth = _getMaxBirth(people) # TODO: use lambda to calculate that\n",
    "    \n",
    "    deltas = _getDeltas(people, firstBirth, lastBirth)\n",
    "    peakYearOffset = _getMaxRunningSumIndex(deltas)\n",
    "    \n",
    "    return peakYearOffset + firstBirth\n",
    "\n",
    "def _getDeltas(people: List[Tuple[int, int]], firstBirth: int, lastBirth: int) -> List[int]:\n",
    "    deltas = np.zeros(lastBirth - firstBirth + 1)\n",
    "    for person in people:\n",
    "        addDelta(deltas, person[0] - firstBirth, 1)\n",
    "        addDelta(deltas, person[1] + 1 - firstBirth, -1)\n",
    "    return deltas\n",
    "\n",
    "def _getMaxRunningSumIndex(deltas: List[int]):\n",
    "    runningSum = 0\n",
    "    maxRunningSum = 0\n",
    "    yearOfPeak = 0\n",
    "    for i, year in enumerate(deltas):\n",
    "        runningSum += year\n",
    "        if runningSum > maxRunningSum:\n",
    "            maxRunningSum = runningSum\n",
    "            yearOfPeak = i\n",
    "    return yearOfPeak"
   ]
  },
  {
   "cell_type": "markdown",
   "id": "ed5da62b",
   "metadata": {},
   "source": [
    "## Unit Tests"
   ]
  },
  {
   "cell_type": "code",
   "execution_count": 4,
   "id": "a09c4dba",
   "metadata": {},
   "outputs": [
    {
     "name": "stdout",
     "output_type": "stream",
     "text": [
      "Overwriting test_challenge.py\n"
     ]
    }
   ],
   "source": [
    "%%writefile test_challenge.py\n",
    "\n",
    "import unittest\n",
    "\n",
    "\n",
    "class TestChallenge(unittest.TestCase):\n",
    "\n",
    "    def test_challenge(self):\n",
    "        self.assertEqual(birth_date_death_date(None), None)\n",
    "        self.assertEqual(birth_date_death_date(0), 0)\n",
    "        self.assertEqual(birth_date_death_date('bar'), 'bar')\n",
    "        print('Success: birth_date_death_date')\n",
    "\n",
    "\n",
    "def main():\n",
    "    test = TestChallenge()\n",
    "    test.test_challenge()\n",
    "\n",
    "\n",
    "if __name__ == '__main__':\n",
    "    main()"
   ]
  },
  {
   "cell_type": "code",
   "execution_count": 5,
   "id": "18f55620",
   "metadata": {},
   "outputs": [
    {
     "name": "stdout",
     "output_type": "stream",
     "text": [
      "Success: birth_date_death_date\n"
     ]
    }
   ],
   "source": [
    "%run -i test_challenge.py"
   ]
  },
  {
   "cell_type": "markdown",
   "id": "c0d8b8d6",
   "metadata": {},
   "source": [
    "## Hints\n",
    "\n",
    "<details>\n",
    "  <summary>Hint 1</summary>\n",
    "  --> What if we sort first the entries?\n",
    "</details>\n",
    "\n",
    "<details>\n",
    "  <summary>Hint 2</summary>\n",
    "  --> Think about different ways to traverse a graph.\n",
    "</details>"
   ]
  },
  {
   "cell_type": "markdown",
   "id": "285d9801",
   "metadata": {},
   "source": [
    "## References\n"
   ]
  }
 ],
 "metadata": {
  "kernelspec": {
   "display_name": "Python 3 (ipykernel)",
   "language": "python",
   "name": "python3"
  },
  "language_info": {
   "codemirror_mode": {
    "name": "ipython",
    "version": 3
   },
   "file_extension": ".py",
   "mimetype": "text/x-python",
   "name": "python",
   "nbconvert_exporter": "python",
   "pygments_lexer": "ipython3",
   "version": "3.9.2"
  }
 },
 "nbformat": 4,
 "nbformat_minor": 5
}
