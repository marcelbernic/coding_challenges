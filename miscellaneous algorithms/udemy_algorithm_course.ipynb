{
 "cells": [
  {
   "cell_type": "code",
   "execution_count": 2,
   "id": "mysterious-haven",
   "metadata": {},
   "outputs": [
    {
     "data": {
      "text/plain": [
       "2"
      ]
     },
     "execution_count": 2,
     "metadata": {},
     "output_type": "execute_result"
    }
   ],
   "source": [
    "# Most frequent item in an array\n",
    "a = [1, 3, 1, 3, 2, 1, 3, 3, 3, 2, 2, 2, 2, 2]\n",
    "\n",
    "def most_frequent(a):\n",
    "    if len(a) < 1:\n",
    "        return 0\n",
    "    \n",
    "    d = {}\n",
    "    result = a[0]\n",
    "    d[a[0]] = 1\n",
    "    \n",
    "    for i in range(1, len(a)):\n",
    "        if a[i] in d.keys():\n",
    "            d[a[i]] += 1\n",
    "            if d[a[i]] > d[result]:\n",
    "                result = a[i]\n",
    "        else:\n",
    "            d[a[i]] = 1\n",
    "    \n",
    "    return result\n",
    "        \n",
    "most_frequent(a)    \n"
   ]
  },
  {
   "cell_type": "code",
   "execution_count": 3,
   "id": "gross-party",
   "metadata": {},
   "outputs": [
    {
     "data": {
      "text/plain": [
       "[1, 4, 9]"
      ]
     },
     "execution_count": 3,
     "metadata": {},
     "output_type": "execute_result"
    }
   ],
   "source": [
    "# Common elements in two sorted arrays O(max(n,m))\n",
    "a = [1, 3, 4, 6, 7, 9]\n",
    "b = [1, 2, 4, 5, 9, 10]\n",
    "\n",
    "def common_elements(a, b):\n",
    "    result = []\n",
    "    \n",
    "    if len(a) == 0 or len(b) == 0:\n",
    "        return result\n",
    "\n",
    "    i, j = 0, 0\n",
    "    \n",
    "    while i < len(a) and j < len(b):\n",
    "        if a[i] == b[j]:\n",
    "            result.append(a[i])\n",
    "            i += 1\n",
    "            j += 1\n",
    "        elif a[i] > b[j]:\n",
    "            j += 1\n",
    "        elif a[i] < b[j]:\n",
    "            i += 1\n",
    "        \n",
    "    return result\n",
    "\n",
    "common_elements(a, b)\n"
   ]
  },
  {
   "cell_type": "code",
   "execution_count": 4,
   "id": "motivated-ancient",
   "metadata": {},
   "outputs": [
    {
     "data": {
      "text/plain": [
       "True"
      ]
     },
     "execution_count": 4,
     "metadata": {},
     "output_type": "execute_result"
    }
   ],
   "source": [
    "# One array is a rotation of another (O(n))\n",
    "# no duplicates\n",
    "\n",
    "a = [1, 2, 3, 4, 5, 6, 7]\n",
    "b = [4, 5, 6, 7, 1, 2, 3]\n",
    "\n",
    "def is_rotation(a, b):\n",
    "    if len(a) != len(b):\n",
    "        return False\n",
    "    \n",
    "    k = 0\n",
    "    while a[0] != b[k] and k < len(b) - 1:\n",
    "        k += 1\n",
    "        \n",
    "    for i in range(len(a)):\n",
    "        j = (k + i) % len(a)\n",
    "        \n",
    "        if a[i] != b[j]:\n",
    "            return False\n",
    "        \n",
    "    return True\n",
    "\n",
    "is_rotation(b, a)"
   ]
  },
  {
   "cell_type": "code",
   "execution_count": 3,
   "id": "subject-complaint",
   "metadata": {},
   "outputs": [],
   "source": [
    "# Non repeating character in string\n",
    "# \"aabcb\" -> c\n",
    "# \"xxyz\"  -> y\n",
    "# \"aabb\"  -> None\n",
    "\n",
    "s1 = \"aabcb\"\n",
    "\n",
    "def non_repeating(s):\n",
    "    d = {}\n",
    "    \n",
    "    for i in range(len(s)):\n",
    "        if s[i] in d:\n",
    "            d[s[i]] += 1\n",
    "        else:\n",
    "            d[s[i]] = 1\n",
    "    \n",
    "    for i in range(len(s)):\n",
    "        if d[s[i]] == 1:\n",
    "            return s[i]\n",
    "    \n",
    "    return None\n",
    "    \n",
    "non_repeating(s1)\n",
    "non_repeating(\"xxyz\")\n",
    "non_repeating(\"aabb\")\n"
   ]
  },
  {
   "cell_type": "code",
   "execution_count": 6,
   "id": "royal-tutorial",
   "metadata": {},
   "outputs": [
    {
     "data": {
      "text/plain": [
       "False"
      ]
     },
     "execution_count": 6,
     "metadata": {},
     "output_type": "execute_result"
    }
   ],
   "source": [
    "# One edit away\n",
    "# s1a = \"abcde\"\n",
    "# s1b = \"abfde\"\n",
    "# operations allower: \n",
    "    # 1. change\n",
    "    # 2. delete\n",
    "    # 3. add\n",
    "\n",
    "def one_away(s1, s2):\n",
    "    if abs(len(s1) - len(s2)) > 1:\n",
    "        return False\n",
    "    \n",
    "    if len(s1) == len(s2):\n",
    "        count_diff = 0\n",
    "        for i in range(len(s1)):\n",
    "            if s1[i] != s2[i]:\n",
    "                count_diff += 1\n",
    "            if count_diff > 1:\n",
    "                return False\n",
    "\n",
    "    if abs(len(s1) - len(s2)) == 1:\n",
    "        if len(s1) > len(s2):\n",
    "            return one_away_diff_lenght(s1, s2)\n",
    "        else:\n",
    "            return one_away_diff_lenght(s2, s1)\n",
    "    return True\n",
    "\n",
    "def one_away_diff_lenght(s1, s2):\n",
    "    i, count_diff = 0, 0\n",
    "    while i < len(s2):\n",
    "        if s1[i + count_diff] == s2[i]:\n",
    "            i += 1\n",
    "        else:\n",
    "            count_diff += 1\n",
    "            if count_diff > 1:\n",
    "                return False\n",
    "    return True\n",
    "\n",
    "one_away(\"abc\", \"bcc\")"
   ]
  },
  {
   "cell_type": "code",
   "execution_count": 2,
   "id": "adapted-leeds",
   "metadata": {},
   "outputs": [
    {
     "data": {
      "text/plain": [
       "array([[ 0.,  0.,  0.,  0.,  0.],\n",
       "       [ 0.,  1.,  1.,  1.,  0.],\n",
       "       [ 0.,  1., -1.,  1.,  0.]])"
      ]
     },
     "execution_count": 2,
     "metadata": {},
     "output_type": "execute_result"
    }
   ],
   "source": [
    "# Mine sweeper initiate map\n",
    "\n",
    "import numpy as np\n",
    "\n",
    "def mine_sweeper(bombs, num_rows, num_cols):\n",
    "    mine_map = np.zeros((num_rows, num_cols))\n",
    "    \n",
    "    for bomb in bombs:\n",
    "        mine_map[bomb[0], bomb[1]] = -1\n",
    "        \n",
    "        for i in range(bomb[0] - 1, bomb[0] + 2):\n",
    "            for j in range(bomb[1] - 1, bomb[1] + 2):\n",
    "                if i >= 0 and i < num_rows and j >= 0 and j < num_cols:\n",
    "                    if mine_map[i][j] != -1:\n",
    "                        mine_map[i][j] += 1        \n",
    "    return mine_map\n",
    "\n",
    "# Test init mine sweeper map\n",
    "mine_sweeper([[2,2]], 3, 5)"
   ]
  },
  {
   "cell_type": "code",
   "execution_count": 6,
   "id": "faced-month",
   "metadata": {},
   "outputs": [
    {
     "data": {
      "text/plain": [
       "array([[-1.,  1., -2., -2.],\n",
       "       [ 1.,  1., -2., -2.],\n",
       "       [-2., -2.,  1.,  1.],\n",
       "       [-2., -2.,  1., -1.]])"
      ]
     },
     "execution_count": 6,
     "metadata": {},
     "output_type": "execute_result"
    }
   ],
   "source": [
    "# Mine sweeper expand\n",
    "    # expand when click on zero\n",
    "    # do nothing when click on value or bomb\n",
    "\n",
    "from collections import deque\n",
    "\n",
    "# BFS - Breadth First Search\n",
    "def mine_expand(mine_map, num_rows, num_cols, given_i, given_j):\n",
    "    if mine_map[given_i, given_j] != 0:\n",
    "        return mine_map\n",
    "    \n",
    "    queue = deque([[given_i, given_j]])\n",
    "    while queue:\n",
    "        click_x, click_y = queue.popleft()\n",
    "        \n",
    "        for i in range(click_x - 1, click_x + 2):\n",
    "            for j in range(click_y - 1, click_y + 2):\n",
    "                if (i >= 0 and i < num_rows and j >= 0 and j < num_cols) and (mine_map[i][j] == 0):\n",
    "                    mine_map[i][j] = -2\n",
    "                    queue.append([i, j])\n",
    "    return mine_map\n",
    "\n",
    "    \n",
    "# Test mine_expand\n",
    "test_map = mine_sweeper([[2,2]], 3, 5)\n",
    "mine_expand(test_map, 3, 5, 0, 0)\n",
    "\n",
    "# Test mine_expand\n",
    "test_map2 = mine_sweeper([[0,0],[3,3]], 4, 4)\n",
    "mine_expand(test_map2, 4, 4, 0, 3)"
   ]
  },
  {
   "cell_type": "code",
   "execution_count": 14,
   "id": "f67b4834",
   "metadata": {},
   "outputs": [
    {
     "data": {
      "text/plain": [
       "array([[-1.,  1., -2., -2.],\n",
       "       [ 1.,  1., -2., -2.],\n",
       "       [-2., -2.,  1.,  1.],\n",
       "       [-2., -2.,  1., -1.]])"
      ]
     },
     "execution_count": 14,
     "metadata": {},
     "output_type": "execute_result"
    }
   ],
   "source": [
    "# Mine sweeper expand\n",
    "    # expand when click on zero\n",
    "    # do nothing when click on value or bomb\n",
    "\n",
    "# BFS - Breadth First Search\n",
    "def mine_expand(mine_map, num_rows, num_cols, given_i, given_j):\n",
    "    if mine_map[given_i, given_j] != 0:\n",
    "        return mine_map\n",
    "    \n",
    "    stack = [[given_i, given_j]]\n",
    "    while stack:\n",
    "        click_x, click_y = stack.pop()\n",
    "        \n",
    "        for i in range(click_x - 1, click_x + 2):\n",
    "            for j in range(click_y - 1, click_y + 2):\n",
    "                if (i >= 0 and i < num_rows and j >= 0 and j < num_cols) and (mine_map[i][j] == 0):\n",
    "                    mine_map[i][j] = -2\n",
    "                    stack.append([i, j])\n",
    "    return mine_map\n",
    "\n",
    "    \n",
    "# Test mine_expand\n",
    "test_map = mine_sweeper([[2,2]], 3, 5)\n",
    "mine_expand(test_map, 3, 5, 0, 0)\n",
    "\n",
    "# Test mine_expand\n",
    "test_map2 = mine_sweeper([[0,0],[3,3]], 4, 4)\n",
    "mine_expand(test_map2, 4, 4, 0, 3)"
   ]
  },
  {
   "cell_type": "code",
   "execution_count": 9,
   "id": "bigger-johnson",
   "metadata": {},
   "outputs": [
    {
     "data": {
      "text/plain": [
       "[[13, 9, 5, 1], [14, 10, 6, 2], [15, 11, 7, 3], [16, 12, 8, 4]]"
      ]
     },
     "execution_count": 9,
     "metadata": {},
     "output_type": "execute_result"
    }
   ],
   "source": [
    "# Rotating a 2D array (square)\n",
    "\n",
    "arr1 = [[1,2,3],[4,5,6],[7,8,9]]\n",
    "arr2 = [[1,2,3,4,5],[6,7,8,9,10],[11,12,13,14,15],[16,17,18,19,20],[21,22,23,24,25]]\n",
    "arr3 = [[1,2,3,4],[5,6,7,8],[9,10,11,12],[13,14,15,16]]\n",
    "\n",
    "# out of place:\n",
    "    # new_i = j\n",
    "    # new_j = n - 1 - i\n",
    "\n",
    "def rotate_cell(i, j, n):\n",
    "    return j, n - 1 - i\n",
    "    \n",
    "def rotate_out_of_place(n):\n",
    "    new_array = np.zeros((len(n), len(n)))\n",
    "    \n",
    "    for i in range(len(n)):\n",
    "        for j in range(len(n)):\n",
    "            new_i, new_j = rotate_cell(i, j, len(n))\n",
    "            new_array[new_i, new_j] = n[i][j]\n",
    "    \n",
    "    print(new_array)\n",
    "    \n",
    "#rotate_out_of_place(arr1)\n",
    "#rotate_out_of_place(arr2)\n",
    "\n",
    "def rotate_in_place(n):\n",
    "    z = len(n)\n",
    "    for i in range(z // 2 + z % 2): # or for i from 0 to ceiling(n/2) - 1\n",
    "        for j in range(z // 2):     #    for j from 0 to floor(n/2) - 1 \n",
    "            tmp = n[i][j]\n",
    "            n[i][j] = n[z-1-j][i]\n",
    "            n[z-1-j][i] = n[z-1-i][z-1-j]\n",
    "            n[z-1-i][z-1-j] = n[j][z-1-i]\n",
    "            n[j][z-1-i] = tmp\n",
    "    \n",
    "    return n\n",
    "\n",
    "\n",
    "rotate_in_place(arr3)"
   ]
  },
  {
   "cell_type": "code",
   "execution_count": 15,
   "id": "regulated-acrylic",
   "metadata": {},
   "outputs": [
    {
     "name": "stdout",
     "output_type": "stream",
     "text": [
      "4\n",
      "5\n"
     ]
    }
   ],
   "source": [
    "# N-th Element of a Linked List      |1| -> |2| -> |3| -> |4| -> |5| -> None\n",
    "class ListNode:\n",
    "    def __init__(self, val=0, next=None):\n",
    "        self.val = val\n",
    "        self.next = next\n",
    "\n",
    "node5 = ListNode(5)\n",
    "node4 = ListNode(4, node5)\n",
    "node3 = ListNode(3, node4)\n",
    "node2 = ListNode(2, node3)\n",
    "node1 = ListNode(1, node2)\n",
    "\n",
    "def n_th_element_recursive(head: ListNode, index_from_end: int):\n",
    "    if head is not None:\n",
    "        z, val = n_th_element_recursive(head.next, index_from_end)\n",
    "        \n",
    "        if val is not None:\n",
    "            return (z, val)\n",
    "        elif z == index_from_end:\n",
    "            return (z, head.val)\n",
    "        else:\n",
    "            return (z + 1, None)\n",
    "    else:\n",
    "        return (1, None)\n",
    "        \n",
    "print(n_th_element_recursive(node1, 2)[1])\n",
    "\n",
    "\n",
    "def n_th_element(head: ListNode, index: int):\n",
    "    left = head\n",
    "    right = head\n",
    "    # we CEVERLY set an interval between two pointers\n",
    "    for i in range(index):\n",
    "        if right is None:\n",
    "            return None\n",
    "        right = right.next\n",
    "    # we CLEVERLY use two pointers here to move them at the same time\n",
    "    while right != None:\n",
    "        right = right.next\n",
    "        left = left.next\n",
    "        \n",
    "    return left.val\n",
    "\n",
    "print(n_th_element(node1, 1))"
   ]
  },
  {
   "cell_type": "code",
   "execution_count": 18,
   "id": "supported-realtor",
   "metadata": {},
   "outputs": [
    {
     "name": "stdout",
     "output_type": "stream",
     "text": [
      "4\n",
      "1\n",
      "0\n",
      "2\n",
      "5\n",
      "3\n",
      "6\n"
     ]
    },
    {
     "data": {
      "text/plain": [
       "True"
      ]
     },
     "execution_count": 18,
     "metadata": {},
     "output_type": "execute_result"
    }
   ],
   "source": [
    "# Is a binary search tree\n",
    "class TreeNode:\n",
    "    def __init__(self, val=0, left=None, right=None):\n",
    "        self.val = val\n",
    "        self.left = left\n",
    "        self.right = right\n",
    "        \n",
    "node4 = TreeNode(4, node1, node5)\n",
    "\n",
    "node2 = TreeNode(2, None, None)\n",
    "node0 = TreeNode(0, None, None)\n",
    "node1 = TreeNode(1, node0, node2)\n",
    "\n",
    "node6 = TreeNode(6, None, None)\n",
    "node3 = TreeNode(3, None, None)\n",
    "node5 = TreeNode(5, node3, node6)\n",
    "\n",
    "\n",
    "def print_tree(head: TreeNode):\n",
    "    print(head.val)\n",
    "    \n",
    "    if head.left is not None:\n",
    "        print_tree(head.left)\n",
    "    if head.right is not None:\n",
    "        print_tree(head.right)\n",
    "        \n",
    "\n",
    "print_tree(node4)\n",
    "\n",
    "\n",
    "def is_bst(node, lower_lim=None, upper_lim=None):\n",
    "    if lower_lim is not None and node.val < lower_lim:\n",
    "        return False\n",
    "    if upper_lim is not None and node.val > upper_lim:\n",
    "        return False\n",
    "    \n",
    "    is_left_bst = True\n",
    "    is_right_bst = True\n",
    "    \n",
    "    if node.left is not None:\n",
    "        is_left_bst = is_bst(node.left, lower_lim, node.val)\n",
    "    if is_left_bst and node.right is not None:\n",
    "        is_right_bst = is_bst(node.right, node.val, upper_lim)\n",
    "        \n",
    "    return is_left_bst and is_right_bst\n",
    "\n",
    "is_bst(node5)"
   ]
  },
  {
   "cell_type": "code",
   "execution_count": 19,
   "id": "blond-white",
   "metadata": {},
   "outputs": [
    {
     "data": {
      "text/plain": [
       "5"
      ]
     },
     "execution_count": 19,
     "metadata": {},
     "output_type": "execute_result"
    }
   ],
   "source": [
    "# Lowest common Ancestor (in a binary search tree)\n",
    "    # no duplicates\n",
    "    # at most two children (it is possible with one child)\n",
    "    # no back link\n",
    "    \n",
    "def path_to_x(root, x):\n",
    "    if root is None:\n",
    "        return None\n",
    "    \n",
    "    if root.val == x:\n",
    "        return [root.val]\n",
    "    \n",
    "    left_path = path_to_x(root.left, x)\n",
    "    if left_path is not None:\n",
    "        left_path.append(root.val)\n",
    "        return left_path\n",
    "    \n",
    "    right_path = path_to_x(root.right, x)\n",
    "    if right_path is not None:\n",
    "        right_path.append(root.val)\n",
    "        return right_path\n",
    "    \n",
    "    return None\n",
    "\n",
    "path_to_x(node4, 3)\n",
    "\n",
    "def lca(root, j, k):\n",
    "    first_stack = path_to_x(root, j)\n",
    "    second_stack = path_to_x(root, k)\n",
    "    \n",
    "    if first_stack is None or second_stack is None:\n",
    "        return None\n",
    "    \n",
    "    result = None\n",
    "    while len(first_stack) > 0 and len(second_stack) > 0:\n",
    "        a = first_stack.pop()\n",
    "        b = second_stack.pop()\n",
    "        if a == b:\n",
    "            result = a\n",
    "        else:\n",
    "            break\n",
    "        \n",
    "    return result\n",
    "\n",
    "lca(node4, 3, 6)"
   ]
  },
  {
   "cell_type": "markdown",
   "id": "blond-marble",
   "metadata": {},
   "source": [
    "# OTHERS"
   ]
  },
  {
   "cell_type": "code",
   "execution_count": 11,
   "id": "marine-azerbaijan",
   "metadata": {},
   "outputs": [],
   "source": [
    "# Robot Bounded In Circle\n",
    "class Solution:\n",
    "    def isRobotBounded(self, instructions: str) -> bool:\n",
    "        # north = 0, east = 1, south = 2, west = 3        \n",
    "        # directions[0] -> go north\n",
    "        # directions[1] -> go east\n",
    "        # directions[2] -> go south\n",
    "        # directions[3] -> go west\n",
    "        directions = [[0,1], [1, 0], [0, -1], [-1, 0]]\n",
    "        \n",
    "        # initial position\n",
    "        x = y = 0\n",
    "        # initial orientation\n",
    "        idx = 0\n",
    "        \n",
    "        for i in instructions:\n",
    "            if i == \"L\":\n",
    "                idx = (idx + 3) % 4\n",
    "            elif i == \"R\":\n",
    "                idx = (idx + 1) % 4\n",
    "            else:\n",
    "                x += directions[idx][0]\n",
    "                y += directions[idx][1]\n",
    "                \n",
    "        # after one cycle, robot returns into initial position\n",
    "        # or does not face north\n",
    "        return (x == 0 and y == 0) or idx != 0"
   ]
  },
  {
   "cell_type": "code",
   "execution_count": null,
   "id": "marked-scratch",
   "metadata": {},
   "outputs": [],
   "source": [
    "# Optimization Box Weights\n",
    "# def answer(arr):\n",
    "#   total = sum(arr)\n",
    "#   arr.sort()\n",
    "#   right_sum = 0\n",
    "#   res = []\n",
    "#   r = len(arr) - 1\n",
    "#   while right_sum < total:\n",
    "#     right_sum += arr[r]\n",
    "#     total -= arr[r]\n",
    "#     res.append(arr[r])\n",
    "#     r -= 1\n",
    "# return reversed(res)"
   ]
  },
  {
   "cell_type": "markdown",
   "id": "facial-boating",
   "metadata": {},
   "source": [
    "An Amazon Fulfillment Associate has a set of items that need to be packed into two boxes. Given an integer array of the item weights (arr) to be packed, divide the item weights into two subsets, A and B, for packing into the associated boxes, while respecting the following conditions:\n",
    "The intersection of A and B is null.\n",
    "The union A and B is equal to the original array.\n",
    "The number of elements in subset Ais minimal.\n",
    "The sum of A's weights is greater than the sum of B's weights.\n",
    "Return the subset A in increasing order where the sum of A's weights is greater than the sum of B's weights. If more than one subset A exists, return the one with the maximal total weight.\n",
    "\n",
    "Input Format For Custom Testing\n",
    "STDIN Function\n",
    "6 -> arr[] size n = 6\n",
    "5 -> arr[] = [5, 3, 2, 4, 1, 2]\n",
    "3\n",
    "2\n",
    "4\n",
    "1\n",
    "2\n",
    "\n",
    "Sample Output\n",
    "4\n",
    "5\n",
    "\n",
    "Explanation\n",
    "n = 6\n",
    "arr = [5, 3, 2, 4, 1, 2]\n",
    "The subset of A that satisfies the conditions is [4, 5]\n",
    "A is minimal (size 2)\n",
    "Sum(A) = (4 + 5) = 9 > Sum(B) = (1 + 2 + 2 + 3) = 8\n",
    "The intersection of A and B is null and their union is equal to arr.\n",
    "The subset A with the maximal sum is [4, 5].\n",
    "\n",
    "Did anyone find the solution which passes all the test cases ?\n",
    "Sorting it and then checking wether it exceeds the second half will give time out error in some cases. Can anyone suggest the better alternative ? Did anyone solved it? Any inputs will be appreciated."
   ]
  },
  {
   "cell_type": "code",
   "execution_count": 41,
   "id": "impaired-diary",
   "metadata": {},
   "outputs": [
    {
     "name": "stdout",
     "output_type": "stream",
     "text": [
      "[4, 5]\n",
      "[2]\n"
     ]
    }
   ],
   "source": [
    "from typing import List\n",
    "arr = [5, 3, 2, 4, 1, 2]\n",
    "\n",
    "def optimizing_boxes(elements: List[int]) -> List[int]:\n",
    "    elements.sort()\n",
    "    total = sum(elements)\n",
    "    min_sum_in_a = (total // 2) + 1\n",
    "    \n",
    "    temp = 0\n",
    "    result = []\n",
    "    for i in reversed(range(len(elements))):\n",
    "        temp += elements[i]\n",
    "        result.insert(0, elements[i])\n",
    "        \n",
    "        if (temp >= min_sum_in_a) and (len(result) < len(elements) - len(result)): \n",
    "            return result\n",
    "    \n",
    "    return None\n",
    "            \n",
    "\n",
    "print(optimizing_boxes(arr))\n",
    "print(optimizing_boxes([2,1,1,-1]))"
   ]
  },
  {
   "cell_type": "markdown",
   "id": "final-spread",
   "metadata": {},
   "source": [
    "### Reorder Data in Log Files\n",
    "You are given an array of logs. Each log is a space-delimited string of words, where the first word is the identifier.\n",
    "\n",
    "There are two types of logs:\n",
    "\n",
    "Letter-logs: All words (except the identifier) consist of lowercase English letters.\n",
    "Digit-logs: All words (except the identifier) consist of digits.\n",
    "Reorder these logs so that:\n",
    "\n",
    "The letter-logs come before all digit-logs.\n",
    "The letter-logs are sorted lexicographically by their contents. If their contents are the same, then sort them lexicographically by their identifiers.\n",
    "The digit-logs maintain their relative ordering.\n",
    "Return the final order of the logs."
   ]
  },
  {
   "cell_type": "code",
   "execution_count": 42,
   "id": "objective-attention",
   "metadata": {},
   "outputs": [],
   "source": [
    "# good explanation on leet code\n",
    "class Solution:\n",
    "    def reorderLogFiles(self, logs: List[str]) -> List[str]:\n",
    "\n",
    "        def get_key(log):\n",
    "            _id, rest = log.split(\" \", maxsplit=1)\n",
    "            return (0, rest, _id) if rest[0].isalpha() else (1, )\n",
    "\n",
    "        return sorted(logs, key=get_key)"
   ]
  },
  {
   "cell_type": "markdown",
   "id": "referenced-burton",
   "metadata": {},
   "source": [
    "### Storage optimization\n",
    "n = 6, m = 6, h = [4], v = [2]\n",
    "\n",
    "Similar on leet code:  \n",
    "    - Maximum Area of a Piece of Cake After Horizontal and Vertical Cuts\n",
    "    - Prison Break"
   ]
  },
  {
   "cell_type": "code",
   "execution_count": 56,
   "id": "promising-format",
   "metadata": {},
   "outputs": [
    {
     "name": "stdout",
     "output_type": "stream",
     "text": [
      "[False, False, True, False, True, False]\n",
      "[False, False, True, False, False, False]\n",
      "1\n",
      "1\n"
     ]
    },
    {
     "data": {
      "text/plain": [
       "4"
      ]
     },
     "execution_count": 56,
     "metadata": {},
     "output_type": "execute_result"
    }
   ],
   "source": [
    "def storageOptimization(h: int, v: int, h_cuts: List[int], v_cuts: List[int]) -> int:\n",
    "    h_missing = []\n",
    "    v_missing = []\n",
    "    \n",
    "    for i in range(h): \n",
    "        h_missing.insert(i, True if i in h_cuts else False)\n",
    "    for i in range(v): \n",
    "        v_missing.insert(i, True if i in v_cuts else False)\n",
    "                   \n",
    "    print(h_missing)\n",
    "    print(v_missing)\n",
    "    \n",
    "    longest_h = 0\n",
    "    temp = 0\n",
    "    for i in h_missing:\n",
    "        if i: \n",
    "            temp += 1\n",
    "            longest_h = max(longest_h, temp)\n",
    "        else: \n",
    "            temp = 0\n",
    "            \n",
    "    longest_v = 0\n",
    "    temp = 0\n",
    "    for i in v_missing:\n",
    "        if i: \n",
    "            temp += 1\n",
    "            longest_v = max(longest_v, temp)\n",
    "        else:\n",
    "            temp = 0\n",
    "            \n",
    "    print(longest_h)\n",
    "    print(longest_v)\n",
    "            \n",
    "    return (longest_h+1) * (longest_v+1)\n",
    "\n",
    "storageOptimization(6, 6, [2,4], [2])\n"
   ]
  },
  {
   "cell_type": "code",
   "execution_count": 3,
   "id": "auburn-husband",
   "metadata": {},
   "outputs": [
    {
     "ename": "NameError",
     "evalue": "name 'List' is not defined",
     "output_type": "error",
     "traceback": [
      "\u001b[0;31m---------------------------------------------------------------------------\u001b[0m",
      "\u001b[0;31mNameError\u001b[0m                                 Traceback (most recent call last)",
      "\u001b[0;32m/var/folders/0w/12cv7r017239r9tw4kh_2m8m0000gn/T/ipykernel_97184/676346744.py\u001b[0m in \u001b[0;36m<module>\u001b[0;34m\u001b[0m\n\u001b[1;32m      1\u001b[0m \u001b[0;31m# Subarray Sum Equals K -> leet code 560\u001b[0m\u001b[0;34m\u001b[0m\u001b[0;34m\u001b[0m\u001b[0;34m\u001b[0m\u001b[0m\n\u001b[0;32m----> 2\u001b[0;31m \u001b[0;32mdef\u001b[0m \u001b[0msubarraySum\u001b[0m\u001b[0;34m(\u001b[0m\u001b[0mself\u001b[0m\u001b[0;34m,\u001b[0m \u001b[0mnums\u001b[0m\u001b[0;34m:\u001b[0m \u001b[0mList\u001b[0m\u001b[0;34m[\u001b[0m\u001b[0mint\u001b[0m\u001b[0;34m]\u001b[0m\u001b[0;34m,\u001b[0m \u001b[0mk\u001b[0m\u001b[0;34m:\u001b[0m \u001b[0mint\u001b[0m\u001b[0;34m)\u001b[0m \u001b[0;34m->\u001b[0m \u001b[0mint\u001b[0m\u001b[0;34m:\u001b[0m\u001b[0;34m\u001b[0m\u001b[0;34m\u001b[0m\u001b[0m\n\u001b[0m\u001b[1;32m      3\u001b[0m     \u001b[0mcount\u001b[0m \u001b[0;34m=\u001b[0m \u001b[0;36m0\u001b[0m\u001b[0;34m\u001b[0m\u001b[0;34m\u001b[0m\u001b[0m\n\u001b[1;32m      4\u001b[0m     \u001b[0msum\u001b[0m \u001b[0;34m=\u001b[0m \u001b[0;36m0\u001b[0m\u001b[0;34m\u001b[0m\u001b[0;34m\u001b[0m\u001b[0m\n\u001b[1;32m      5\u001b[0m \u001b[0;34m\u001b[0m\u001b[0m\n",
      "\u001b[0;31mNameError\u001b[0m: name 'List' is not defined"
     ]
    }
   ],
   "source": [
    "# Subarray Sum Equals K -> leet code 560\n",
    "def subarraySum(self, nums: List[int], k: int) -> int:\n",
    "    count = 0\n",
    "    sum = 0\n",
    "\n",
    "    d = {}\n",
    "    d[0] = 1\n",
    "    for i in range(len(nums)):\n",
    "        sum += nums[i]\n",
    "        if (sum - k) in d.keys():\n",
    "            count += d[sum-k]\n",
    "        if sum not in d.keys():\n",
    "            d[sum] = 0\n",
    "        d[sum] = d[sum] + 1\n",
    "\n",
    "    return count"
   ]
  },
  {
   "cell_type": "code",
   "execution_count": 62,
   "id": "level-processing",
   "metadata": {},
   "outputs": [
    {
     "ename": "SyntaxError",
     "evalue": "invalid syntax (<ipython-input-62-a11b4d9d3b9e>, line 2)",
     "output_type": "error",
     "traceback": [
      "\u001b[0;36m  File \u001b[0;32m\"<ipython-input-62-a11b4d9d3b9e>\"\u001b[0;36m, line \u001b[0;32m2\u001b[0m\n\u001b[0;31m    int trap(vector<int>& height)\u001b[0m\n\u001b[0m        ^\u001b[0m\n\u001b[0;31mSyntaxError\u001b[0m\u001b[0;31m:\u001b[0m invalid syntax\n"
     ]
    }
   ],
   "source": [
    "# Traping water (Approach 4: Using 2 pointers)\n",
    "int trap(vector<int>& height)\n",
    "{\n",
    "    int left = 0, right = height.size() - 1;\n",
    "    int ans = 0;\n",
    "    int left_max = 0, right_max = 0;\n",
    "    while (left < right) {\n",
    "        if (height[left] < height[right]) {\n",
    "            height[left] >= left_max ? (left_max = height[left]) : ans += (left_max - height[left]);\n",
    "            ++left;\n",
    "        }\n",
    "        else {\n",
    "            height[right] >= right_max ? (right_max = height[right]) : ans += (right_max - height[right]);\n",
    "            --right;\n",
    "        }\n",
    "    }\n",
    "    return ans;\n",
    "}"
   ]
  },
  {
   "cell_type": "code",
   "execution_count": 2,
   "id": "fresh-longitude",
   "metadata": {},
   "outputs": [
    {
     "ename": "NameError",
     "evalue": "name 'List' is not defined",
     "output_type": "error",
     "traceback": [
      "\u001b[0;31m---------------------------------------------------------------------------\u001b[0m",
      "\u001b[0;31mNameError\u001b[0m                                 Traceback (most recent call last)",
      "\u001b[0;32m/var/folders/0w/12cv7r017239r9tw4kh_2m8m0000gn/T/ipykernel_97184/1106257715.py\u001b[0m in \u001b[0;36m<module>\u001b[0;34m\u001b[0m\n\u001b[1;32m      2\u001b[0m \u001b[0;32mfrom\u001b[0m \u001b[0mcollections\u001b[0m \u001b[0;32mimport\u001b[0m \u001b[0mCounter\u001b[0m\u001b[0;34m\u001b[0m\u001b[0;34m\u001b[0m\u001b[0m\n\u001b[1;32m      3\u001b[0m \u001b[0;34m\u001b[0m\u001b[0m\n\u001b[0;32m----> 4\u001b[0;31m \u001b[0;32mdef\u001b[0m \u001b[0mtopKFrequent\u001b[0m\u001b[0;34m(\u001b[0m\u001b[0mself\u001b[0m\u001b[0;34m,\u001b[0m \u001b[0mnums\u001b[0m\u001b[0;34m:\u001b[0m \u001b[0mList\u001b[0m\u001b[0;34m[\u001b[0m\u001b[0mint\u001b[0m\u001b[0;34m]\u001b[0m\u001b[0;34m,\u001b[0m \u001b[0mk\u001b[0m\u001b[0;34m:\u001b[0m \u001b[0mint\u001b[0m\u001b[0;34m)\u001b[0m \u001b[0;34m->\u001b[0m \u001b[0mList\u001b[0m\u001b[0;34m[\u001b[0m\u001b[0mint\u001b[0m\u001b[0;34m]\u001b[0m\u001b[0;34m:\u001b[0m\u001b[0;34m\u001b[0m\u001b[0;34m\u001b[0m\u001b[0m\n\u001b[0m\u001b[1;32m      5\u001b[0m     \u001b[0;31m# O(1) time\u001b[0m\u001b[0;34m\u001b[0m\u001b[0;34m\u001b[0m\u001b[0;34m\u001b[0m\u001b[0m\n\u001b[1;32m      6\u001b[0m     \u001b[0;32mif\u001b[0m \u001b[0mk\u001b[0m \u001b[0;34m==\u001b[0m \u001b[0mlen\u001b[0m\u001b[0;34m(\u001b[0m\u001b[0mnums\u001b[0m\u001b[0;34m)\u001b[0m\u001b[0;34m:\u001b[0m\u001b[0;34m\u001b[0m\u001b[0;34m\u001b[0m\u001b[0m\n",
      "\u001b[0;31mNameError\u001b[0m: name 'List' is not defined"
     ]
    }
   ],
   "source": [
    "# Top K elements with hashmap and heap\n",
    "from collections import Counter\n",
    "\n",
    "def topKFrequent(self, nums: List[int], k: int) -> List[int]: \n",
    "    # O(1) time \n",
    "    if k == len(nums):\n",
    "        return nums\n",
    "\n",
    "    # 1. build hash map : character and how often it appears\n",
    "    # O(N) time\n",
    "    count = Counter(nums)   \n",
    "    # 2-3. build heap of top k frequent elements and\n",
    "    # convert it into an output array\n",
    "    # O(N log k) time\n",
    "    return heapq.nlargest(k, count.keys(), key=count.get) "
   ]
  },
  {
   "cell_type": "code",
   "execution_count": null,
   "id": "7d74719d",
   "metadata": {},
   "outputs": [],
   "source": []
  }
 ],
 "metadata": {
  "kernelspec": {
   "display_name": "Python 3 (ipykernel)",
   "language": "python",
   "name": "python3"
  },
  "language_info": {
   "codemirror_mode": {
    "name": "ipython",
    "version": 3
   },
   "file_extension": ".py",
   "mimetype": "text/x-python",
   "name": "python",
   "nbconvert_exporter": "python",
   "pygments_lexer": "ipython3",
   "version": "3.9.2"
  }
 },
 "nbformat": 4,
 "nbformat_minor": 5
}
