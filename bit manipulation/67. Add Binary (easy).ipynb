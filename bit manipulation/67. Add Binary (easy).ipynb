{
 "cells": [
  {
   "cell_type": "markdown",
   "id": "cb323555",
   "metadata": {},
   "source": [
    "## 67. Add Binary (easy)\n",
    "\n",
    "See on [leetcode](https://leetcode.com/problems/add-binary/)"
   ]
  },
  {
   "cell_type": "markdown",
   "id": "5584b2d5",
   "metadata": {},
   "source": [
    "### Idea:\n",
    "\n",
    "```\n",
    "Given two numbers: x and y\n",
    "    Sum without carry => x^y\n",
    "    Carry => (x&y) << 1\n",
    "```"
   ]
  },
  {
   "cell_type": "code",
   "execution_count": 1,
   "id": "878e275b",
   "metadata": {},
   "outputs": [],
   "source": [
    "def addBinary(a, b) -> str:\n",
    "    x, y = int(a, 2), int(b, 2)\n",
    "    while y:\n",
    "        answer = x ^ y\n",
    "        carry = (x & y) << 1\n",
    "        x, y = answer, carry\n",
    "    return bin(x)[2:]"
   ]
  }
 ],
 "metadata": {
  "kernelspec": {
   "display_name": "Python 3 (ipykernel)",
   "language": "python",
   "name": "python3"
  },
  "language_info": {
   "codemirror_mode": {
    "name": "ipython",
    "version": 3
   },
   "file_extension": ".py",
   "mimetype": "text/x-python",
   "name": "python",
   "nbconvert_exporter": "python",
   "pygments_lexer": "ipython3",
   "version": "3.9.2"
  }
 },
 "nbformat": 4,
 "nbformat_minor": 5
}
