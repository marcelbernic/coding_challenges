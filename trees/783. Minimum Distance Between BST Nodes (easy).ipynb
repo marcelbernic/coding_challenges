{
 "cells": [
  {
   "cell_type": "markdown",
   "id": "be53354d",
   "metadata": {},
   "source": [
    "## 783. Minimum Distance Between BST Nodes (easy)"
   ]
  },
  {
   "cell_type": "markdown",
   "id": "af0fbed0",
   "metadata": {},
   "source": [
    "Given the root of a Binary Search Tree (BST), return the minimum difference between the values of any two different nodes in the tree.\n",
    "\n",
    " \n",
    "\n",
    "Example 1:\n",
    "\n",
    "Input: root = [4,2,6,1,3]\n",
    "Output: 1\n",
    "\n",
    "Example 2:\n",
    "\n",
    "Input: root = [1,0,48,null,null,12,49]\n",
    "Output: 1\n",
    "\n",
    " \n",
    "\n",
    "Constraints:\n",
    "\n",
    "    The number of nodes in the tree is in the range [2, 100].\n",
    "    0 <= Node.val <= 105\n",
    "\n",
    " \n",
    "\n",
    "Note: This question is the same as 530: https://leetcode.com/problems/minimum-absolute-difference-in-bst/\n"
   ]
  },
  {
   "cell_type": "code",
   "execution_count": 4,
   "id": "1dc3e61c",
   "metadata": {},
   "outputs": [],
   "source": [
    "# Definition for a binary tree node.\n",
    "class TreeNode:\n",
    "    def __init__(self, val=0, left=None, right=None):\n",
    "        self.val = val\n",
    "        self.left = left\n",
    "        self.right = right\n",
    "        \n",
    "\n",
    "class Solution:\n",
    "    def minDiffInBST(self, root: TreeNode) -> int:\n",
    "        array = []\n",
    "        \n",
    "        def inOrder(node: TreeNode):\n",
    "            if node:\n",
    "                inOrder(node.left)\n",
    "                array.append(node.val)\n",
    "                inOrder(node.right)\n",
    "            \n",
    "        inOrder(root)\n",
    "        res = 10000001\n",
    "        for i in range(len(array)-1):\n",
    "            res = min(res, array[i+1] - array[i])\n",
    "  \n",
    "        return res\n",
    "        "
   ]
  },
  {
   "cell_type": "code",
   "execution_count": 5,
   "id": "7eb51975",
   "metadata": {},
   "outputs": [],
   "source": [
    "# Write unit tests"
   ]
  }
 ],
 "metadata": {
  "kernelspec": {
   "display_name": "Python 3 (ipykernel)",
   "language": "python",
   "name": "python3"
  },
  "language_info": {
   "codemirror_mode": {
    "name": "ipython",
    "version": 3
   },
   "file_extension": ".py",
   "mimetype": "text/x-python",
   "name": "python",
   "nbconvert_exporter": "python",
   "pygments_lexer": "ipython3",
   "version": "3.9.2"
  }
 },
 "nbformat": 4,
 "nbformat_minor": 5
}
