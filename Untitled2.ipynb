{
 "cells": [
  {
   "cell_type": "code",
   "execution_count": null,
   "id": "a3fbf428",
   "metadata": {},
   "outputs": [],
   "source": [
    "from typing import List\n",
    "\n",
    "def hoare_partition(A: List[int], l: int, r: int) -> int:\n",
    "    p = A[(l + r) // 2] \n",
    "    i, j = l, r\n",
    "    while True:\n",
    "        while A[i] < p: \n",
    "            i += 1\n",
    "        while A[j] > p:\n",
    "            j -= 1\n",
    "        if i >= j:\n",
    "            return j\n",
    "        A[i], A[j] = A[j], A[i]"
   ]
  },
  {
   "cell_type": "code",
   "execution_count": null,
   "id": "92e43b2a",
   "metadata": {},
   "outputs": [],
   "source": [
    "# implement lomuto first see: \"\"/sorting/lomuto_partition/solution.ipynb\"\n",
    "def lomuto_partition(array: List[int], l: int, r: int) -> int:\n",
    "    if len(array) == 0:\n",
    "        return None\n",
    "    p, s = array[l], l\n",
    "    for i in range(l+1, r+1):\n",
    "        if array[i] < p:\n",
    "            s += 1\n",
    "            array[s], array[i] = array[i], array[s]\n",
    "    \n",
    "    array[l], array[s] = array[s], array[l]\n",
    "    return s\n",
    "\n",
    "\n",
    "def quickselect(a: List[int], k: int) -> int:\n",
    "    return quickselect_rec(a, 0, len(a)-1, k)\n",
    "\n",
    "def quickselect_rec(a: List[int], l, r, k: int) -> int:\n",
    "    s = lomuto_partition(a, l, r)\n",
    "    if s-l == k - 1: \n",
    "        return a[s]\n",
    "    elif s > l + k - 1:\n",
    "        return quickselect_rec(a, l, s-1, k)\n",
    "    else:\n",
    "        return quickselect_rec(a, s+1, r, k-1-(s-l))"
   ]
  },
  {
   "cell_type": "code",
   "execution_count": null,
   "id": "37bab4ae",
   "metadata": {},
   "outputs": [],
   "source": [
    "# Iterative approach (using a queue)\n",
    "class Solution:\n",
    "    def invertTree(self, root: TreeNode) -> TreeNode:\n",
    "        if not root:\n",
    "            return None\n",
    "        \n",
    "        queue = []\n",
    "        queue.append(root)\n",
    "        while len(queue) > 0:\n",
    "            current = queue.pop(0)\n",
    "            current.left, current.right = current.right, current.left\n",
    "            if current.left is not None:\n",
    "                queue.append(current.left)\n",
    "            if current.right is not None:\n",
    "                queue.append(current.right)\n",
    "                \n",
    "        return root"
   ]
  }
 ],
 "metadata": {
  "kernelspec": {
   "display_name": "Python 3 (ipykernel)",
   "language": "python",
   "name": "python3"
  },
  "language_info": {
   "codemirror_mode": {
    "name": "ipython",
    "version": 3
   },
   "file_extension": ".py",
   "mimetype": "text/x-python",
   "name": "python",
   "nbconvert_exporter": "python",
   "pygments_lexer": "ipython3",
   "version": "3.9.2"
  }
 },
 "nbformat": 4,
 "nbformat_minor": 5
}
