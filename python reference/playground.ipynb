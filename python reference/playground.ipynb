{
 "cells": [
  {
   "cell_type": "code",
   "execution_count": 2,
   "id": "23950f2e",
   "metadata": {},
   "outputs": [
    {
     "name": "stdout",
     "output_type": "stream",
     "text": [
      "5\n",
      "32\n"
     ]
    }
   ],
   "source": [
    "a = 5\n",
    "print(a)\n",
    "b = 1 << 5\n",
    "print(b)\n"
   ]
  },
  {
   "cell_type": "code",
   "execution_count": 7,
   "id": "incredible-prediction",
   "metadata": {},
   "outputs": [
    {
     "name": "stdout",
     "output_type": "stream",
     "text": [
      "Float:  4.5\n",
      "Integer part 4\n",
      "Modulus 0\n",
      "4\n",
      "5\n",
      "1\n",
      "8\n"
     ]
    },
    {
     "data": {
      "text/plain": [
       "0"
      ]
     },
     "execution_count": 7,
     "metadata": {},
     "output_type": "execute_result"
    }
   ],
   "source": [
    "import math\n",
    "\n",
    "print(\"Float: \", 9 / 2)  # -> float\n",
    "print(\"Integer part\", 9 // 2) # -> integer (floor division)\n",
    "print(\"Modulus\", 17 % 17) # -> modulus\n",
    "\n",
    "print(math.floor(9 / 2))\n",
    "print(math.ceil(9 / 2))\n",
    "\n",
    "print(18 // 10)\n",
    "print(18 % 10)\n",
    "\n",
    "0 // 2"
   ]
  },
  {
   "cell_type": "code",
   "execution_count": 21,
   "id": "critical-applicant",
   "metadata": {},
   "outputs": [
    {
     "name": "stdout",
     "output_type": "stream",
     "text": [
      "[1, 2, 3, 4, 5, 6, 7, 8, 9]\n",
      "[1, 2, 3, 4]\n",
      "[1, 2, 3, 4, 5]\n",
      "[5, 6, 7, 8, 9]\n",
      "[6, 7, 8, 9]\n"
     ]
    }
   ],
   "source": [
    "a = [4, 7, 1, 9, 0, 6, 5, 3, 8, 2]\n",
    "b = [1, 2, 3, 4, 5, 6, 7, 8, 9]\n",
    "\n",
    "# copy the first half of array (floor)\n",
    "b1 = b[:len(b)//2]\n",
    "# copy the first half of array (ceil)\n",
    "b2 = b[:math.ceil(len(b)/2)]\n",
    "# copy the second half of array\n",
    "b3 = b[len(b)//2:]\n",
    "# copy the second half of array\n",
    "b4 = b[math.ceil(len(b)/2):]\n",
    "\n",
    "print(b)\n",
    "print(b1)\n",
    "print(b2)\n",
    "print(b3)\n",
    "print(b4)"
   ]
  },
  {
   "cell_type": "code",
   "execution_count": 25,
   "id": "expressed-arctic",
   "metadata": {},
   "outputs": [
    {
     "name": "stdout",
     "output_type": "stream",
     "text": [
      "[1, 2, 3, 4, 5]\n",
      "[6, 7, 8, 9, 10]\n"
     ]
    }
   ],
   "source": [
    "c = [1, 2, 3, 4, 5, 6, 7, 8, 9, 10]\n",
    "\n",
    "print(c[:len(c)//2])\n",
    "print(c[len(c)//2:])"
   ]
  },
  {
   "cell_type": "code",
   "execution_count": 41,
   "id": "anticipated-frederick",
   "metadata": {},
   "outputs": [
    {
     "name": "stdout",
     "output_type": "stream",
     "text": [
      "4\n",
      "8\n",
      "[1, 2, 3, 0, 0, 0, 0, 0]\n"
     ]
    }
   ],
   "source": [
    "a = [1, 2, 3, 4]\n",
    "print(len(a))\n",
    "b = [5, 6, 7, 8]\n",
    "c = [0, 0, 0, 0, 0, 0, 0, 0]\n",
    "print(len(c))\n",
    "\n",
    "c[:3] = a[:3]\n",
    "print(c)"
   ]
  }
 ],
 "metadata": {
  "kernelspec": {
   "display_name": "Python 3 (ipykernel)",
   "language": "python",
   "name": "python3"
  },
  "language_info": {
   "codemirror_mode": {
    "name": "ipython",
    "version": 3
   },
   "file_extension": ".py",
   "mimetype": "text/x-python",
   "name": "python",
   "nbconvert_exporter": "python",
   "pygments_lexer": "ipython3",
   "version": "3.9.2"
  }
 },
 "nbformat": 4,
 "nbformat_minor": 5
}
