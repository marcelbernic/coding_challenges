{
 "cells": [
  {
   "cell_type": "code",
   "execution_count": 1,
   "id": "applied-dispute",
   "metadata": {},
   "outputs": [
    {
     "ename": "TypeError",
     "evalue": "'str' object does not support item assignment",
     "output_type": "error",
     "traceback": [
      "\u001b[0;31m---------------------------------------------------------------------------\u001b[0m",
      "\u001b[0;31mTypeError\u001b[0m                                 Traceback (most recent call last)",
      "\u001b[0;32m/var/folders/0w/12cv7r017239r9tw4kh_2m8m0000gn/T/ipykernel_56885/1096886237.py\u001b[0m in \u001b[0;36m<module>\u001b[0;34m\u001b[0m\n\u001b[1;32m      1\u001b[0m \u001b[0;31m# Strings are not mutable\u001b[0m\u001b[0;34m\u001b[0m\u001b[0;34m\u001b[0m\u001b[0;34m\u001b[0m\u001b[0m\n\u001b[1;32m      2\u001b[0m \u001b[0msalut\u001b[0m \u001b[0;34m=\u001b[0m \u001b[0;34m'bonjour à tous'\u001b[0m\u001b[0;34m\u001b[0m\u001b[0;34m\u001b[0m\u001b[0m\n\u001b[0;32m----> 3\u001b[0;31m \u001b[0msalut\u001b[0m\u001b[0;34m[\u001b[0m\u001b[0;36m0\u001b[0m\u001b[0;34m]\u001b[0m \u001b[0;34m=\u001b[0m \u001b[0;34m'B'\u001b[0m\u001b[0;34m\u001b[0m\u001b[0;34m\u001b[0m\u001b[0m\n\u001b[0m\u001b[1;32m      4\u001b[0m \u001b[0mprint\u001b[0m\u001b[0;34m(\u001b[0m\u001b[0msalut\u001b[0m\u001b[0;34m)\u001b[0m\u001b[0;34m\u001b[0m\u001b[0;34m\u001b[0m\u001b[0m\n",
      "\u001b[0;31mTypeError\u001b[0m: 'str' object does not support item assignment"
     ]
    }
   ],
   "source": [
    "# Strings are not mutable\n",
    "salut = 'bonjour à tous' \n",
    "salut[0] = 'B'\n",
    "print(salut)"
   ]
  },
  {
   "cell_type": "code",
   "execution_count": 3,
   "id": "representative-advocate",
   "metadata": {},
   "outputs": [
    {
     "name": "stdout",
     "output_type": "stream",
     "text": [
      "Bonjour à tous\n"
     ]
    }
   ],
   "source": [
    "# This works (creating a new String)\n",
    "salut = 'bonjour à tous'\n",
    "salut = 'B' + salut[1:]\n",
    "print(salut)"
   ]
  },
  {
   "cell_type": "code",
   "execution_count": 7,
   "id": "above-administration",
   "metadata": {},
   "outputs": [
    {
     "name": "stdout",
     "output_type": "stream",
     "text": [
      "banana\n",
      "this  is a   para     lol2 \n"
     ]
    }
   ],
   "source": [
    "# Strip \n",
    "txt = \",,,,,rrttgg.....banana....rrr\"\n",
    "x = txt.strip(\",.grt\")\n",
    "print(x)\n",
    "\n",
    "# Sanitize a paragraph of exclamation signs in order to separate words\n",
    "paragraph = \"This, is a ! para@    lol2'\"\n",
    "paragraph_normal = ''.join([c.lower() if c.isalnum() else ' ' for c in paragraph])\n",
    "print(paragraph_normal)"
   ]
  },
  {
   "cell_type": "code",
   "execution_count": 5,
   "id": "improved-lightweight",
   "metadata": {},
   "outputs": [
    {
     "name": "stdout",
     "output_type": "stream",
     "text": [
      "['Vote', 'for', 'me']\n",
      "Marcel works at Bell\n",
      "2\n"
     ]
    },
    {
     "data": {
      "text/plain": [
       "'test'"
      ]
     },
     "execution_count": 5,
     "metadata": {},
     "output_type": "execute_result"
    }
   ],
   "source": [
    "# Strings are objects\n",
    "c2 = \"Vote for me\"\n",
    "c = c2.split()\n",
    "print(c)\n",
    "\n",
    "# join(list)\n",
    "b = [\"Marcel\", \"works\", \"at\", \"Bell\"]\n",
    "print(\" \".join(b))\n",
    "\n",
    "# find(substr)\n",
    "ch1 = \"This is a string\"\n",
    "ch2 = \"is\"\n",
    "print(ch1.find(ch2))\n",
    "\n",
    "# Other functions\n",
    "# len(str)\n",
    "# float(str)\n",
    "# int(str)\n",
    "\"Test\".lower()"
   ]
  },
  {
   "cell_type": "code",
   "execution_count": 6,
   "id": "constant-framework",
   "metadata": {},
   "outputs": [
    {
     "name": "stdout",
     "output_type": "stream",
     "text": [
      "['a', 'b', 'c', 'd', 'e']\n",
      "['a', 'b', 'x', 'c', 'd', 'e']\n",
      "['a', 'c', 'd', 'e']\n",
      "['z', 'e']\n",
      "[1, 2, 3, 4]\n"
     ]
    }
   ],
   "source": [
    "# Slicing\n",
    "my_list = ['a', 'b', 'c', 'd', 'e']\n",
    "print(my_list)\n",
    "\n",
    "my_list[2:2] = 'x'\n",
    "print(my_list)\n",
    "\n",
    "my_list[1:3] = []\n",
    "print(my_list)\n",
    "\n",
    "my_list[:3] = 'z'\n",
    "print(my_list)\n",
    "\n",
    "nums = [1, 2, 3, 4, 5, 6, 7]\n",
    "print(nums[:-3])"
   ]
  },
  {
   "cell_type": "code",
   "execution_count": 39,
   "id": "earned-egypt",
   "metadata": {},
   "outputs": [
    {
     "name": "stdout",
     "output_type": "stream",
     "text": [
      "['m', 'a', 'r', 'c', 'e', 'l']\n",
      "Last item:  l\n",
      "Last two items:  ['e', 'l']\n",
      "Everything except two items ['m', 'a', 'r', 'c']\n",
      "Reversed:  ['l', 'e', 'c', 'r', 'a', 'm']\n",
      "First two items reversed ['a', 'm']\n",
      "Last two items reversed ['l', 'e']\n",
      "Everything except the last two items reversed:  ['c', 'r', 'a', 'm']\n"
     ]
    }
   ],
   "source": [
    "vals = ['m', 'a', 'r', 'c', 'e', 'l']\n",
    "print(vals)\n",
    "\n",
    "# vals[start:stop:step] # start through not past stop, by step\n",
    "\n",
    "print(\"Last item: \", vals[-1])    # last item in the array\n",
    "print(\"Last two items: \", vals[-2:])   # last two items in the array\n",
    "print(\"Everything except two items\", vals[:-2])   # everything except the last two items\n",
    "\n",
    "print(\"Reversed: \", vals[::-1])    # all items in the array, reversed\n",
    "print(\"First two items reversed\", vals[1::-1])   # the first two items, reversed\n",
    "print(\"Last two items reversed\", vals[:-3:-1])  # the last two items, reversed\n",
    "print(\"Everything except the last two items reversed: \", vals[-3::-1])  # everything except the last two items, reversed"
   ]
  },
  {
   "cell_type": "code",
   "execution_count": 40,
   "id": "affected-strap",
   "metadata": {},
   "outputs": [
    {
     "name": "stdout",
     "output_type": "stream",
     "text": [
      "['a']\n"
     ]
    }
   ],
   "source": [
    "l = []\n",
    "l.append('a')\n",
    "print(l)"
   ]
  },
  {
   "cell_type": "code",
   "execution_count": 41,
   "id": "manufactured-bottom",
   "metadata": {},
   "outputs": [
    {
     "data": {
      "text/plain": [
       "'a'"
      ]
     },
     "execution_count": 41,
     "metadata": {},
     "output_type": "execute_result"
    }
   ],
   "source": [
    "l.pop()"
   ]
  },
  {
   "cell_type": "code",
   "execution_count": 42,
   "id": "severe-million",
   "metadata": {},
   "outputs": [
    {
     "name": "stdout",
     "output_type": "stream",
     "text": [
      "[]\n"
     ]
    }
   ],
   "source": [
    "print(l)"
   ]
  },
  {
   "cell_type": "code",
   "execution_count": null,
   "id": "revised-placement",
   "metadata": {},
   "outputs": [],
   "source": []
  }
 ],
 "metadata": {
  "kernelspec": {
   "display_name": "Python 3 (ipykernel)",
   "language": "python",
   "name": "python3"
  },
  "language_info": {
   "codemirror_mode": {
    "name": "ipython",
    "version": 3
   },
   "file_extension": ".py",
   "mimetype": "text/x-python",
   "name": "python",
   "nbconvert_exporter": "python",
   "pygments_lexer": "ipython3",
   "version": "3.9.2"
  }
 },
 "nbformat": 4,
 "nbformat_minor": 5
}
