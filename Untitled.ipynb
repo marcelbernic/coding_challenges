{
 "cells": [
  {
   "cell_type": "code",
   "execution_count": 75,
   "id": "11c1e7a7",
   "metadata": {},
   "outputs": [],
   "source": [
    "from collections import defaultdict\n",
    "\n",
    "def findOrder(self, numCourses: int, prerequisites: List[List[int]]) -> List[int]:\n",
    "    adj_list = defaultdict(list)\n",
    "    indegree = {}\n",
    "\n",
    "    for dest, src in prerequisites:\n",
    "        adj_list[src].append(dest)\n",
    "        indegree[dest] = indegree.get(dest, 0) + 1\n",
    "\n",
    "    zero_indegree = [k for k in range(numCourses) if k not in indegree]\n",
    "    res = []\n",
    "    while zero_indegree:\n",
    "        vertex = zero_indegree.pop()\n",
    "        res.append(vertex)\n",
    "        for dependency in adj_list[vertex]:\n",
    "            indegree[dependency] -= 1\n",
    "            if indegree[dependency] == 0:\n",
    "                zero_indegree.append(dependency)\n",
    "\n",
    "    return res if len(res) == numCourses else []"
   ]
  }
 ],
 "metadata": {
  "kernelspec": {
   "display_name": "Python 3 (ipykernel)",
   "language": "python",
   "name": "python3"
  },
  "language_info": {
   "codemirror_mode": {
    "name": "ipython",
    "version": 3
   },
   "file_extension": ".py",
   "mimetype": "text/x-python",
   "name": "python",
   "nbconvert_exporter": "python",
   "pygments_lexer": "ipython3",
   "version": "3.9.2"
  }
 },
 "nbformat": 4,
 "nbformat_minor": 5
}
