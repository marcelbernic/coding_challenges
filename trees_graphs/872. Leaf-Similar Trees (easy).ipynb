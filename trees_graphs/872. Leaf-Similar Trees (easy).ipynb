{
 "cells": [
  {
   "cell_type": "markdown",
   "id": "ba2667c8",
   "metadata": {},
   "source": [
    "## 872. Leaf-Similar Trees (easy)"
   ]
  },
  {
   "cell_type": "markdown",
   "id": "aeaa7d12",
   "metadata": {},
   "source": [
    "Consider all the leaves of a binary tree, from left to right order, the values of those leaves form a leaf value sequence.\n",
    "\n",
    "For example, in the given tree above, the leaf value sequence is (6, 7, 4, 9, 8).\n",
    "\n",
    "Two binary trees are considered leaf-similar if their leaf value sequence is the same.\n",
    "\n",
    "Return true if and only if the two given trees with head nodes root1 and root2 are leaf-similar.\n",
    "\n",
    " \n",
    "\n",
    "Example 1:\n",
    "\n",
    "Input: root1 = [3,5,1,6,2,9,8,null,null,7,4], root2 = [3,5,1,6,7,4,2,null,null,null,null,null,null,9,8]\n",
    "Output: true\n",
    "\n",
    "Example 2:\n",
    "\n",
    "Input: root1 = [1], root2 = [1]\n",
    "Output: true\n",
    "\n",
    "Example 3:\n",
    "\n",
    "Input: root1 = [1], root2 = [2]\n",
    "Output: false\n",
    "\n",
    "Example 4:\n",
    "\n",
    "Input: root1 = [1,2], root2 = [2,2]\n",
    "Output: true\n",
    "\n",
    "Example 5:\n",
    "\n",
    "Input: root1 = [1,2,3], root2 = [1,3,2]\n",
    "Output: false\n",
    "\n",
    " \n",
    "\n",
    "Constraints:\n",
    "\n",
    "    The number of nodes in each tree will be in the range [1, 200].\n",
    "    Both of the given trees will have values in the range [0, 200].\n",
    "\n"
   ]
  },
  {
   "cell_type": "code",
   "execution_count": 1,
   "id": "7775e4a4",
   "metadata": {},
   "outputs": [],
   "source": [
    "from typing import List\n",
    "\n",
    "# Definition for a binary tree node.\n",
    "class TreeNode:\n",
    "    def __init__(self, val=0, left=None, right=None):\n",
    "        self.val = val\n",
    "        self.left = left\n",
    "        self.right = right\n",
    "        \n",
    "class Solution:\n",
    "    def leafSimilar(self, root1: TreeNode, root2: TreeNode) -> bool:\n",
    "        if root1.left == root1.right == root2.left == root2.right == None:\n",
    "            return root1.val == root2.val\n",
    "        \n",
    "        self.queue = []\n",
    "        self.queue2 = []\n",
    "        # build stack with first tree and postorder traversal\n",
    "        def extract_leafs(node: TreeNode, queue: List):\n",
    "            if node:\n",
    "                extract_leafs(node.left, queue)\n",
    "                extract_leafs(node.right, queue)\n",
    "                if node.left is None and node.right is None:\n",
    "                    queue.append(node.val)   \n",
    "        \n",
    "        extract_leafs(root1, self.queue)\n",
    "        extract_leafs(root2, self.queue2)\n",
    "            \n",
    "        return self.queue == self.queue2"
   ]
  },
  {
   "cell_type": "code",
   "execution_count": 2,
   "id": "0f33e0b1",
   "metadata": {},
   "outputs": [],
   "source": [
    "# Another more elegant solution with dfs (leet code)\n",
    "class Solution:\n",
    "    def leafSimilar(self, root1, root2):\n",
    "        def dfs(node):\n",
    "            if node:\n",
    "                if not node.left and not node.right:\n",
    "                    yield node.val\n",
    "                yield from dfs(node.left)\n",
    "                yield from dfs(node.right)\n",
    "\n",
    "        return list(dfs(root1)) == list(dfs(root2))"
   ]
  },
  {
   "cell_type": "code",
   "execution_count": null,
   "id": "b0b1275e",
   "metadata": {},
   "outputs": [],
   "source": [
    "# Write unit tests"
   ]
  }
 ],
 "metadata": {
  "kernelspec": {
   "display_name": "Python 3 (ipykernel)",
   "language": "python",
   "name": "python3"
  },
  "language_info": {
   "codemirror_mode": {
    "name": "ipython",
    "version": 3
   },
   "file_extension": ".py",
   "mimetype": "text/x-python",
   "name": "python",
   "nbconvert_exporter": "python",
   "pygments_lexer": "ipython3",
   "version": "3.9.2"
  }
 },
 "nbformat": 4,
 "nbformat_minor": 5
}
