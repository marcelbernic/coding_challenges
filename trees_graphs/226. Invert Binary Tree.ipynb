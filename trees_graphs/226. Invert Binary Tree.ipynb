{
 "cells": [
  {
   "cell_type": "markdown",
   "id": "286c353a",
   "metadata": {},
   "source": [
    "## 226. Invert Binary Tree"
   ]
  },
  {
   "cell_type": "markdown",
   "id": "92ddbe53",
   "metadata": {},
   "source": [
    "Given the root of a binary tree, invert the tree, and return its root.\n",
    "\n",
    " \n",
    "\n",
    "Example 1:\n",
    "\n",
    "Input: root = [4,2,7,1,3,6,9]\n",
    "Output: [4,7,2,9,6,3,1]\n",
    "\n",
    "Example 2:\n",
    "\n",
    "Input: root = [2,1,3]\n",
    "Output: [2,3,1]\n",
    "\n",
    "Example 3:\n",
    "\n",
    "Input: root = []\n",
    "Output: []\n",
    "\n",
    " \n",
    "\n",
    "Constraints:\n",
    "\n",
    "    The number of nodes in the tree is in the range [0, 100].\n",
    "    -100 <= Node.val <= 100"
   ]
  },
  {
   "cell_type": "markdown",
   "id": "c1dd41f1",
   "metadata": {},
   "source": [
    "### Edgecases\n",
    "1. Empty tree\n",
    "2. One element tree"
   ]
  },
  {
   "cell_type": "code",
   "execution_count": 1,
   "id": "7ba6908f",
   "metadata": {},
   "outputs": [],
   "source": [
    "# Definition for a binary tree node.\n",
    "class TreeNode:\n",
    "    def __init__(self, val=0, left=None, right=None):\n",
    "        self.val = val\n",
    "        self.left = left\n",
    "        self.right = right"
   ]
  },
  {
   "cell_type": "code",
   "execution_count": 3,
   "id": "a6c2bbf4",
   "metadata": {},
   "outputs": [],
   "source": [
    "# Recursion (postorder traversal)\n",
    "class Solution:\n",
    "    def invertTree(self, root: TreeNode) -> TreeNode:\n",
    "        if root:\n",
    "            self.invertTree(root.left)\n",
    "            self.invertTree(root.right)\n",
    "            root.left, root.right = root.right, root.left\n",
    "        return root\n",
    "        "
   ]
  },
  {
   "cell_type": "code",
   "execution_count": 4,
   "id": "37e05940",
   "metadata": {},
   "outputs": [],
   "source": [
    "# Iterative approach (using a queue)\n",
    "class Solution:\n",
    "    def invertTree(self, root: TreeNode) -> TreeNode:\n",
    "        if not root:\n",
    "            return None\n",
    "        \n",
    "        queue = []\n",
    "        queue.append(root)\n",
    "        while len(queue) > 0:\n",
    "            current = queue.pop(0)\n",
    "            current.left, current.right = current.right, current.left\n",
    "            if current.left is not None:\n",
    "                queue.append(current.left)\n",
    "            if current.right is not None:\n",
    "                queue.append(current.right)\n",
    "                \n",
    "        return root"
   ]
  },
  {
   "cell_type": "code",
   "execution_count": null,
   "id": "def39fdf",
   "metadata": {},
   "outputs": [],
   "source": [
    "# Write unit tests"
   ]
  }
 ],
 "metadata": {
  "kernelspec": {
   "display_name": "Python 3 (ipykernel)",
   "language": "python",
   "name": "python3"
  },
  "language_info": {
   "codemirror_mode": {
    "name": "ipython",
    "version": 3
   },
   "file_extension": ".py",
   "mimetype": "text/x-python",
   "name": "python",
   "nbconvert_exporter": "python",
   "pygments_lexer": "ipython3",
   "version": "3.9.2"
  }
 },
 "nbformat": 4,
 "nbformat_minor": 5
}
