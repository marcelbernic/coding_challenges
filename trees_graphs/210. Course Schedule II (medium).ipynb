{
 "cells": [
  {
   "cell_type": "markdown",
   "id": "f657397f",
   "metadata": {},
   "source": [
    "## 210. Course Schedule II (medium)\n",
    "\n",
    "There are a total of numCourses courses you have to take, labeled from 0 to numCourses - 1. You are given an array prerequisites where prerequisites[i] = [ai, bi] indicates that you must take course bi first if you want to take course ai.\n",
    "\n",
    "    For example, the pair [0, 1], indicates that to take course 0 you have to first take course 1.\n",
    "\n",
    "Return the ordering of courses you should take to finish all courses. If there are many valid answers, return any of them. If it is impossible to finish all courses, return an empty array.\n",
    "\n",
    " \n",
    "\n",
    "Example 1:\n",
    "```\n",
    "Input: numCourses = 2, prerequisites = [[1,0]]\n",
    "Output: [0,1]\n",
    "Explanation: There are a total of 2 courses to take. To take course 1 you should have finished course 0. So the correct course order is [0,1].\n",
    "```\n",
    "Example 2:\n",
    "```\n",
    "Input: numCourses = 4, prerequisites = [[1,0],[2,0],[3,1],[3,2]]\n",
    "Output: [0,2,1,3]\n",
    "Explanation: There are a total of 4 courses to take. To take course 3 you should have finished both courses 1 and 2. Both courses 1 and 2 should be taken after you finished course 0.\n",
    "So one correct course order is [0,1,2,3]. Another correct ordering is [0,2,1,3].\n",
    "```\n",
    "Example 3:\n",
    "```\n",
    "Input: numCourses = 1, prerequisites = []\n",
    "Output: [0]\n",
    "```\n",
    " \n",
    "\n",
    "Constraints:\n",
    "```\n",
    "    1 <= numCourses <= 2000\n",
    "    0 <= prerequisites.length <= numCourses * (numCourses - 1)\n",
    "    prerequisites[i].length == 2\n",
    "    0 <= ai, bi < numCourses\n",
    "    ai != bi\n",
    "    All the pairs [ai, bi] are distinct.\n",
    "```\n"
   ]
  },
  {
   "cell_type": "code",
   "execution_count": null,
   "id": "18983ba9",
   "metadata": {},
   "outputs": [],
   "source": [
    "def findOrder(self, numCourses: int, prerequisites: List[List[int]]) -> List[int]:\n",
    "    adj_list = defaultdict(list)\n",
    "    indegree = {}\n",
    "    for dest, src in prerequisites:\n",
    "        adj_list[src].append(dest)\n",
    "        indegree[dest] = indegree.get(dest, 0) + 1\n",
    "\n",
    "    zero_indegree_queue = deque([k for k in range(numCourses) if k not in indegree])\n",
    "    topological_sorted_order = []\n",
    "    while zero_indegree_queue:\n",
    "        vertex = zero_indegree_queue.popleft()\n",
    "        topological_sorted_order.append(vertex)\n",
    "\n",
    "        if vertex in adj_list:\n",
    "            for neighbor in adj_list[vertex]:\n",
    "                indegree[neighbor] -= 1\n",
    "                if indegree[neighbor] == 0:\n",
    "                    zero_indegree_queue.append(neighbor)\n",
    "\n",
    "    return topological_sorted_order if len(topological_sorted_order) == numCourses else []\n",
    " "
   ]
  }
 ],
 "metadata": {
  "kernelspec": {
   "display_name": "Python 3 (ipykernel)",
   "language": "python",
   "name": "python3"
  },
  "language_info": {
   "codemirror_mode": {
    "name": "ipython",
    "version": 3
   },
   "file_extension": ".py",
   "mimetype": "text/x-python",
   "name": "python",
   "nbconvert_exporter": "python",
   "pygments_lexer": "ipython3",
   "version": "3.9.2"
  }
 },
 "nbformat": 4,
 "nbformat_minor": 5
}
