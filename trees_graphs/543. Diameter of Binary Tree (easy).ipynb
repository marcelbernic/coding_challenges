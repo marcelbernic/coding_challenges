{
 "cells": [
  {
   "cell_type": "markdown",
   "id": "dab39776",
   "metadata": {},
   "source": [
    "## 543. Diameter of Binary Tree (easy)\n",
    "Given the root of a binary tree, return the length of the diameter of the tree.\n",
    "\n",
    "The diameter of a binary tree is the length of the longest path between any two nodes in a tree. This path may or may not pass through the root.\n",
    "\n",
    "The length of a path between two nodes is represented by the number of edges between them.\n",
    "\n",
    " \n",
    "\n",
    "Example 1:\n",
    "```\n",
    "Input: root = [1,2,3,4,5]\n",
    "Output: 3\n",
    "Explanation: 3 is the length of the path [4,2,1,3] or [5,2,1,3].\n",
    "```\n",
    "Example 2:\n",
    "```\n",
    "Input: root = [1,2]\n",
    "Output: 1\n",
    "```\n",
    " \n",
    "\n",
    "Constraints:\n",
    "```\n",
    "    The number of nodes in the tree is in the range [1, 104].\n",
    "    -100 <= Node.val <= 100\n",
    "```\n"
   ]
  },
  {
   "cell_type": "code",
   "execution_count": 2,
   "id": "c2833c9e",
   "metadata": {},
   "outputs": [],
   "source": [
    "from typing import Optional\n",
    "\n",
    "# Definition for a binary tree node.\n",
    "class TreeNode:\n",
    "    def __init__(self, val=0, left=None, right=None):\n",
    "        self.val = val\n",
    "        self.left = left\n",
    "        self.right = right\n",
    "        \n",
    "class Solution:\n",
    "    def diameterOfBinaryTree(self, root: Optional[TreeNode]) -> int:\n",
    "        diameter = 0\n",
    "        \n",
    "        def longest_path(node: Optional[TreeNode]) -> int:\n",
    "            if not node: return 0\n",
    "            \n",
    "            nonlocal diameter\n",
    "            left_path = longest_path(node.left)\n",
    "            right_path = longest_path(node.right)\n",
    "            \n",
    "            diameter = max(diameter, left_path + right_path)\n",
    "            \n",
    "            return max(left_path, right_path) + 1\n",
    "        \n",
    "        longest_path(root)\n",
    "        return diameter\n"
   ]
  }
 ],
 "metadata": {
  "kernelspec": {
   "display_name": "Python 3 (ipykernel)",
   "language": "python",
   "name": "python3"
  },
  "language_info": {
   "codemirror_mode": {
    "name": "ipython",
    "version": 3
   },
   "file_extension": ".py",
   "mimetype": "text/x-python",
   "name": "python",
   "nbconvert_exporter": "python",
   "pygments_lexer": "ipython3",
   "version": "3.9.2"
  }
 },
 "nbformat": 4,
 "nbformat_minor": 5
}
