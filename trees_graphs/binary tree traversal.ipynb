{
 "cells": [
  {
   "cell_type": "markdown",
   "id": "resident-framing",
   "metadata": {},
   "source": [
    "Binary Trees"
   ]
  },
  {
   "cell_type": "code",
   "execution_count": 2,
   "id": "stainless-habitat",
   "metadata": {},
   "outputs": [],
   "source": [
    "class TreeNode:\n",
    "    def __init__(self, val=0, left=None, right=None):\n",
    "        self.val = val\n",
    "        self.left = left\n",
    "        self.right = right\n",
    "    "
   ]
  },
  {
   "cell_type": "markdown",
   "id": "f98a9244",
   "metadata": {},
   "source": [
    "## Top-down Solution (preorder)\n",
    "1. return specific value for null node\n",
    "2. update the answer if needed                      // answer <-- params\n",
    "3. left_ans = top_down(root.left, left_params)      // left_params <-- root.val, params\n",
    "4. right_ans = top_down(root.right, right_params)   // right_params <-- root.val, params\n",
    "5. return the answer if needed                      // answer <-- left_ans, right_ans\n",
    "\n",
    "Example: max depth of a tree:\n",
    "1. return if root is null\n",
    "2. if root is a leaf node:\n",
    "3.     answer = max(answer, depth)         // update the answer if needed\n",
    "4. maximum_depth(root.left, depth + 1)     // call the function recursively for left child\n",
    "5. maximum_depth(root.right, depth + 1)    // call the function recursively for right child\n",
    "\n",
    "## Bottom-up Solution (postorder)\n",
    "1. return specific value for null node\n",
    "2. left_ans = bottom_up(root.left)      // call function recursively for left child\n",
    "3. right_ans = bottom_up(root.right)    // call function recursively for right child\n",
    "4. return answers                       // answer <-- left_ans, right_ans, root.val\n",
    "\n",
    "Example: max depth of a tree:\n",
    "1. return 0 if root is null                 // return 0 for null node\n",
    "2. left_depth = maximum_depth(root.left)\n",
    "3. right_depth = maximum_depth(root.right)\n",
    "4. return max(left_depth, right_depth) + 1  // return depth of the subtree rooted at root"
   ]
  },
  {
   "cell_type": "code",
   "execution_count": 3,
   "id": "impossible-pointer",
   "metadata": {},
   "outputs": [],
   "source": [
    "n1 = TreeNode(3)\n",
    "n2 = TreeNode(4)\n",
    "n3 = TreeNode(2, n1, n2)\n",
    "\n",
    "n4 = TreeNode(4)\n",
    "n5 = TreeNode(3)\n",
    "n6 = TreeNode(2, n4, n5)\n",
    "\n",
    "n7 = TreeNode(1, n3, n6)"
   ]
  },
  {
   "cell_type": "code",
   "execution_count": 4,
   "id": "latin-unknown",
   "metadata": {},
   "outputs": [],
   "source": [
    "# Recursive\n",
    "def inOrder(node):\n",
    "    if node:\n",
    "        inOrder(node.left)\n",
    "        print(node.val, end=\" \")\n",
    "        inOrder(node.right)\n",
    "\n",
    "def preOrder(node):\n",
    "    if node:\n",
    "        print(node.val, end=\" \")\n",
    "        preOrder(node.left)\n",
    "        preOrder(node.right)\n",
    "        \n",
    "def postOrder(node):\n",
    "    if node:\n",
    "        postOrder(node.left)\n",
    "        postOrder(node.right)\n",
    "        print(node.val, end=\" \")"
   ]
  },
  {
   "cell_type": "code",
   "execution_count": null,
   "id": "92d08bbe",
   "metadata": {},
   "outputs": [],
   "source": [
    "# Iterative\n",
    "def preorderTraversal(self, root: TreeNode) -> List[int]:\n",
    "    res = []\n",
    "    if root is None:\n",
    "        return res\n",
    "\n",
    "    stack = [root]\n",
    "    while stack:\n",
    "        current = stack.pop()\n",
    "        res.append(current.val)\n",
    "        if current.right is not None: stack.append(current.right)\n",
    "        if current.left is not None: stack.append(current.left)\n",
    "    return res\n",
    "\n",
    "def inorderTraversal(self, root: TreeNode) -> List[int]:\n",
    "    res = []    \n",
    "    if root is None:\n",
    "        return res\n",
    "\n",
    "    stack = []\n",
    "    current = root\n",
    "    while current or stack:\n",
    "        while current:\n",
    "            stack.append(current)\n",
    "            current = current.left\n",
    "        current = stack.pop()\n",
    "        res.append(current.val)\n",
    "        current = current.right\n",
    "\n",
    "    return res"
   ]
  },
  {
   "cell_type": "code",
   "execution_count": 5,
   "id": "linear-supply",
   "metadata": {},
   "outputs": [
    {
     "name": "stdout",
     "output_type": "stream",
     "text": [
      "3 2 4 1 4 2 3 \n",
      "1 2 3 4 2 4 3 \n",
      "3 4 2 4 3 2 1 "
     ]
    }
   ],
   "source": [
    "inOrder(n7)\n",
    "print()\n",
    "preOrder(n7)\n",
    "print()\n",
    "postOrder(n7)"
   ]
  },
  {
   "cell_type": "code",
   "execution_count": 7,
   "id": "utility-measure",
   "metadata": {},
   "outputs": [],
   "source": [
    "# Diameter of binary tree -> DFS\n",
    "# interesting how we use self.result to update a global variable within recursion\n",
    "class Solution:\n",
    "    def diameterOfBinaryTree(self, root: TreeNode) -> int:\n",
    "        \n",
    "        self.result = 0\n",
    "        \n",
    "        def max_depth(node: TreeNode):\n",
    "            if not node: return 0\n",
    "            left = max_depth(node.left)\n",
    "            right = max_depth(node.right)\n",
    "            \n",
    "            self.result = max(self.result, left+right)        \n",
    "            return max(left, right) + 1\n",
    "        \n",
    "        max_depth(root)\n",
    "        return self.result"
   ]
  },
  {
   "cell_type": "code",
   "execution_count": null,
   "id": "greatest-garlic",
   "metadata": {},
   "outputs": [],
   "source": []
  }
 ],
 "metadata": {
  "kernelspec": {
   "display_name": "Python 3 (ipykernel)",
   "language": "python",
   "name": "python3"
  },
  "language_info": {
   "codemirror_mode": {
    "name": "ipython",
    "version": 3
   },
   "file_extension": ".py",
   "mimetype": "text/x-python",
   "name": "python",
   "nbconvert_exporter": "python",
   "pygments_lexer": "ipython3",
   "version": "3.9.2"
  }
 },
 "nbformat": 4,
 "nbformat_minor": 5
}
