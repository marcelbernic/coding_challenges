{
 "cells": [
  {
   "cell_type": "code",
   "execution_count": 3,
   "id": "88238503",
   "metadata": {},
   "outputs": [],
   "source": [
    "%run ./graph.py\n",
    "%run ./priority_dict.py"
   ]
  },
  {
   "cell_type": "markdown",
   "id": "d614f102",
   "metadata": {},
   "source": [
    "- Explore graph.py file to see the interface/implementation of a graph before solving this challenge\n",
    "- Explore priority_dict.py file to see the interface/implementation of a graph before solving this challenge"
   ]
  },
  {
   "cell_type": "code",
   "execution_count": 4,
   "id": "ea94b4f6",
   "metadata": {},
   "outputs": [],
   "source": [
    "# Challenge\n",
    "def dijkstra_distance_table(graph, source):\n",
    "    pass\n",
    "\n",
    "\n",
    "def dijkstra_shortest_path(graph, source, destination):\n",
    "    pass\n"
   ]
  },
  {
   "cell_type": "code",
   "execution_count": 5,
   "id": "c341f237",
   "metadata": {},
   "outputs": [],
   "source": [
    "# TODO: add unit tests"
   ]
  },
  {
   "cell_type": "code",
   "execution_count": 6,
   "id": "8f07f213",
   "metadata": {},
   "outputs": [],
   "source": [
    "# This is a place holder so you cannot see the solution without scrolling down\n",
    "\n",
    "# PUSH YOURSELF! before looking at the solution\n",
    "\n",
    "\n",
    "\n",
    "\n",
    "\n",
    "\n",
    "\n",
    "\n",
    "\n",
    "\n",
    "\n",
    "\n",
    "\n",
    "\n",
    "\n",
    "\n",
    "\n",
    "\n",
    "\n",
    "\n",
    "\n",
    "\n",
    "\n"
   ]
  },
  {
   "cell_type": "code",
   "execution_count": 7,
   "id": "5c9d39f4",
   "metadata": {},
   "outputs": [],
   "source": [
    "def dijkstra_distance_table(graph, source):\n",
    "    # A dictionary mapping from the vertex number to a tuple of\n",
    "    # (distance from source, last vertex on path from source)\n",
    "    distance_table = {}\n",
    "    \n",
    "    for i in range(graph.numVertices):\n",
    "        distance_table[i] = (None, None)\n",
    " \n",
    "    # The distance to the source from itself is 0\n",
    "    distance_table[source] = (0, source)\n",
    "    \n",
    "    # Holds mapping of vertex id to distance from source\n",
    "    # Access the highest priority (lowest distance) item first\n",
    "    priority_queue = priority_dict()\n",
    "    \n",
    "    priority_queue[source] = 0\n",
    "    \n",
    "    while len(priority_queue.keys()) > 0:\n",
    "        current_vertex = priority_queue.pop_smallest()\n",
    "        \n",
    "        # The distance of the current node from the source\n",
    "        current_distance = distance_table[current_vertex][0]\n",
    "        \n",
    "        for neighbor in graph.get_adjacent_vertices(current_vertex):\n",
    "            distance = current_distance + g.get_edge_weight(current_vertex, neighbor)\n",
    "            \n",
    "            # The last recorder distance of this neighbor from the source\n",
    "            neighbor_distance = distance_table[neighbor][0]\n",
    "            \n",
    "            # If there is a currently recorded distance from the source and this is greater than\n",
    "            # the distance of the new path found, update the current distance from the source in the \n",
    "            # distance table\n",
    "            if neighbor_distance is None or neighbor_distance > distance:\n",
    "                distance_table[neighbor] = (distance, current_vertex)\n",
    "                \n",
    "                priority_queue[neighbor] = distance\n",
    "                \n",
    "    return distance_table\n",
    "\n",
    "\n",
    "def dijkstra_shortest_path(graph, source, destination):\n",
    "    distance_table = dijkstra_distance_table(graph, source)\n",
    "    \n",
    "    path = [destination]\n",
    "    \n",
    "    previous_vertex = distance_table[destination][1]\n",
    "    \n",
    "    while previous_vertex is not None and previous_vertex is not source:\n",
    "        path = [previous_vertex] + path\n",
    "        \n",
    "        previous_vertex = distance_table[previous_vertex][1]\n",
    "        \n",
    "    if previous_vertex is None:\n",
    "        print(\"There is no path from %d to %d\" % (source, destination))\n",
    "    else:\n",
    "        path = [source] + path\n",
    "        print(\"Shortest path is: \", path)\n"
   ]
  }
 ],
 "metadata": {
  "kernelspec": {
   "display_name": "Python 3 (ipykernel)",
   "language": "python",
   "name": "python3"
  },
  "language_info": {
   "codemirror_mode": {
    "name": "ipython",
    "version": 3
   },
   "file_extension": ".py",
   "mimetype": "text/x-python",
   "name": "python",
   "nbconvert_exporter": "python",
   "pygments_lexer": "ipython3",
   "version": "3.9.2"
  }
 },
 "nbformat": 4,
 "nbformat_minor": 5
}
