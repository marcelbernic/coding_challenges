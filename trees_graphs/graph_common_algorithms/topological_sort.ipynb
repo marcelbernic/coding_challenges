{
 "cells": [
  {
   "cell_type": "markdown",
   "id": "e3055be3",
   "metadata": {},
   "source": [
    "### A Topological Sort is any ordering of all the DAG's vertices that satisfies all precedence relationships (establishing precedence)"
   ]
  },
  {
   "cell_type": "code",
   "execution_count": 1,
   "id": "88238503",
   "metadata": {},
   "outputs": [],
   "source": [
    "%run ./graph.py"
   ]
  },
  {
   "cell_type": "markdown",
   "id": "d614f102",
   "metadata": {},
   "source": [
    "- Explore graph.py file to see the interface/implementation of a graph before solving this challenge"
   ]
  },
  {
   "cell_type": "code",
   "execution_count": null,
   "id": "ea94b4f6",
   "metadata": {},
   "outputs": [],
   "source": [
    "# Challenge\n",
    "from queue import Queue\n",
    "\n",
    "def topological_sort(graph):\n",
    "    pass"
   ]
  },
  {
   "cell_type": "code",
   "execution_count": null,
   "id": "c341f237",
   "metadata": {},
   "outputs": [],
   "source": [
    "# TODO: add unit tests"
   ]
  },
  {
   "cell_type": "code",
   "execution_count": null,
   "id": "8f07f213",
   "metadata": {},
   "outputs": [],
   "source": [
    "# This is a place holder so you cannot see the solution without scrolling down\n",
    "\n",
    "# PUSH YOURSELF! before looking at the solution\n",
    "\n",
    "\n",
    "\n",
    "\n",
    "\n",
    "\n",
    "\n",
    "\n",
    "\n",
    "\n",
    "\n",
    "\n",
    "\n",
    "\n",
    "\n",
    "\n",
    "\n",
    "\n",
    "\n",
    "\n",
    "\n",
    "\n",
    "\n"
   ]
  },
  {
   "cell_type": "code",
   "execution_count": 2,
   "id": "5c9d39f4",
   "metadata": {},
   "outputs": [],
   "source": [
    "from queue import Queue\n",
    "\n",
    "def topological_sort(graph):\n",
    "    queue = Queue()\n",
    "    indegreeMap = {}\n",
    "    \n",
    "    for i in range(graph.numVertices):\n",
    "        indegreeMap[i] = graph.get_indegree(i)\n",
    "        \n",
    "        # Queue all nodes which have no dependencies i.e. -> no edges coming in\n",
    "        if indegreeMap[i] == 0:\n",
    "            queue.put(i)\n",
    "            \n",
    "    sortedList = []\n",
    "    while not queue.empty():\n",
    "        vertex = queue.get()\n",
    "        \n",
    "        sortedList.append(vertex)\n",
    "        \n",
    "        for v in graph.get_adjacent_vertices(vertex):\n",
    "            indegreeMap[v] = indegreeMap[v] - 1\n",
    "            \n",
    "            if indegreeMap[v] == 0:\n",
    "                queue.put(v)\n",
    "                \n",
    "    if len(sortedList) != graph.numVertices:\n",
    "        raise ValueError(\"This graph has a cycle!\")\n",
    "        \n",
    "    print(sortedList)"
   ]
  }
 ],
 "metadata": {
  "kernelspec": {
   "display_name": "Python 3 (ipykernel)",
   "language": "python",
   "name": "python3"
  },
  "language_info": {
   "codemirror_mode": {
    "name": "ipython",
    "version": 3
   },
   "file_extension": ".py",
   "mimetype": "text/x-python",
   "name": "python",
   "nbconvert_exporter": "python",
   "pygments_lexer": "ipython3",
   "version": "3.9.2"
  }
 },
 "nbformat": 4,
 "nbformat_minor": 5
}
