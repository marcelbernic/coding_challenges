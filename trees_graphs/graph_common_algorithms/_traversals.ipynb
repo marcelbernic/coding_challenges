{
 "cells": [
  {
   "cell_type": "code",
   "execution_count": null,
   "id": "98c79fb7",
   "metadata": {},
   "outputs": [],
   "source": [
    "# Recursive\n",
    "def inOrder(node):\n",
    "    if node:\n",
    "        inOrder(node.left)\n",
    "        print(node.val, end=\" \")\n",
    "        inOrder(node.right)\n",
    "        \n",
    "# Iterative\n",
    "def preorderTraversal(self, root: TreeNode) -> List[int]:\n",
    "    res = []\n",
    "    if root is None:\n",
    "        return res\n",
    "\n",
    "    stack = [root]\n",
    "    while stack:\n",
    "        current = stack.pop()\n",
    "        res.append(current.val)\n",
    "        if current.right is not None: stack.append(current.right)\n",
    "        if current.left is not None: stack.append(current.left)\n",
    "    return res\n",
    "\n",
    "def inorderTraversal(self, root: TreeNode) -> List[int]:\n",
    "    res = []    \n",
    "    if root is None:\n",
    "        return res\n",
    "\n",
    "    stack = []\n",
    "    current = root\n",
    "    while current or stack:\n",
    "        while current:\n",
    "            stack.append(current)\n",
    "            current = current.left\n",
    "        current = stack.pop()\n",
    "        res.append(current.val)\n",
    "        current = current.right\n",
    "\n",
    "    return res\n",
    "\n",
    "def is_bst(node, lower_lim=None, upper_lim=None):\n",
    "    if lower_lim is not None and node.val < lower_lim:\n",
    "        return False\n",
    "    if upper_lim is not None and node.val > upper_lim:\n",
    "        return False\n",
    "    \n",
    "    is_left_bst = True\n",
    "    is_right_bst = True\n",
    "    \n",
    "    if node.left is not None:\n",
    "        is_left_bst = is_bst(node.left, lower_lim, node.val)\n",
    "    if is_left_bst and node.right is not None:\n",
    "        is_right_bst = is_bst(node.right, node.val, upper_lim)\n",
    "        \n",
    "    return is_left_bst and is_right_bst"
   ]
  }
 ],
 "metadata": {
  "kernelspec": {
   "display_name": "Python 3 (ipykernel)",
   "language": "python",
   "name": "python3"
  },
  "language_info": {
   "codemirror_mode": {
    "name": "ipython",
    "version": 3
   },
   "file_extension": ".py",
   "mimetype": "text/x-python",
   "name": "python",
   "nbconvert_exporter": "python",
   "pygments_lexer": "ipython3",
   "version": "3.8.9"
  }
 },
 "nbformat": 4,
 "nbformat_minor": 5
}
