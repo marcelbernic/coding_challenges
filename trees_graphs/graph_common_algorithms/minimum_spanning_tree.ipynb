{
 "cells": [
  {
   "cell_type": "markdown",
   "id": "53ca5c92",
   "metadata": {},
   "source": [
    "### Covering all nodes in a graph (minimum spanning tree) - ALL nodes are connected with maximum one edge (a spanning tree cannot have any cycles)\n",
    "\n",
    "Given n points, connect them in the cheapest possible way so that there will be a path between every pair of points\n",
    "\n",
    "- Minimum Spanning Tree of a Graph  ->  Spanning tree with the lowest weight"
   ]
  },
  {
   "cell_type": "code",
   "execution_count": 3,
   "id": "88238503",
   "metadata": {},
   "outputs": [],
   "source": [
    "%run ./graph.py\n",
    "%run ./priority_dict.py"
   ]
  },
  {
   "cell_type": "markdown",
   "id": "d614f102",
   "metadata": {},
   "source": [
    "- Explore graph.py file to see the interface/implementation of a graph before solving this challenge\n",
    "- Explore priority_dict.py file to see the interface/implementation of a graph before solving this challenge"
   ]
  },
  {
   "cell_type": "code",
   "execution_count": 4,
   "id": "ea94b4f6",
   "metadata": {},
   "outputs": [],
   "source": [
    "# Challenge\n",
    "# Prim's Algorithm\n",
    "    # works only with connected graphs\n",
    "    # every intermediary graph is also a spanning tree\n",
    "    # Binary Heap -> O(Eln(V ))\n",
    "    # Array       -> O(E + V^2)\n",
    "\n",
    "def spanning_tree(graph, source):\n",
    "    pass\n"
   ]
  },
  {
   "cell_type": "code",
   "execution_count": 5,
   "id": "c341f237",
   "metadata": {},
   "outputs": [],
   "source": [
    "# TODO: add unit tests"
   ]
  },
  {
   "cell_type": "code",
   "execution_count": 6,
   "id": "8f07f213",
   "metadata": {},
   "outputs": [],
   "source": [
    "# This is a place holder so you cannot see the solution without scrolling down\n",
    "\n",
    "# PUSH YOURSELF! before looking at the solution\n",
    "\n",
    "\n",
    "\n",
    "\n",
    "\n",
    "\n",
    "\n",
    "\n",
    "\n",
    "\n",
    "\n",
    "\n",
    "\n",
    "\n",
    "\n",
    "\n",
    "\n",
    "\n",
    "\n",
    "\n",
    "\n",
    "\n",
    "\n"
   ]
  },
  {
   "cell_type": "code",
   "execution_count": 7,
   "id": "5c9d39f4",
   "metadata": {},
   "outputs": [],
   "source": [
    "# Prim's Algorithm\n",
    "    # works only with connected graphs\n",
    "    # every intermediary graph is also a spanning tree\n",
    "    # Binary Heap -> O(Eln(V ))\n",
    "    # Array       -> O(E + V^2)\n",
    "\n",
    "def spanning_tree(graph, source):\n",
    "    \n",
    "    # A dictionary mapping from the vertex number to a tuple of\n",
    "    # (distance from source, last vertex on path from source)\n",
    "    distance_table = {}\n",
    "    \n",
    "    for i in range(graph.numVertices):\n",
    "        distance_table[i] = (None, None)\n",
    "        \n",
    "    # The distance to the source from itself is 0\n",
    "    distance_table[source] = (0, source)\n",
    "    \n",
    "    # Holds mapping of vertex id to distance from source\n",
    "    # Access the highest priority (lowest distance) item\n",
    "    # first\n",
    "    priority_queue = priority_dict()\n",
    "    priority_queue[source] = 0\n",
    "    \n",
    "    visited_vertices = set()\n",
    "    \n",
    "    # Set of edges where each edge is represented as a string\n",
    "    # \"1->2\": is an edge between vertices 1 and 2\n",
    "    spanning_tree = set()\n",
    "    \n",
    "    while len(priority_queue.keys()) > 0:\n",
    "        current_vertex = priority_queue.pop_smallest()\n",
    "        \n",
    "        # If we've visited a vertex earlier then we have all\n",
    "        # outbound edges from it, we do not process it again\n",
    "        if current_vertex in visited_vertices:\n",
    "            continue\n",
    "        \n",
    "        visited_vertices.add(current_vertex)\n",
    "        \n",
    "        # If the current vertex is the source, we havent't traversed an\n",
    "        # edge yet, no edge to add to our spanning tree\n",
    "        if current_vertex != source:\n",
    "            # The current vertex is connected by the lowest weighted edge\n",
    "            last_vertex = distance_table[current_vertex][1]\n",
    "            \n",
    "            edge = str(last_vertex) + \"-->\" + str(current_vertex)\n",
    "            \n",
    "            if edge not in spannint_tree:\n",
    "                spanning_tree.add(edge)\n",
    "                \n",
    "        for neighbor in graph.get_adjacent_vertices(current_vertex):\n",
    "            # The distance to the neighbor is only the weight of the edge\n",
    "            # connecting the neighbor\n",
    "            distance = g.get_edge_weight(current_vertex, neighbor)\n",
    "            \n",
    "            # The last recorded distance of this neighbor\n",
    "            neighbor_distance = distance_table[neighbor][0]\n",
    "            \n",
    "            # If this neighbor has been seen for the first time or the new edge\n",
    "            # connecting this neighbor is of a lower weight than the last\n",
    "            if neighbor_distance is None or neighbor_distance > distance:\n",
    "                distance_table[neighbor] = (distance, current_vertex)\n",
    "                priority_queue[neighbor] = distance\n",
    "                \n",
    "    for edge in spanning_tree:\n",
    "        print(edge)\n"
   ]
  }
 ],
 "metadata": {
  "kernelspec": {
   "display_name": "Python 3 (ipykernel)",
   "language": "python",
   "name": "python3"
  },
  "language_info": {
   "codemirror_mode": {
    "name": "ipython",
    "version": 3
   },
   "file_extension": ".py",
   "mimetype": "text/x-python",
   "name": "python",
   "nbconvert_exporter": "python",
   "pygments_lexer": "ipython3",
   "version": "3.9.2"
  }
 },
 "nbformat": 4,
 "nbformat_minor": 5
}
