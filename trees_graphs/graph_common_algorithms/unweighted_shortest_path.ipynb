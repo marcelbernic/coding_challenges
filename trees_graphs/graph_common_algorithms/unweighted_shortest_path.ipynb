{
 "cells": [
  {
   "cell_type": "code",
   "execution_count": 3,
   "id": "88238503",
   "metadata": {},
   "outputs": [],
   "source": [
    "%run ./graph.py"
   ]
  },
  {
   "cell_type": "markdown",
   "id": "d614f102",
   "metadata": {},
   "source": [
    "- Explore graph.py file to see the interface/implementation of a graph before solving this challenge"
   ]
  },
  {
   "cell_type": "code",
   "execution_count": 7,
   "id": "ea94b4f6",
   "metadata": {},
   "outputs": [],
   "source": [
    "# Challenge\n",
    "from queue import Queue\n",
    "\n",
    "def build_distance_table(graph, source):\n",
    "    pass\n",
    "\n",
    "def shortest_path(graph, source, destination):\n",
    "    pass\n",
    "        "
   ]
  },
  {
   "cell_type": "code",
   "execution_count": null,
   "id": "c341f237",
   "metadata": {},
   "outputs": [],
   "source": [
    "# TODO: add unit tests"
   ]
  },
  {
   "cell_type": "code",
   "execution_count": 5,
   "id": "8f07f213",
   "metadata": {},
   "outputs": [],
   "source": [
    "# This is a place holder so you cannot see the solution without scrolling down\n",
    "\n",
    "# PUSH YOURSELF! before looking at the solution\n",
    "\n",
    "\n",
    "\n",
    "\n",
    "\n",
    "\n",
    "\n",
    "\n",
    "\n",
    "\n",
    "\n",
    "\n",
    "\n",
    "\n",
    "\n",
    "\n",
    "\n",
    "\n",
    "\n",
    "\n",
    "\n",
    "\n",
    "\n"
   ]
  },
  {
   "cell_type": "code",
   "execution_count": 6,
   "id": "5c9d39f4",
   "metadata": {},
   "outputs": [],
   "source": [
    "from queue import Queue\n",
    "\n",
    "def build_distance_table(graph, source):\n",
    "    # A dictionary mapping from the vertex number to a tuple of\n",
    "    # (distance from source, last vertex on path from source)\n",
    "    distance_table = {}\n",
    "    \n",
    "    for i in range(graph.numVertices):\n",
    "        distance_table[i] = (None, None)\n",
    "        \n",
    "    # The distance to the source from itself is 0\n",
    "    distance_table[source] = (0, source)\n",
    "    \n",
    "    queue = Queue()\n",
    "    queue.put(source)\n",
    "    \n",
    "    while not queue.empty():\n",
    "        current_vertex = queue.get()\n",
    "        \n",
    "        # The distance of the current vertex from the source\n",
    "        current_distance = distance_table[current_vertex][0]\n",
    "        \n",
    "        for neighbor in graph.get_adjacent_vertices(current_vertex):\n",
    "            # Only update the distance table if no current distance from the source is set\n",
    "            if distance_table[neighbor][0] is None:\n",
    "                distance_table[neighbor] = (1 + current_distance, current_vertex)\n",
    "                \n",
    "                # Enqueue the neighbor only if it has other adjacent vertices to explore\n",
    "                if len(graph.get_adjacent_vertices(neighbor)) > 0:\n",
    "                    queue.put(neighbor)\n",
    "                    \n",
    "    return distance_table\n",
    "\n",
    "\n",
    "def shortest_path(graph, source, destination):\n",
    "    distance_table = build_distance_table(graph, source)\n",
    "    \n",
    "    path = [destination]\n",
    "    \n",
    "    previous_vertex = distance_table[destination][1]\n",
    "    \n",
    "    while previous_vertex is not None and previous_vertex is not source:\n",
    "        path = [previous_vertex] + path\n",
    "        \n",
    "        previous_vertex = distance_table[previous_vertex][1]\n",
    "        \n",
    "    if previous_vertex is None:\n",
    "        print(\"There is no path from %d to %d\" % (source, destination))\n",
    "    else:\n",
    "        path = [source] + path\n",
    "        print(\"Shortest path is: \", path)\n",
    "        "
   ]
  }
 ],
 "metadata": {
  "kernelspec": {
   "display_name": "Python 3 (ipykernel)",
   "language": "python",
   "name": "python3"
  },
  "language_info": {
   "codemirror_mode": {
    "name": "ipython",
    "version": 3
   },
   "file_extension": ".py",
   "mimetype": "text/x-python",
   "name": "python",
   "nbconvert_exporter": "python",
   "pygments_lexer": "ipython3",
   "version": "3.9.2"
  }
 },
 "nbformat": 4,
 "nbformat_minor": 5
}
