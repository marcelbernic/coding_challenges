{
 "cells": [
  {
   "cell_type": "code",
   "execution_count": 1,
   "id": "88238503",
   "metadata": {},
   "outputs": [],
   "source": [
    "%run ./graph.py"
   ]
  },
  {
   "cell_type": "markdown",
   "id": "d614f102",
   "metadata": {},
   "source": [
    "- Explore graph.py file to see the interface/implementation of a graph before solving this challenge"
   ]
  },
  {
   "cell_type": "code",
   "execution_count": 2,
   "id": "ea94b4f6",
   "metadata": {},
   "outputs": [],
   "source": [
    "# Challenge\n",
    "from queue import Queue\n",
    "\n",
    "def breadth_first(graph, start=0):\n",
    "    pass\n",
    "                \n",
    "                \n",
    "def depth_first(graph, visited, current=0):\n",
    "    pass\n"
   ]
  },
  {
   "cell_type": "code",
   "execution_count": null,
   "id": "c341f237",
   "metadata": {},
   "outputs": [],
   "source": [
    "# TODO: add unit tests"
   ]
  },
  {
   "cell_type": "code",
   "execution_count": null,
   "id": "8f07f213",
   "metadata": {},
   "outputs": [],
   "source": [
    "# This is a place holder so you cannot see the solution without scrolling down\n",
    "\n",
    "# PUSH YOURSELF! before looking at the solution\n",
    "\n",
    "\n",
    "\n",
    "\n",
    "\n",
    "\n",
    "\n",
    "\n",
    "\n",
    "\n",
    "\n",
    "\n",
    "\n",
    "\n",
    "\n",
    "\n",
    "\n",
    "\n",
    "\n",
    "\n",
    "\n",
    "\n",
    "\n"
   ]
  },
  {
   "cell_type": "code",
   "execution_count": 1,
   "id": "5c9d39f4",
   "metadata": {},
   "outputs": [],
   "source": [
    "from queue import Queue\n",
    "\n",
    "def breadth_first(graph, start=0):\n",
    "    queue = Queue() # FIFO\n",
    "    queue.put(start)\n",
    "    \n",
    "    visited = np.zeros(graph.numVertices)\n",
    "    \n",
    "    while not queue.empty():\n",
    "        vertex = queue.get()\n",
    "        \n",
    "        if visited[vertex] == 1:\n",
    "            continue\n",
    "            \n",
    "        print(\"Visit: \", vertex)\n",
    "        visited[vertex] = 1\n",
    "        \n",
    "        for v in graph.get_adjacent_vertices(vertex):\n",
    "            if visited[v] != 1:\n",
    "                queue.put(v)\n",
    "                \n",
    "                \n",
    "def depth_first(graph, visited, current=0):\n",
    "    if visited[current] == 1:\n",
    "        return\n",
    "    \n",
    "    visited[current] = 1\n",
    "    print(\"Visit: \", current)\n",
    "    \n",
    "    for vertex in graph.get_adjacent_vertices(current):\n",
    "        depth_first(graph, visited, vertex)\n"
   ]
  }
 ],
 "metadata": {
  "kernelspec": {
   "display_name": "Python 3 (ipykernel)",
   "language": "python",
   "name": "python3"
  },
  "language_info": {
   "codemirror_mode": {
    "name": "ipython",
    "version": 3
   },
   "file_extension": ".py",
   "mimetype": "text/x-python",
   "name": "python",
   "nbconvert_exporter": "python",
   "pygments_lexer": "ipython3",
   "version": "3.9.2"
  }
 },
 "nbformat": 4,
 "nbformat_minor": 5
}
