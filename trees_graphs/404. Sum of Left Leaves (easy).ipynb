{
 "cells": [
  {
   "cell_type": "markdown",
   "id": "7dac2901",
   "metadata": {},
   "source": [
    "## 404. Sum of Left Leaves (easy)"
   ]
  },
  {
   "cell_type": "markdown",
   "id": "b1e4b994",
   "metadata": {},
   "source": [
    "Given the root of a binary tree, return the sum of all left leaves.\n",
    "\n",
    " \n",
    "\n",
    "Example 1:\n",
    "\n",
    "Input: root = [3,9,20,null,null,15,7]\n",
    "Output: 24\n",
    "Explanation: There are two left leaves in the binary tree, with values 9 and 15 respectively.\n",
    "\n",
    "Example 2:\n",
    "\n",
    "Input: root = [1]\n",
    "Output: 0\n",
    "\n",
    " \n",
    "\n",
    "Constraints:\n",
    "\n",
    "    The number of nodes in the tree is in the range [1, 1000].\n",
    "    -1000 <= Node.val <= 1000\n",
    "\n"
   ]
  },
  {
   "cell_type": "code",
   "execution_count": 3,
   "id": "f4e3113c",
   "metadata": {},
   "outputs": [],
   "source": [
    "# Definition for a binary tree node.\n",
    "class TreeNode:\n",
    "    def __init__(self, val=0, left=None, right=None):\n",
    "        self.val = val\n",
    "        self.left = left\n",
    "        self.right = right\n",
    "        \n",
    "class Solution:\n",
    "    def sumOfLeftLeaves(self, root: TreeNode) -> int:\n",
    "        self.res = 0\n",
    "        \n",
    "        def dfs(node: TreeNode, isLeft: bool):\n",
    "            if node:\n",
    "                if not node.left and not node.right and isLeft:\n",
    "                    self.res += node.val\n",
    "                dfs(node.left, True)\n",
    "                dfs(node.right, False)\n",
    "        \n",
    "        dfs(root, False)\n",
    "        return self.res"
   ]
  },
  {
   "cell_type": "code",
   "execution_count": 4,
   "id": "b8172831",
   "metadata": {},
   "outputs": [],
   "source": [
    "# Iterative approach (from Leet Code)\n",
    "class Solution:\n",
    "    \n",
    "    def sumOfLeftLeaves(self, root: TreeNode) -> int:\n",
    "        \n",
    "        if root is None: \n",
    "            return 0\n",
    "\n",
    "        def is_leaf(node):\n",
    "            return node is not None and node.left is None and node.right is None\n",
    "\n",
    "        stack = [root]\n",
    "        total = 0\n",
    "        while stack:\n",
    "            sub_root = stack.pop()\n",
    "            # Check if the left node is a leaf node.\n",
    "            if is_leaf(sub_root.left):\n",
    "                total += sub_root.left.val\n",
    "            # If the right node exists, put it on the stack.\n",
    "            if sub_root.right is not None:\n",
    "                stack.append(sub_root.right)\n",
    "            # If the left node exists, put it on the stack.\n",
    "            if sub_root.left is not None:\n",
    "                stack.append(sub_root.left)\n",
    "\n",
    "        return total"
   ]
  },
  {
   "cell_type": "code",
   "execution_count": 2,
   "id": "06266d81",
   "metadata": {},
   "outputs": [],
   "source": [
    "# Write unit tests"
   ]
  }
 ],
 "metadata": {
  "kernelspec": {
   "display_name": "Python 3 (ipykernel)",
   "language": "python",
   "name": "python3"
  },
  "language_info": {
   "codemirror_mode": {
    "name": "ipython",
    "version": 3
   },
   "file_extension": ".py",
   "mimetype": "text/x-python",
   "name": "python",
   "nbconvert_exporter": "python",
   "pygments_lexer": "ipython3",
   "version": "3.9.2"
  }
 },
 "nbformat": 4,
 "nbformat_minor": 5
}
