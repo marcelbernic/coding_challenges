{
 "cells": [
  {
   "cell_type": "markdown",
   "id": "4ebd4724",
   "metadata": {},
   "source": [
    "Given two strings,write a method to decide if one is a permutation of the\n",
    "other."
   ]
  },
  {
   "cell_type": "code",
   "execution_count": 15,
   "id": "494f9250",
   "metadata": {},
   "outputs": [],
   "source": [
    "# challenge\n",
    "from collections import defaultdict\n",
    "\n",
    "def is_permutation(s1: str, s2: str) -> bool:\n",
    "    pass\n",
    "    "
   ]
  },
  {
   "cell_type": "code",
   "execution_count": 14,
   "id": "49c56b7a",
   "metadata": {},
   "outputs": [
    {
     "name": "stdout",
     "output_type": "stream",
     "text": [
      "Test case: Is permutation\n",
      "Test case: Is not permutation\n",
      "Success: *****\n"
     ]
    }
   ],
   "source": [
    "# tests\n",
    "import unittest\n",
    "\n",
    "class TestChallenge(unittest.TestCase):\n",
    "\n",
    "    def test_challenge(self):\n",
    "        print('Test case: Is permutation')\n",
    "        self.assertEqual(is_permutation(\"abbcda\", \"dabacb\"), True)\n",
    "        print('Test case: Is not permutation')\n",
    "        self.assertEqual(is_permutation(\"abbcda\", \"dabaacb\"), False)\n",
    "        print('Success: *****')\n",
    "\n",
    "test = TestChallenge()\n",
    "test.test_challenge()\n"
   ]
  },
  {
   "cell_type": "code",
   "execution_count": 7,
   "id": "f7e40cd3",
   "metadata": {},
   "outputs": [],
   "source": [
    "# This is a place holder so you cannot see the solution without scrolling down\n",
    "\n",
    "# PUSH YOURSELF! before looking at the solution\n",
    "\n",
    "\n",
    "\n",
    "\n",
    "\n",
    "\n",
    "\n",
    "\n",
    "\n",
    "\n",
    "\n",
    "\n",
    "\n",
    "\n",
    "\n",
    "\n",
    "\n",
    "\n",
    "\n",
    "\n",
    "\n",
    "\n",
    "\n"
   ]
  },
  {
   "cell_type": "code",
   "execution_count": 8,
   "id": "588c4421",
   "metadata": {},
   "outputs": [],
   "source": [
    "# solution\n",
    "def is_permutation(s1: str, s2: str) -> bool:\n",
    "    frequency = defaultdict(str)\n",
    "    for char in s1:\n",
    "        frequency[char] = 0\n",
    "    for char in s1:\n",
    "        frequency[char] += 1\n",
    "        \n",
    "    for char in s2:\n",
    "        if char not in frequency:\n",
    "            return False\n",
    "        frequency[char] -= 1\n",
    "        \n",
    "    for value in frequency.values():\n",
    "        if value != 0:\n",
    "            return False\n",
    "        \n",
    "    return True\n",
    "\n",
    "# other solution is to sort both strings and then compare them -> O(NlogN)"
   ]
  }
 ],
 "metadata": {
  "kernelspec": {
   "display_name": "Python 3 (ipykernel)",
   "language": "python",
   "name": "python3"
  },
  "language_info": {
   "codemirror_mode": {
    "name": "ipython",
    "version": 3
   },
   "file_extension": ".py",
   "mimetype": "text/x-python",
   "name": "python",
   "nbconvert_exporter": "python",
   "pygments_lexer": "ipython3",
   "version": "3.9.2"
  }
 },
 "nbformat": 4,
 "nbformat_minor": 5
}
