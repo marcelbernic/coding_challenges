{
 "cells": [
  {
   "cell_type": "markdown",
   "id": "b2316e6f",
   "metadata": {},
   "source": [
    "Write a method to replace all spaces in a string with '%20'. You may assume that the string has sufficient space at the end to hold the additional characters,and that you are given the \"true\" length of the string. (Note: If implementing in Java,please use a character array so that you can perform this operation in place.)\n",
    "\n",
    "EXAMPLE\n",
    "```\n",
    "Input: \"Mr John Smith \", 13 \n",
    "\n",
    "Output: \"Mr%20John%20Smith\"\n",
    "```"
   ]
  },
  {
   "cell_type": "code",
   "execution_count": 8,
   "id": "494f9250",
   "metadata": {},
   "outputs": [],
   "source": [
    "# challenge\n",
    "def urlify(url: str) -> str:\n",
    "    pass\n"
   ]
  },
  {
   "cell_type": "code",
   "execution_count": 10,
   "id": "49c56b7a",
   "metadata": {},
   "outputs": [
    {
     "name": "stdout",
     "output_type": "stream",
     "text": [
      "Test case: Url with spaces\n",
      "Test case: Url without spaces\n",
      "Success: *****\n"
     ]
    }
   ],
   "source": [
    "# tests\n",
    "import unittest\n",
    "\n",
    "class TestChallenge(unittest.TestCase):\n",
    "\n",
    "    def test_challenge(self):\n",
    "        print('Test case: Url with spaces')\n",
    "        self.assertEqual(urlify(\"Mr John Smith    \"), \"Mr%20John%20Smith\")\n",
    "        print('Test case: Url without spaces')\n",
    "        self.assertEqual(urlify(\"MrJohnSmith    \"), \"MrJohnSmith\")\n",
    "        print('Success: *****')\n",
    "\n",
    "test = TestChallenge()\n",
    "test.test_challenge()\n"
   ]
  },
  {
   "cell_type": "code",
   "execution_count": 7,
   "id": "f7e40cd3",
   "metadata": {},
   "outputs": [],
   "source": [
    "# This is a place holder so you cannot see the solution without scrolling down\n",
    "\n",
    "# PUSH YOURSELF! before looking at the solution\n",
    "\n",
    "\n",
    "\n",
    "\n",
    "\n",
    "\n",
    "\n",
    "\n",
    "\n",
    "\n",
    "\n",
    "\n",
    "\n",
    "\n",
    "\n",
    "\n",
    "\n",
    "\n",
    "\n",
    "\n",
    "\n",
    "\n",
    "\n"
   ]
  },
  {
   "cell_type": "code",
   "execution_count": 9,
   "id": "588c4421",
   "metadata": {},
   "outputs": [],
   "source": [
    "# solution\n",
    "def urlify(url: str) -> str:\n",
    "    return ''.join(['%20' if c == ' ' else c for c in url.strip()])"
   ]
  }
 ],
 "metadata": {
  "kernelspec": {
   "display_name": "Python 3 (ipykernel)",
   "language": "python",
   "name": "python3"
  },
  "language_info": {
   "codemirror_mode": {
    "name": "ipython",
    "version": 3
   },
   "file_extension": ".py",
   "mimetype": "text/x-python",
   "name": "python",
   "nbconvert_exporter": "python",
   "pygments_lexer": "ipython3",
   "version": "3.9.2"
  }
 },
 "nbformat": 4,
 "nbformat_minor": 5
}
