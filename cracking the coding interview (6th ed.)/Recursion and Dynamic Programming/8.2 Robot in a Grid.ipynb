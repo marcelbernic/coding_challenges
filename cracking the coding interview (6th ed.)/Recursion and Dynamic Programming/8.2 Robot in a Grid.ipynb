{
 "cells": [
  {
   "cell_type": "code",
   "execution_count": 64,
   "id": "fcb0addd",
   "metadata": {},
   "outputs": [
    {
     "data": {
      "text/html": [
       "<style>.container { width:80% !important; }</style>"
      ],
      "text/plain": [
       "<IPython.core.display.HTML object>"
      ]
     },
     "metadata": {},
     "output_type": "display_data"
    }
   ],
   "source": [
    "from IPython.core.display import display, HTML\n",
    "display(HTML(\"<style>.container { width:80% !important; }</style>\"))"
   ]
  },
  {
   "cell_type": "code",
   "execution_count": 57,
   "id": "5801f3cf",
   "metadata": {},
   "outputs": [],
   "source": [
    "# challenge\n",
    "from typing import Tuple, List, Set\n",
    "import numpy as np\n",
    "\n",
    "def robot_in_grid(obstacles: List[Tuple[int, int]], num_row: int, num_col: int) -> List[Tuple[int, int]]:\n",
    "    pass\n"
   ]
  },
  {
   "cell_type": "code",
   "execution_count": 62,
   "id": "89b7d19f",
   "metadata": {},
   "outputs": [
    {
     "name": "stdout",
     "output_type": "stream",
     "text": [
      "Test case: 0x0 |\n",
      "Test case: 4x4 | (3, 0) is innaccessible\n",
      "Test case: 4x4 | (3, 2), (2, 3) are innaccessible\n",
      "Test case: 2x2 | all accessible\n",
      "Success: *****\n"
     ]
    }
   ],
   "source": [
    "# tests\n",
    "import unittest\n",
    "\n",
    "class TestChallenge(unittest.TestCase):\n",
    "\n",
    "    def test_challenge(self):\n",
    "        print('Test case: 0x0 |')\n",
    "        self.assertEqual(robot_in_grid([], 0, 0), None)\n",
    "        print('Test case: 4x4 | (3, 0) is innaccessible')\n",
    "        self.assertEqual(robot_in_grid([(3, 0)], 4, 4), [(0, 0), (1, 0), (2, 0), (2, 1), (3, 1), (3, 2), (3, 3)])\n",
    "        print('Test case: 4x4 | (3, 2), (2, 3) are innaccessible')\n",
    "        self.assertEqual(robot_in_grid([(3, 2), (2,3)], 4, 4), None)\n",
    "        print('Test case: 2x2 | all accessible')\n",
    "        self.assertEqual(robot_in_grid([], 2, 2), [(0, 0), (1, 0), (1, 1)])\n",
    "        print('Success: *****')\n",
    "\n",
    "test = TestChallenge()\n",
    "test.test_challenge()\n"
   ]
  },
  {
   "cell_type": "code",
   "execution_count": 61,
   "id": "58db87b3",
   "metadata": {},
   "outputs": [],
   "source": [
    "# This is a place holder so you cannot see the solution without scrolling down\n",
    "\n",
    "# PUSH YOURSELF! before looking at the solution\n",
    "\n",
    "\n",
    "\n",
    "\n",
    "\n",
    "\n",
    "\n",
    "\n",
    "\n",
    "\n",
    "\n",
    "\n",
    "\n",
    "\n",
    "\n",
    "\n",
    "\n",
    "\n",
    "\n",
    "\n",
    "\n",
    "\n",
    "\n"
   ]
  },
  {
   "cell_type": "code",
   "execution_count": 60,
   "id": "f2e895c5",
   "metadata": {},
   "outputs": [],
   "source": [
    "# solution\n",
    "def robot_in_grid(obstacles: List[Tuple[int, int]], num_row: int, num_col: int) -> List[Tuple[int, int]]:\n",
    "    # Build the world\n",
    "    world = np.zeros((num_row, num_col))\n",
    "    for obstacle in obstacles:\n",
    "        world[obstacle[0], obstacle[1]] = -1\n",
    "        \n",
    "    # Handle some special cases\n",
    "    if (len(world) == 0): return None\n",
    "    \n",
    "    # Initiate response variable and memoizaition\n",
    "    path = []\n",
    "    failed_points = set()\n",
    "    \n",
    "    # Call recursively (top-down) by storing the result and failed_points\n",
    "    if (get_path(world, len(world)-1, len(world[0])-1, path, failed_points)):\n",
    "        return path;\n",
    "    return None\n",
    "\n",
    "def get_path(world: List[List[int]], row: int, col: int, path: List[Tuple[int, int]], failed_points: Set[Tuple[int, int]]) -> bool:\n",
    "    # if out of bounds or not available, return\n",
    "    if col < 0 or row < 0 or world[row][col] == -1: \n",
    "        return False\n",
    "    # if we've already visted this cell, return\n",
    "    if (row, col) in failed_points:\n",
    "        return False\n",
    "    \n",
    "    is_at_origin = (row == 0) and (col == 0)\n",
    "    # if there's a path from start to current location, add this location\n",
    "    if (is_at_origin or get_path(world, row, col-1, path, failed_points) or get_path(world, row-1, col, path, failed_points)):\n",
    "        path.append((row, col))\n",
    "        return True\n",
    "        \n",
    "    failed_points.add((row, col)) # cache the result\n",
    "    return False;"
   ]
  }
 ],
 "metadata": {
  "kernelspec": {
   "display_name": "Python 3 (ipykernel)",
   "language": "python",
   "name": "python3"
  },
  "language_info": {
   "codemirror_mode": {
    "name": "ipython",
    "version": 3
   },
   "file_extension": ".py",
   "mimetype": "text/x-python",
   "name": "python",
   "nbconvert_exporter": "python",
   "pygments_lexer": "ipython3",
   "version": "3.9.2"
  }
 },
 "nbformat": 4,
 "nbformat_minor": 5
}
