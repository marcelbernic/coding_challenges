{
 "cells": [
  {
   "cell_type": "markdown",
   "id": "6b8c2b88",
   "metadata": {},
   "source": [
    "## Power set\n",
    "\n",
    "Write a method to return all subsets of a set."
   ]
  },
  {
   "cell_type": "code",
   "execution_count": 59,
   "id": "494f9250",
   "metadata": {},
   "outputs": [
    {
     "data": {
      "text/plain": [
       "[[], [4], [7], [4, 7], [9], [4, 9], [7, 9], [4, 7, 9]]"
      ]
     },
     "execution_count": 59,
     "metadata": {},
     "output_type": "execute_result"
    }
   ],
   "source": [
    "from typing import List\n",
    "\n",
    "def power_set(given_set: List[int]) -> List[List[int]]:\n",
    "    res = []\n",
    "    max_subsets = 1 << len(given_set)\n",
    "    for k in range(max_subsets):\n",
    "        res.append(set_from_mask(given_set, k))\n",
    "    \n",
    "    return res\n",
    "\n",
    "def set_from_mask(given_set: List[int], k: int) -> List[int]:\n",
    "    res = []\n",
    "    index = 0\n",
    "    while k > 0:\n",
    "        if k & 1 == 1:\n",
    "            res.append(given_set[index])\n",
    "        index += 1\n",
    "        k >>= 1\n",
    "    return res\n",
    "\n",
    "#set_from_mask([4, 7, 9], 5)\n",
    "power_set([4, 7, 9])"
   ]
  },
  {
   "cell_type": "code",
   "execution_count": 63,
   "id": "49c56b7a",
   "metadata": {},
   "outputs": [
    {
     "name": "stdout",
     "output_type": "stream",
     "text": [
      "Test case: [1, 2]\n",
      "Test case: [[4, 7, 9]\n",
      "Success: *****\n"
     ]
    }
   ],
   "source": [
    "# tests\n",
    "import unittest\n",
    "\n",
    "class TestChallenge(unittest.TestCase):\n",
    "\n",
    "    def test_challenge(self):\n",
    "        print('Test case: [1, 2]')\n",
    "        self.assertEqual(power_set([1, 2]), [[], [2], [1], [2, 1]])\n",
    "        print('Test case: [[4, 7, 9]')\n",
    "        self.assertEqual(power_set([4, 7, 9]), [[], [9], [7], [9, 7], [4], [9, 4], [7, 4], [9, 7, 4]])\n",
    "        print('Success: *****')\n",
    "\n",
    "test = TestChallenge()\n",
    "test.test_challenge()\n"
   ]
  },
  {
   "cell_type": "code",
   "execution_count": 62,
   "id": "f7e40cd3",
   "metadata": {},
   "outputs": [],
   "source": [
    "# This is a place holder so you cannot see the solution without scrolling down\n",
    "\n",
    "# PUSH YOURSELF! before looking at the solution\n",
    "\n",
    "\n",
    "\n",
    "\n",
    "\n",
    "\n",
    "\n",
    "\n",
    "\n",
    "\n",
    "\n",
    "\n",
    "\n",
    "\n",
    "\n",
    "\n",
    "\n",
    "\n",
    "\n",
    "\n",
    "\n",
    "\n",
    "\n"
   ]
  },
  {
   "cell_type": "code",
   "execution_count": 61,
   "id": "588c4421",
   "metadata": {},
   "outputs": [],
   "source": [
    "# solution\n",
    "# recursive\n",
    "def power_set(given_set: List[int]) -> List[List[int]]:\n",
    "    return _power_set(given_set, 0)\n",
    "\n",
    "def _power_set(given_set: List[int], index: int) -> List[List[int]]:\n",
    "    all_subsets =[]\n",
    "    # Base case - add empty set\n",
    "    if (len(given_set) == index):\n",
    "        all_subsets = []\n",
    "        all_subsets.append([])\n",
    "    else:\n",
    "        all_subsets = _power_set(given_set, index + 1)\n",
    "        item = given_set[index]\n",
    "        more_subsets = []\n",
    "        for subset in all_subsets:\n",
    "            new_subset = []\n",
    "            new_subset.extend(subset)\n",
    "            new_subset.append(item)\n",
    "            more_subsets.append(new_subset)\n",
    "        all_subsets.extend(more_subsets)\n",
    "    \n",
    "    return all_subsets\n",
    "\n",
    "# combinatorial solution using bitwise\n",
    "def power_set2(given_set: List[int]) -> List[List[int]]:\n",
    "    all_subsets = []\n",
    "    max = 1 << len(given_set) # computes 2^n\n",
    "    for k in range(max):\n",
    "        subset = convert_int_set(k, given_set)\n",
    "        all_subsets.append(subset)\n",
    "    return all_subsets\n",
    "\n",
    "def convert_int_set(k: int, given_set: List[int]) -> List[int]:\n",
    "    subset = []\n",
    "    index = 0\n",
    "    while k > 0:\n",
    "        if k & 1 == 1: # if least significative bit of k is '1'\n",
    "            subset.append(given_set[index])\n",
    "        index += 1\n",
    "        k >>= 1 # shift bit to right\n",
    "    return subset "
   ]
  }
 ],
 "metadata": {
  "kernelspec": {
   "display_name": "Python 3 (ipykernel)",
   "language": "python",
   "name": "python3"
  },
  "language_info": {
   "codemirror_mode": {
    "name": "ipython",
    "version": 3
   },
   "file_extension": ".py",
   "mimetype": "text/x-python",
   "name": "python",
   "nbconvert_exporter": "python",
   "pygments_lexer": "ipython3",
   "version": "3.9.2"
  }
 },
 "nbformat": 4,
 "nbformat_minor": 5
}
