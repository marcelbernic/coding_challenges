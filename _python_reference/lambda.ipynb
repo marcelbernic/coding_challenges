{
 "cells": [
  {
   "cell_type": "code",
   "execution_count": 5,
   "id": "d84034dc",
   "metadata": {},
   "outputs": [
    {
     "name": "stdout",
     "output_type": "stream",
     "text": [
      "['id1', 'id2', 'id3', 'id22', 'id30', 'id100']\n"
     ]
    }
   ],
   "source": [
    "(lambda x: x * x)(3)\n",
    "\n",
    "ids = ['id1', 'id2', 'id30', 'id3', 'id22', 'id100']\n",
    "sorted_ids = sorted(ids, key=lambda x: int(x[2:]))\n",
    "print(sorted_ids)"
   ]
  },
  {
   "cell_type": "code",
   "execution_count": 26,
   "id": "98b1ea12",
   "metadata": {},
   "outputs": [
    {
     "name": "stdout",
     "output_type": "stream",
     "text": [
      "['Cat', 'Dog', 'Cow']\n",
      "['Cat', 'Dog', 'Cow']\n"
     ]
    }
   ],
   "source": [
    "# Map\n",
    "print(list(map(lambda x: x.capitalize(), ['cat', 'dog', 'cow'])))\n",
    "\n",
    "# using list comprehension\n",
    "print([x.capitalize() for x in ['cat', 'dog', 'cow']])\n"
   ]
  },
  {
   "cell_type": "code",
   "execution_count": 4,
   "id": "cccfe32d",
   "metadata": {},
   "outputs": [
    {
     "name": "stdout",
     "output_type": "stream",
     "text": [
      "[0, 2, 4, 6, 8, 10]\n",
      "[0, 2, 4, 6, 8, 10, 12]\n"
     ]
    }
   ],
   "source": [
    "# Filter\n",
    "even = lambda x: x%2 == 0\n",
    "print(list(filter(even, range(11))))\n",
    "\n",
    "# using list comprehension\n",
    "print([x for x in range(13) if x%2 == 0])"
   ]
  },
  {
   "cell_type": "code",
   "execution_count": 3,
   "id": "63cdb73a",
   "metadata": {},
   "outputs": [
    {
     "data": {
      "text/plain": [
       "10"
      ]
     },
     "execution_count": 3,
     "metadata": {},
     "output_type": "execute_result"
    }
   ],
   "source": [
    "# Reduce\n",
    "from functools import reduce\n",
    "\n",
    "numbers = [0, 1, 2, 3, 4]\n",
    "\n",
    "reduce(lambda a, b: a+b, numbers, 0)"
   ]
  }
 ],
 "metadata": {
  "kernelspec": {
   "display_name": "Python 3 (ipykernel)",
   "language": "python",
   "name": "python3"
  },
  "language_info": {
   "codemirror_mode": {
    "name": "ipython",
    "version": 3
   },
   "file_extension": ".py",
   "mimetype": "text/x-python",
   "name": "python",
   "nbconvert_exporter": "python",
   "pygments_lexer": "ipython3",
   "version": "3.9.2"
  }
 },
 "nbformat": 4,
 "nbformat_minor": 5
}
