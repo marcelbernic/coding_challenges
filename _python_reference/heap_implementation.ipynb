{
 "cells": [
  {
   "cell_type": "markdown",
   "id": "chinese-sydney",
   "metadata": {},
   "source": [
    "Various coding interview problems"
   ]
  },
  {
   "cell_type": "code",
   "execution_count": null,
   "id": "digital-kazakhstan",
   "metadata": {},
   "outputs": [],
   "source": [
    "# Find K smallest Items in an array\n",
    "# Sorting -> O(nlogn)\n",
    "# Selection Sort -> O(nk)\n",
    "# Max Heap -> O(k + (n-k)logk )"
   ]
  }
 ],
 "metadata": {
  "kernelspec": {
   "display_name": "Python 3 (ipykernel)",
   "language": "python",
   "name": "python3"
  },
  "language_info": {
   "codemirror_mode": {
    "name": "ipython",
    "version": 3
   },
   "file_extension": ".py",
   "mimetype": "text/x-python",
   "name": "python",
   "nbconvert_exporter": "python",
   "pygments_lexer": "ipython3",
   "version": "3.9.2"
  }
 },
 "nbformat": 4,
 "nbformat_minor": 5
}
