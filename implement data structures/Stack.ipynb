{
 "cells": [
  {
   "cell_type": "code",
   "execution_count": 1,
   "id": "b0f5a779",
   "metadata": {},
   "outputs": [],
   "source": [
    "class Node:\n",
    "    def __init__(self, data):\n",
    "        self.data = data\n",
    "        self.next = None"
   ]
  },
  {
   "cell_type": "code",
   "execution_count": 2,
   "id": "1acff787",
   "metadata": {},
   "outputs": [],
   "source": [
    "class Stack(object):\n",
    "    def __init__(self, top=None):\n",
    "        pass\n",
    "\n",
    "    def push(self, data):\n",
    "        pass\n",
    "\n",
    "    def pop(self):\n",
    "        pass\n",
    "\n",
    "    def peek(self):\n",
    "        pass\n",
    "\n",
    "    def is_empty(self):\n",
    "        pass"
   ]
  },
  {
   "cell_type": "code",
   "execution_count": 6,
   "id": "6b05448a",
   "metadata": {},
   "outputs": [
    {
     "name": "stdout",
     "output_type": "stream",
     "text": [
      "Test: empty stack\n",
      "Test: one element\n"
     ]
    }
   ],
   "source": [
    "import unittest\n",
    "\n",
    "class TestStack(unittest.TestCase):\n",
    "    \n",
    "    def end_to_end(self):\n",
    "        print('Test: empty stack')\n",
    "        stack = Stack()\n",
    "        self.assertEqual(stack.peek(), None)\n",
    "        self.assertEqual(stack.pop(), None)\n",
    "        \n",
    "        print('Test: one element')\n",
    "        top = Node(5)\n",
    "        stack = Stack(top)\n",
    "        self.assertEqual(stack.pop(), 5)\n",
    "        self.assertEqual(stack.peek(), None)\n",
    "        \n",
    "def main():\n",
    "    test = TestStack()\n",
    "    test.end_to_end()\n",
    "    \n",
    "if __name__ == '__main__':\n",
    "    main()"
   ]
  },
  {
   "cell_type": "code",
   "execution_count": 5,
   "id": "434761ad",
   "metadata": {},
   "outputs": [],
   "source": [
    "# Solution\n",
    "class Stack(object):\n",
    "\n",
    "    def __init__(self, top=None):\n",
    "        self.top = top\n",
    "\n",
    "    def push(self, data):\n",
    "        self.top = Node(data, self.top)\n",
    "\n",
    "    def pop(self):\n",
    "        if self.top is None:\n",
    "            return None\n",
    "        data = self.top.data\n",
    "        self.top = self.top.next\n",
    "        return data\n",
    "\n",
    "    def peek(self):\n",
    "        return self.top.data if self.top is not None else None\n",
    "\n",
    "    def is_empty(self):\n",
    "        return self.peek() is None"
   ]
  }
 ],
 "metadata": {
  "kernelspec": {
   "display_name": "Python 3 (ipykernel)",
   "language": "python",
   "name": "python3"
  },
  "language_info": {
   "codemirror_mode": {
    "name": "ipython",
    "version": 3
   },
   "file_extension": ".py",
   "mimetype": "text/x-python",
   "name": "python",
   "nbconvert_exporter": "python",
   "pygments_lexer": "ipython3",
   "version": "3.8.9"
  }
 },
 "nbformat": 4,
 "nbformat_minor": 5
}
