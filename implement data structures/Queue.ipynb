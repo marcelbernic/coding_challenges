{
 "cells": [
  {
   "cell_type": "code",
   "execution_count": 4,
   "id": "df442252",
   "metadata": {},
   "outputs": [],
   "source": [
    "class Node:\n",
    "    def __init__(self, value):\n",
    "        self.value = value\n",
    "        self.next = None"
   ]
  },
  {
   "cell_type": "code",
   "execution_count": 9,
   "id": "51191da0",
   "metadata": {},
   "outputs": [],
   "source": [
    "class Queue:\n",
    "    def __init__(self):\n",
    "        pass\n",
    "        \n",
    "    def __str__(self):\n",
    "        pass\n",
    "    \n",
    "    def size(self):\n",
    "        pass\n",
    "    \n",
    "    def isEmpty(self):\n",
    "        pass\n",
    "    \n",
    "    def peek(self):\n",
    "        pass\n",
    "            \n",
    "    def enqueue(self, value):\n",
    "        pass\n",
    "    \n",
    "    def dequeue(self):\n",
    "        pass"
   ]
  },
  {
   "cell_type": "code",
   "execution_count": 10,
   "id": "c1716d96",
   "metadata": {},
   "outputs": [
    {
     "name": "stdout",
     "output_type": "stream",
     "text": [
      "Test: Dequeue an empty queue\n",
      "Test: Enqueue an empty queue\n",
      "Test: Dequeue a queue with one element\n",
      "Test: Enqueue to a non-empty queue\n",
      "Test: Dequeue a queue with more than one element\n"
     ]
    }
   ],
   "source": [
    "import unittest\n",
    "\n",
    "class TestQueue(unittest.TestCase):\n",
    "    def test_end_to_end(self):\n",
    "        print('Test: Dequeue an empty queue')\n",
    "        queue = Queue()\n",
    "        self.assertEqual(queue.dequeue(), None)\n",
    "        \n",
    "        print('Test: Enqueue an empty queue')\n",
    "        queue.enqueue(1)\n",
    "        \n",
    "        print('Test: Dequeue a queue with one element')\n",
    "        self.assertEqual(queue.dequeue(), 1)\n",
    "        \n",
    "        print('Test: Enqueue to a non-empty queue')\n",
    "        queue.enqueue(2)\n",
    "        queue.enqueue(3)\n",
    "        queue.enqueue(4)\n",
    "\n",
    "        print('Test: Dequeue a queue with more than one element')\n",
    "        self.assertEqual(queue.dequeue(), 2)\n",
    "        self.assertEqual(queue.dequeue(), 3)\n",
    "        self.assertEqual(queue.dequeue(), 4)\n",
    "\n",
    "        \n",
    "def main():\n",
    "    test = TestQueue()\n",
    "    test.test_end_to_end()\n",
    "    \n",
    "if __name__ == '__main__':\n",
    "    main()"
   ]
  },
  {
   "cell_type": "code",
   "execution_count": null,
   "id": "5a76f205",
   "metadata": {},
   "outputs": [],
   "source": [
    "# Solution\n",
    "class Queue:\n",
    "    def __init__(self):\n",
    "        self.head = self.tail = None\n",
    "        self.size = 0\n",
    "        \n",
    "    def __str__(self):\n",
    "        current = self.tail\n",
    "        out = \"\"\n",
    "        while current:\n",
    "            out += str(current.value) + \"->\"\n",
    "            current = current.next\n",
    "        out = out[:-2]\n",
    "        out += \"<- head\"\n",
    "        return out\n",
    "    \n",
    "    def size(self):\n",
    "        return self.size\n",
    "    \n",
    "    def isEmpty(self):\n",
    "        return self.size == 0\n",
    "    \n",
    "    def peek(self):\n",
    "        if self.isEmpty():\n",
    "            raise Exception(\"Peeking from an empty queue\")\n",
    "        return self.head.value\n",
    "    \n",
    "    def enqueue(self, value):\n",
    "        node = Node(value)\n",
    "        if self.isEmpty():\n",
    "            self.head = self.tail = node\n",
    "        else:\n",
    "            self.tail.next = node\n",
    "            self.tail = node\n",
    "        self.size += 1\n",
    "    \n",
    "    def dequeue(self):\n",
    "        if self.isEmpty():\n",
    "            return None\n",
    "        else:\n",
    "            res = self.head.value\n",
    "            self.head = self.head.next\n",
    "            if self.head is None:\n",
    "                self.tail = None\n",
    "        self.size -= 1\n",
    "        return res"
   ]
  }
 ],
 "metadata": {
  "kernelspec": {
   "display_name": "Python 3 (ipykernel)",
   "language": "python",
   "name": "python3"
  },
  "language_info": {
   "codemirror_mode": {
    "name": "ipython",
    "version": 3
   },
   "file_extension": ".py",
   "mimetype": "text/x-python",
   "name": "python",
   "nbconvert_exporter": "python",
   "pygments_lexer": "ipython3",
   "version": "3.9.2"
  }
 },
 "nbformat": 4,
 "nbformat_minor": 5
}
