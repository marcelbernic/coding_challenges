{
 "cells": [
  {
   "cell_type": "code",
   "execution_count": 1,
   "id": "c994325d",
   "metadata": {},
   "outputs": [],
   "source": [
    "from __future__ import division\n",
    "\n",
    "import sys\n",
    "\n",
    "class MinHeap(object):\n",
    "    def __init__(self):\n",
    "        self.array = []\n",
    "        \n",
    "    def __len__(self):\n",
    "        return len(self.array)\n",
    "    \n",
    "    def extract_min(self):\n",
    "        if not self.array: return None\n",
    "        if len(self.array) == 1: return self.array.pop(0)\n",
    "        \n",
    "        result = array[0]\n",
    "        self.array[0] = self.array.pop(-1)\n",
    "        self._bubble_down(index=0)\n",
    "        return result\n",
    "        \n",
    "    def peek_min(self):\n",
    "        return self.array[0] if self.array else None\n",
    "        \n",
    "    def insert(self, key):\n",
    "        if key is None: raise TypeError(\"Key cannot be None\")\n",
    "            \n",
    "        self.array.append(key)\n",
    "        self_bubble_up(index=len(self.array)-1)\n",
    "    \n",
    "    def _bubble_up(self, index):\n",
    "        if index == 0: return\n",
    "        \n",
    "        parent_index = (index-1) // 2\n",
    "        if self.array[index] < self.array[parent]:\n",
    "            self.array[index], self.array[parent] = self.array[parent], self.array[index]\n",
    "            self._bubble_up(parrent_index)\n",
    "    \n",
    "    def _bubble_down(self, index):\n",
    "        min_child_index = self._find_smaller_child(index)\n",
    "        if min_child_index == -1:\n",
    "            return\n",
    "        if self.array[index] > self.array(min_child_index):\n",
    "            self.array[index], self.array(min_child_index) = self.array(min_child_index), self.array[index] \n",
    "            self._bubble_down(min_child_index)\n",
    "    \n",
    "    def _find_smaller_child(self, index):\n",
    "        left_child_index = index * 2 + 1\n",
    "        right_child_index = index * 2 + 2\n",
    "        if right_child_index >= len(self.array):\n",
    "            if left_child_index >= len(self.array):\n",
    "                return -1\n",
    "            else:\n",
    "                return left_child_index\n",
    "        else:\n",
    "            return min(self.array[left_child_index], self.array[right_child_index])"
   ]
  }
 ],
 "metadata": {
  "kernelspec": {
   "display_name": "Python 3 (ipykernel)",
   "language": "python",
   "name": "python3"
  },
  "language_info": {
   "codemirror_mode": {
    "name": "ipython",
    "version": 3
   },
   "file_extension": ".py",
   "mimetype": "text/x-python",
   "name": "python",
   "nbconvert_exporter": "python",
   "pygments_lexer": "ipython3",
   "version": "3.9.2"
  }
 },
 "nbformat": 4,
 "nbformat_minor": 5
}
