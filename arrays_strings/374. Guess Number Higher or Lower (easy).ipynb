{
 "cells": [
  {
   "cell_type": "markdown",
   "id": "585cca7f",
   "metadata": {},
   "source": [
    "## 374. Guess Number Higher or Lower (easy)\n",
    "\n",
    "We are playing the Guess Game. The game is as follows:\n",
    "\n",
    "I pick a number from 1 to n. You have to guess which number I picked.\n",
    "\n",
    "Every time you guess wrong, I will tell you whether the number I picked is higher or lower than your guess.\n",
    "\n",
    "You call a pre-defined API int guess(int num), which returns 3 possible results:\n",
    "\n",
    "    -1: The number I picked is lower than your guess (i.e. pick < num).\n",
    "    1: The number I picked is higher than your guess (i.e. pick > num).\n",
    "    0: The number I picked is equal to your guess (i.e. pick == num).\n",
    "\n",
    "Return the number that I picked.\n",
    "\n",
    " \n",
    "\n",
    "Example 1:\n",
    "\n",
    "Input: n = 10, pick = 6\n",
    "Output: 6\n",
    "\n",
    "Example 2:\n",
    "\n",
    "Input: n = 1, pick = 1\n",
    "Output: 1\n",
    "\n",
    "Example 3:\n",
    "\n",
    "Input: n = 2, pick = 1\n",
    "Output: 1\n",
    "\n",
    "Example 4:\n",
    "\n",
    "Input: n = 2, pick = 2\n",
    "Output: 2\n",
    "\n",
    " \n",
    "\n",
    "Constraints:\n",
    "\n",
    "    1 <= n <= 231 - 1\n",
    "    1 <= pick <= n\n",
    "\n"
   ]
  },
  {
   "cell_type": "code",
   "execution_count": 1,
   "id": "85397a6e",
   "metadata": {},
   "outputs": [],
   "source": [
    "# The guess API is already defined for you.\n",
    "# @param num, your guess\n",
    "# @return -1 if my number is lower, 1 if my number is higher, otherwise return 0\n",
    "# def guess(num: int) -> int:\n",
    "\n",
    "class Solution:\n",
    "    def guess(self, n: int) -> int:\n",
    "        # to implement\n",
    "        return 0\n",
    "    \n",
    "    def guessNumber(self, n: int) -> int:\n",
    "        l = 1\n",
    "        r = n\n",
    "        while l <= r:\n",
    "            pivot = (r + l) // 2\n",
    "            answer = guess(pivot)\n",
    "            if answer == 0:\n",
    "                return pivot\n",
    "            if answer == 1:\n",
    "                l = pivot + 1\n",
    "            if answer == -1:\n",
    "                r = pivot"
   ]
  }
 ],
 "metadata": {
  "kernelspec": {
   "display_name": "Python 3 (ipykernel)",
   "language": "python",
   "name": "python3"
  },
  "language_info": {
   "codemirror_mode": {
    "name": "ipython",
    "version": 3
   },
   "file_extension": ".py",
   "mimetype": "text/x-python",
   "name": "python",
   "nbconvert_exporter": "python",
   "pygments_lexer": "ipython3",
   "version": "3.9.2"
  }
 },
 "nbformat": 4,
 "nbformat_minor": 5
}
