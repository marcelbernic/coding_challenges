{
 "cells": [
  {
   "cell_type": "markdown",
   "id": "55469103",
   "metadata": {},
   "source": [
    "## 53. Maximum Subarray (Easy)\n",
    "\n",
    "See on [leetcode](https://leetcode.com/problems/maximum-subarray)"
   ]
  },
  {
   "cell_type": "markdown",
   "id": "0826d2e7",
   "metadata": {},
   "source": [
    "### Approach #1 - Kadane's Algorithm"
   ]
  },
  {
   "cell_type": "code",
   "execution_count": 3,
   "id": "dc89b096",
   "metadata": {},
   "outputs": [],
   "source": [
    "from typing import List\n",
    "\n",
    "import math\n",
    "\n",
    "class Solution:\n",
    "    def maxSubArray(self, nums: List[int]) -> int:\n",
    "        current_subarray = max_sum = nums[0]\n",
    "        for num in nums[1:]:\n",
    "            current_subarray = max(num, current_subarray + num)\n",
    "            max_sum = max(max_sum, current_subarray)\n",
    "            \n",
    "        return max_sum"
   ]
  },
  {
   "cell_type": "markdown",
   "id": "dd30a00b",
   "metadata": {},
   "source": [
    "## Test"
   ]
  },
  {
   "cell_type": "code",
   "execution_count": 5,
   "id": "6d5ffe45",
   "metadata": {},
   "outputs": [
    {
     "name": "stdout",
     "output_type": "stream",
     "text": [
      "6\n"
     ]
    }
   ],
   "source": [
    "solution = Solution()\n",
    "print(solution.maxSubArray([-2, 1, -3, 4, -1, 2, 1, -5, 4]))"
   ]
  }
 ],
 "metadata": {
  "kernelspec": {
   "display_name": "Python 3 (ipykernel)",
   "language": "python",
   "name": "python3"
  },
  "language_info": {
   "codemirror_mode": {
    "name": "ipython",
    "version": 3
   },
   "file_extension": ".py",
   "mimetype": "text/x-python",
   "name": "python",
   "nbconvert_exporter": "python",
   "pygments_lexer": "ipython3",
   "version": "3.9.2"
  }
 },
 "nbformat": 4,
 "nbformat_minor": 5
}
