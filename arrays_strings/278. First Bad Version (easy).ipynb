{
 "cells": [
  {
   "cell_type": "markdown",
   "id": "6b74ff84",
   "metadata": {},
   "source": [
    "## 278. First Bad Version (easy)\n",
    "\n",
    "You are a product manager and currently leading a team to develop a new product. Unfortunately, the latest version of your product fails the quality check. Since each version is developed based on the previous version, all the versions after a bad version are also bad.\n",
    "\n",
    "Suppose you have n versions [1, 2, ..., n] and you want to find out the first bad one, which causes all the following ones to be bad.\n",
    "\n",
    "You are given an API bool isBadVersion(version) which returns whether version is bad. Implement a function to find the first bad version. You should minimize the number of calls to the API.\n",
    "\n",
    " \n",
    "\n",
    "Example 1:\n",
    "\n",
    "Input: n = 5, bad = 4\n",
    "Output: 4\n",
    "Explanation:\n",
    "call isBadVersion(3) -> false\n",
    "call isBadVersion(5) -> true\n",
    "call isBadVersion(4) -> true\n",
    "Then 4 is the first bad version.\n",
    "\n",
    "Example 2:\n",
    "\n",
    "Input: n = 1, bad = 1\n",
    "Output: 1\n",
    "\n",
    " \n",
    "\n",
    "Constraints:\n",
    "\n",
    "    1 <= bad <= n <= 231 - 1\n",
    "\n"
   ]
  },
  {
   "cell_type": "code",
   "execution_count": 2,
   "id": "b9f1f89e",
   "metadata": {},
   "outputs": [],
   "source": [
    "# The isBadVersion API is already defined for you.\n",
    "# @param version, an integer\n",
    "# @return an integer\n",
    "# def isBadVersion(version):\n",
    "\n",
    "class Solution:\n",
    "    def isBadVersion(self, n):\n",
    "        # implement\n",
    "        return true\n",
    "    \n",
    "    def firstBadVersion(self, n):\n",
    "        \"\"\"\n",
    "        :type n: int\n",
    "        :rtype: int\n",
    "        \"\"\"\n",
    "        l = 1\n",
    "        r = n\n",
    "        while l < r :\n",
    "            pivot = (l + r) // 2    # might produce overflow bug for other languages than python\n",
    "            if isBadVersion(pivot): # is bad\n",
    "                r = pivot\n",
    "            else:                   # is good\n",
    "                l = pivot + 1\n",
    "                \n",
    "        return l\n",
    "\n"
   ]
  },
  {
   "cell_type": "code",
   "execution_count": 1,
   "id": "0e4f4c6f",
   "metadata": {},
   "outputs": [],
   "source": [
    "# Write unit test"
   ]
  }
 ],
 "metadata": {
  "kernelspec": {
   "display_name": "Python 3 (ipykernel)",
   "language": "python",
   "name": "python3"
  },
  "language_info": {
   "codemirror_mode": {
    "name": "ipython",
    "version": 3
   },
   "file_extension": ".py",
   "mimetype": "text/x-python",
   "name": "python",
   "nbconvert_exporter": "python",
   "pygments_lexer": "ipython3",
   "version": "3.9.2"
  }
 },
 "nbformat": 4,
 "nbformat_minor": 5
}
