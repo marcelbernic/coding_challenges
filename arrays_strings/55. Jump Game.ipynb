{
 "cells": [
  {
   "cell_type": "markdown",
   "id": "97e407b3",
   "metadata": {},
   "source": [
    "# 55. Jump Game"
   ]
  },
  {
   "cell_type": "markdown",
   "id": "9519b83e",
   "metadata": {},
   "source": [
    "You are given an integer array nums. You are initially positioned at the array's first index, and each element in the array represents your maximum jump length at that position.\n",
    "\n",
    "Return true if you can reach the last index, or false otherwise.\n",
    "\n",
    " \n",
    "\n",
    "Example 1:\n",
    "```\n",
    "Input: nums = [2,3,1,1,4]\n",
    "Output: true\n",
    "Explanation: Jump 1 step from index 0 to 1, then 3 steps to the last index.\n",
    "```\n",
    "Example 2:\n",
    "```\n",
    "Input: nums = [3,2,1,0,4]\n",
    "Output: false\n",
    "Explanation: You will always arrive at index 3 no matter what. Its maximum jump length is 0, which makes it impossible to reach the last index.\n",
    "```\n",
    " \n",
    "\n",
    "Constraints:\n",
    "```\n",
    "    1 <= nums.length <= 104\n",
    "    0 <= nums[i] <= 105\n",
    "```\n"
   ]
  },
  {
   "cell_type": "code",
   "execution_count": 3,
   "id": "b6920221",
   "metadata": {},
   "outputs": [],
   "source": [
    "from typing import List\n",
    "\n",
    "def canJump(self, nums: List[int]) -> bool:\n",
    "    if len(nums) == 0: \n",
    "        return False\n",
    "    if len(nums) == 1:\n",
    "        return True\n",
    "\n",
    "    searchedPosition = len(nums) - 1\n",
    "    positions = {0}\n",
    "    while positions:\n",
    "        curr_index = positions.pop()\n",
    "        curr_jump_value = nums[curr_index]\n",
    "        for jump in range(curr_jump_value):\n",
    "            reached_position = curr_index + jump + 1\n",
    "            if reached_position == searchedPosition: return True\n",
    "            positions.add(reached_position)\n",
    "\n",
    "    return False\n",
    "        "
   ]
  },
  {
   "cell_type": "markdown",
   "id": "64ccbd39",
   "metadata": {},
   "source": [
    "### Really smart solution from Leet Code (Java)\n",
    "```\n",
    "public class Solution {\n",
    "    public boolean canJump(int[] nums) {\n",
    "        int lastPos = nums.length - 1;\n",
    "        for (int i = nums.length - 1; i >= 0; i--) {\n",
    "            if (i + nums[i] >= lastPos) {\n",
    "                lastPos = i;\n",
    "            }\n",
    "        }\n",
    "        return lastPos == 0;\n",
    "    }\n",
    "}\n",
    "```"
   ]
  }
 ],
 "metadata": {
  "kernelspec": {
   "display_name": "Python 3 (ipykernel)",
   "language": "python",
   "name": "python3"
  },
  "language_info": {
   "codemirror_mode": {
    "name": "ipython",
    "version": 3
   },
   "file_extension": ".py",
   "mimetype": "text/x-python",
   "name": "python",
   "nbconvert_exporter": "python",
   "pygments_lexer": "ipython3",
   "version": "3.9.2"
  }
 },
 "nbformat": 4,
 "nbformat_minor": 5
}
