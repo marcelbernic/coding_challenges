{
 "cells": [
  {
   "cell_type": "markdown",
   "id": "00b1dcda",
   "metadata": {},
   "source": [
    "This notebook was prepared by [Author](https://github.com/)."
   ]
  },
  {
   "cell_type": "markdown",
   "id": "96bef8e2",
   "metadata": {},
   "source": [
    "# Challenge"
   ]
  },
  {
   "cell_type": "markdown",
   "id": "a795a619",
   "metadata": {},
   "source": [
    "## Problem: [challenge name]\n",
    "\n",
    "* [Description](#Description)\n",
    "* [Algorithm](#Algorithm)\n",
    "* [Edge Cases](#Edge-Cases)\n",
    "* [Solution](#Solution)\n",
    "* [Unit Tests](#Unit-Tests)\n",
    "* [Hints](#Hints)\n",
    "* [References](#References)"
   ]
  },
  {
   "cell_type": "markdown",
   "id": "86fc0281",
   "metadata": {},
   "source": [
    "## Description\n",
    "\n",
    "[Insert problem description here]\n",
    "\n",
    "### Constraints\n",
    "\n",
    "* Can we assume that all entries are valid?\n",
    "    * Yes"
   ]
  },
  {
   "cell_type": "markdown",
   "id": "fa2a32b6",
   "metadata": {},
   "source": [
    "## Algorithm\n",
    "\n",
    "Describe the algorithm with your own words. "
   ]
  },
  {
   "cell_type": "markdown",
   "id": "022d45ac",
   "metadata": {},
   "source": [
    "## Edge Cases\n",
    "\n",
    "Think about the possible edge cases. Try to list all the corner cases you can think of.\n",
    "\n",
    "* Possible overflow for X values\n",
    "* Empty list\n",
    "* ..."
   ]
  },
  {
   "cell_type": "markdown",
   "id": "ca0e2782",
   "metadata": {},
   "source": [
    "## Solution"
   ]
  },
  {
   "cell_type": "code",
   "execution_count": 15,
   "id": "121a41b2",
   "metadata": {},
   "outputs": [],
   "source": [
    "def foo(data):\n",
    "    return data"
   ]
  },
  {
   "cell_type": "markdown",
   "id": "ed5da62b",
   "metadata": {},
   "source": [
    "## Unit Tests"
   ]
  },
  {
   "cell_type": "code",
   "execution_count": 16,
   "id": "a09c4dba",
   "metadata": {},
   "outputs": [
    {
     "name": "stdout",
     "output_type": "stream",
     "text": [
      "Overwriting test_challenge.py\n"
     ]
    }
   ],
   "source": [
    "%%writefile test_challenge.py\n",
    "\n",
    "import unittest\n",
    "\n",
    "\n",
    "class TestChallenge(unittest.TestCase):\n",
    "\n",
    "    def test_challenge(self):\n",
    "        self.assertEqual(foo(None), None)\n",
    "        self.assertEqual(foo(0), 0)\n",
    "        self.assertEqual(foo('bar'), 'bar')\n",
    "        print('Success: test_foo')\n",
    "\n",
    "\n",
    "def main():\n",
    "    test = TestChallenge()\n",
    "    test.test_challenge()\n",
    "\n",
    "\n",
    "if __name__ == '__main__':\n",
    "    main()"
   ]
  },
  {
   "cell_type": "code",
   "execution_count": 17,
   "id": "18f55620",
   "metadata": {},
   "outputs": [
    {
     "name": "stdout",
     "output_type": "stream",
     "text": [
      "Success: test_foo\n"
     ]
    }
   ],
   "source": [
    "%run -i test_challenge.py"
   ]
  },
  {
   "cell_type": "markdown",
   "id": "c0d8b8d6",
   "metadata": {},
   "source": [
    "## Hints\n",
    "\n",
    "<details>\n",
    "  <summary>Hint 1</summary>\n",
    "  --> What if we sort first the entries?\n",
    "</details>\n",
    "\n",
    "<details>\n",
    "  <summary>Hint 2</summary>\n",
    "  --> Think about different ways to traverse a graph.\n",
    "</details>"
   ]
  },
  {
   "cell_type": "markdown",
   "id": "285d9801",
   "metadata": {},
   "source": [
    "## References\n",
    "\n",
    "* link to [LeetCode](https://leetcode.com/)\n",
    "* link to blog posts\n",
    "* Author Surname, X., **Book title**. 3rd ed. [Pearson 2099] --> _Section: 1.2, p.123_"
   ]
  }
 ],
 "metadata": {
  "kernelspec": {
   "display_name": "Python 3 (ipykernel)",
   "language": "python",
   "name": "python3"
  },
  "language_info": {
   "codemirror_mode": {
    "name": "ipython",
    "version": 3
   },
   "file_extension": ".py",
   "mimetype": "text/x-python",
   "name": "python",
   "nbconvert_exporter": "python",
   "pygments_lexer": "ipython3",
   "version": "3.8.9"
  }
 },
 "nbformat": 4,
 "nbformat_minor": 5
}
