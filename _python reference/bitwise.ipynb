{
 "cells": [
  {
   "cell_type": "code",
   "execution_count": 33,
   "id": "adfb2a96",
   "metadata": {},
   "outputs": [
    {
     "name": "stdout",
     "output_type": "stream",
     "text": [
      "13\n",
      "0b1101\n",
      "0b11010\n",
      "0b100000\n",
      "0b111\n",
      "0b11\n"
     ]
    }
   ],
   "source": [
    "# Bitwise left shift\n",
    "x = 13\n",
    "print(x)\n",
    "print(bin(x))\n",
    "x2 = 13 << 1\n",
    "print(bin(x2))\n",
    "print(bin(1 << 5))\n",
    "\n",
    "# Bitwise right shift\n",
    "y = 7\n",
    "print(bin(y))\n",
    "y = y >> 1\n",
    "print(bin(y))\n",
    "\n",
    "\n",
    "#print(5 >> 1)\n",
    "#print(5 // 2)\n",
    "#print(5 / 2)\n"
   ]
  }
 ],
 "metadata": {
  "kernelspec": {
   "display_name": "Python 3 (ipykernel)",
   "language": "python",
   "name": "python3"
  },
  "language_info": {
   "codemirror_mode": {
    "name": "ipython",
    "version": 3
   },
   "file_extension": ".py",
   "mimetype": "text/x-python",
   "name": "python",
   "nbconvert_exporter": "python",
   "pygments_lexer": "ipython3",
   "version": "3.9.2"
  }
 },
 "nbformat": 4,
 "nbformat_minor": 5
}
