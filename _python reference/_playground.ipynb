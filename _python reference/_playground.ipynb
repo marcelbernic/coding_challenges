{
 "cells": [
  {
   "cell_type": "code",
   "execution_count": 6,
   "id": "464b0441",
   "metadata": {},
   "outputs": [
    {
     "name": "stdout",
     "output_type": "stream",
     "text": [
      "5\n"
     ]
    }
   ],
   "source": [
    "from queue import Queue\n",
    "q = Queue()\n",
    "q.put(5)\n",
    "while not q.empty():\n",
    "    print(q.get())"
   ]
  },
  {
   "cell_type": "code",
   "execution_count": 17,
   "id": "33372f47",
   "metadata": {},
   "outputs": [
    {
     "name": "stdout",
     "output_type": "stream",
     "text": [
      "1\n",
      "2\n",
      "3\n",
      "4\n",
      "5\n",
      "6\n",
      "7\n",
      "8\n",
      "9\n",
      "10\n"
     ]
    }
   ],
   "source": [
    "for i in reversed(range(10, 0, -1)):\n",
    "    print(i)\n"
   ]
  },
  {
   "cell_type": "code",
   "execution_count": 6,
   "id": "ed1026a8",
   "metadata": {},
   "outputs": [
    {
     "name": "stdout",
     "output_type": "stream",
     "text": [
      " !HWdellloor\n",
      " !deHllloorW\n",
      "deHllloorW\n"
     ]
    }
   ],
   "source": [
    "a = \"Hello World!\"\n",
    "\n",
    "print(\"\".join(sorted(a)))\n",
    "print(\"\".join(sorted(a,key=lambda x:x.lower())))\n",
    "\n",
    "print(\"\".join(filter(lambda x:x.isalpha(), sorted(a,key=lambda x:x.lower()))))"
   ]
  },
  {
   "cell_type": "code",
   "execution_count": 6,
   "id": "c4a64fb0",
   "metadata": {},
   "outputs": [
    {
     "name": "stdout",
     "output_type": "stream",
     "text": [
      "1\n",
      "3.5\n",
      "7\n"
     ]
    }
   ],
   "source": [
    "print(17 // 10)\n",
    "print(7 / 2)\n",
    "print(17 % 10)"
   ]
  },
  {
   "cell_type": "code",
   "execution_count": null,
   "id": "547dd321",
   "metadata": {},
   "outputs": [],
   "source": []
  },
  {
   "cell_type": "code",
   "execution_count": 57,
   "id": "ba0e9c1e",
   "metadata": {},
   "outputs": [
    {
     "name": "stdout",
     "output_type": "stream",
     "text": [
      "Suffix way: [['s', 'c'], ['x', 'y']]\n",
      "target_ways: [['3', 's', 'c'], ['3', 'x', 'y']]\n"
     ]
    }
   ],
   "source": [
    "# Map\n",
    "#print(list(map(lambda x: x.capitalize(), ['cat', 'dog', 'cow'])))\n",
    "# using list comprehension\n",
    "#print([x.capitalize() for x in ['cat', 'dog', 'cow']])\n",
    "\n",
    "# suffix_ways = [[]]\n",
    "# list(map(lambda x: x.insert(0, 'coco'), suffix_ways))\n",
    "# print(suffix_ways)\n",
    "\n",
    "#[[i * j for j in range(m)] for i in range(n)]\n",
    "\n",
    "suffix_ways = [['s', 'c'], ['x', 'y']]\n",
    "print(f\"Suffix way: {suffix_ways}\")\n",
    "target_ways = suffix_ways\n",
    "for el in target_ways: el.insert(0, '3')\n",
    "print(f\"target_ways: {target_ways}\")"
   ]
  },
  {
   "cell_type": "code",
   "execution_count": 11,
   "id": "87d28eb0",
   "metadata": {},
   "outputs": [
    {
     "name": "stdout",
     "output_type": "stream",
     "text": [
      "[23, 57]\n",
      "[4, 23]\n",
      "[57]\n"
     ]
    }
   ],
   "source": [
    "a = [23]\n",
    "b = [57]\n",
    "print(a+b)\n",
    "a.insert(0, 4)\n",
    "print(a)\n",
    "print(b)"
   ]
  }
 ],
 "metadata": {
  "kernelspec": {
   "display_name": "Python 3 (ipykernel)",
   "language": "python",
   "name": "python3"
  },
  "language_info": {
   "codemirror_mode": {
    "name": "ipython",
    "version": 3
   },
   "file_extension": ".py",
   "mimetype": "text/x-python",
   "name": "python",
   "nbconvert_exporter": "python",
   "pygments_lexer": "ipython3",
   "version": "3.9.2"
  }
 },
 "nbformat": 4,
 "nbformat_minor": 5
}
