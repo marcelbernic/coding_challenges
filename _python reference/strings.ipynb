{
 "cells": [
  {
   "cell_type": "code",
   "execution_count": 5,
   "id": "5c444440",
   "metadata": {},
   "outputs": [
    {
     "name": "stdout",
     "output_type": "stream",
     "text": [
      "\n",
      "(\n"
     ]
    }
   ],
   "source": [
    "target = ''\n",
    "print(target)\n",
    "print('(' + target)"
   ]
  },
  {
   "cell_type": "code",
   "execution_count": 1,
   "id": "applied-dispute",
   "metadata": {},
   "outputs": [
    {
     "name": "stdout",
     "output_type": "stream",
     "text": [
      "bonjour à tous   \n"
     ]
    },
    {
     "data": {
      "text/plain": [
       "'ababab'"
      ]
     },
     "execution_count": 1,
     "metadata": {},
     "output_type": "execute_result"
    }
   ],
   "source": [
    "# Strings are not mutable\n",
    "salut = 'bonjour à tous   ' \n",
    "print(salut)\n",
    "\n",
    "3 * 'ab'"
   ]
  },
  {
   "cell_type": "code",
   "execution_count": 3,
   "id": "representative-advocate",
   "metadata": {},
   "outputs": [
    {
     "name": "stdout",
     "output_type": "stream",
     "text": [
      "Bonjour à tous\n"
     ]
    }
   ],
   "source": [
    "# This works (creating a new String)\n",
    "salut = 'bonjour à tous'\n",
    "salut = 'B' + salut[1:]\n",
    "print(salut)"
   ]
  },
  {
   "cell_type": "code",
   "execution_count": 3,
   "id": "above-administration",
   "metadata": {},
   "outputs": [
    {
     "name": "stdout",
     "output_type": "stream",
     "text": [
      "banana\n",
      "this  is a   para     lol2 \n",
      "String ='  abc  '\n",
      "After Trimming Whitespaces String ='abc'\n"
     ]
    }
   ],
   "source": [
    "# Strip \n",
    "txt = \",,,,,rrttgg.....banana....rrr\"\n",
    "x = txt.strip(\",.grt\")\n",
    "print(x)\n",
    "\n",
    "# Sanitize a paragraph of exclamation signs in order to separate words\n",
    "paragraph = \"This, is a ! para@    lol2'\"\n",
    "paragraph_normal = ''.join([c.lower() if c.isalnum() else ' ' for c in paragraph])\n",
    "print(paragraph_normal)\n",
    "\n",
    "# Trim whitespaces\n",
    "s1 = '  abc  '\n",
    "print(f'String =\\'{s1}\\'')\n",
    "print(f'After Trimming Whitespaces String =\\'{s1.strip()}\\'')\n",
    "\n",
    "# Remove spaces from string\n",
    "# string.replace(\" \", \"\")"
   ]
  },
  {
   "cell_type": "code",
   "execution_count": 5,
   "id": "improved-lightweight",
   "metadata": {},
   "outputs": [
    {
     "name": "stdout",
     "output_type": "stream",
     "text": [
      "['Vote', 'for', 'me']\n",
      "Marcel works at Bell\n",
      "2\n"
     ]
    },
    {
     "data": {
      "text/plain": [
       "'test'"
      ]
     },
     "execution_count": 5,
     "metadata": {},
     "output_type": "execute_result"
    }
   ],
   "source": [
    "# Strings are objects\n",
    "c2 = \"Vote for me\"\n",
    "c = c2.split()\n",
    "print(c)\n",
    "\n",
    "# join(list)\n",
    "b = [\"Marcel\", \"works\", \"at\", \"Bell\"]\n",
    "print(\" \".join(b))\n",
    "\n",
    "# find(substr)\n",
    "ch1 = \"This is a string\"\n",
    "ch2 = \"is\"\n",
    "print(ch1.find(ch2))\n",
    "\n",
    "# Other functions\n",
    "# len(str)\n",
    "# float(str)\n",
    "# int(str)\n",
    "\"Test\".lower()"
   ]
  },
  {
   "cell_type": "code",
   "execution_count": 6,
   "id": "constant-framework",
   "metadata": {},
   "outputs": [
    {
     "name": "stdout",
     "output_type": "stream",
     "text": [
      "['a', 'b', 'c', 'd', 'e']\n",
      "['a', 'b', 'x', 'c', 'd', 'e']\n",
      "['a', 'c', 'd', 'e']\n",
      "['z', 'e']\n",
      "[1, 2, 3, 4]\n"
     ]
    }
   ],
   "source": [
    "# Slicing\n",
    "my_list = ['a', 'b', 'c', 'd', 'e']\n",
    "print(my_list)\n",
    "\n",
    "my_list[2:2] = 'x'\n",
    "print(my_list)\n",
    "\n",
    "my_list[1:3] = []\n",
    "print(my_list)\n",
    "\n",
    "my_list[:3] = 'z'\n",
    "print(my_list)\n",
    "\n",
    "nums = [1, 2, 3, 4, 5, 6, 7]\n",
    "print(nums[:-3])"
   ]
  },
  {
   "cell_type": "code",
   "execution_count": 39,
   "id": "earned-egypt",
   "metadata": {},
   "outputs": [
    {
     "name": "stdout",
     "output_type": "stream",
     "text": [
      "['m', 'a', 'r', 'c', 'e', 'l']\n",
      "Last item:  l\n",
      "Last two items:  ['e', 'l']\n",
      "Everything except two items ['m', 'a', 'r', 'c']\n",
      "Reversed:  ['l', 'e', 'c', 'r', 'a', 'm']\n",
      "First two items reversed ['a', 'm']\n",
      "Last two items reversed ['l', 'e']\n",
      "Everything except the last two items reversed:  ['c', 'r', 'a', 'm']\n"
     ]
    }
   ],
   "source": [
    "vals = ['m', 'a', 'r', 'c', 'e', 'l']\n",
    "print(vals)\n",
    "\n",
    "# vals[start:stop:step] # start through not past stop, by step\n",
    "\n",
    "print(\"Last item: \", vals[-1])    # last item in the array\n",
    "print(\"Last two items: \", vals[-2:])   # last two items in the array\n",
    "print(\"Everything except two items\", vals[:-2])   # everything except the last two items\n",
    "\n",
    "print(\"Reversed: \", vals[::-1])    # all items in the array, reversed\n",
    "print(\"First two items reversed\", vals[1::-1])   # the first two items, reversed\n",
    "print(\"Last two items reversed\", vals[:-3:-1])  # the last two items, reversed\n",
    "print(\"Everything except the last two items reversed: \", vals[-3::-1])  # everything except the last two items, reversed"
   ]
  }
 ],
 "metadata": {
  "kernelspec": {
   "display_name": "Python 3 (ipykernel)",
   "language": "python",
   "name": "python3"
  },
  "language_info": {
   "codemirror_mode": {
    "name": "ipython",
    "version": 3
   },
   "file_extension": ".py",
   "mimetype": "text/x-python",
   "name": "python",
   "nbconvert_exporter": "python",
   "pygments_lexer": "ipython3",
   "version": "3.9.2"
  }
 },
 "nbformat": 4,
 "nbformat_minor": 5
}
