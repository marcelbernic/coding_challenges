{
 "cells": [
  {
   "cell_type": "code",
   "execution_count": 7,
   "id": "ed1026a8",
   "metadata": {},
   "outputs": [
    {
     "name": "stdout",
     "output_type": "stream",
     "text": [
      "0\n"
     ]
    }
   ],
   "source": [
    "class ListNode:\n",
    "    def __init__(self, val=0, next=None):\n",
    "        self.val = val\n",
    "        self.next = next\n",
    "        \n",
    "a = ListNode(5)\n",
    "b = ListNode(6, a)\n",
    "c = ListNode(7, b)\n",
    "d = ListNode(8, c)\n",
    "e = ListNode(9, d)\n",
    "\n",
    "# head = e\n",
    "# while head:\n",
    "#     print(head.val)\n",
    "#     head = head.next\n",
    "    \n",
    "def recursive_lists(head):\n",
    "    if head is None:\n",
    "        return 0\n",
    "    else:\n",
    "        return recursive_lists(head.next)\n",
    "\n",
    "sum = 0\n",
    "sum = sum + recursive_lists(e)\n",
    "print(sum)"
   ]
  },
  {
   "cell_type": "code",
   "execution_count": 21,
   "id": "critical-applicant",
   "metadata": {
    "scrolled": true
   },
   "outputs": [
    {
     "name": "stdout",
     "output_type": "stream",
     "text": [
      "[1, 2, 3, 4, 5, 6, 7, 8, 9]\n",
      "[1, 2, 3, 4]\n",
      "[1, 2, 3, 4, 5]\n",
      "[5, 6, 7, 8, 9]\n",
      "[6, 7, 8, 9]\n"
     ]
    }
   ],
   "source": [
    "a = [4, 7, 1, 9, 0, 6, 5, 3, 8, 2]\n",
    "b = [1, 2, 3, 4, 5, 6, 7, 8, 9]\n",
    "\n",
    "# copy the first half of array (floor)\n",
    "b1 = b[:len(b)//2]\n",
    "# copy the first half of array (ceil)\n",
    "b2 = b[:math.ceil(len(b)/2)]\n",
    "# copy the second half of array\n",
    "b3 = b[len(b)//2:]\n",
    "# copy the second half of array\n",
    "b4 = b[math.ceil(len(b)/2):]\n",
    "\n",
    "print(b)\n",
    "print(b1)\n",
    "print(b2)\n",
    "print(b3)\n",
    "print(b4)"
   ]
  },
  {
   "cell_type": "code",
   "execution_count": 109,
   "id": "expressed-arctic",
   "metadata": {},
   "outputs": [
    {
     "name": "stdout",
     "output_type": "stream",
     "text": [
      "[1, 2, 3, 4, 5, 6]\n",
      "[7, 8, 9, 10, 11, 12]\n"
     ]
    }
   ],
   "source": [
    "c = [1, 2, 3, 4, 5, 6, 7, 8, 9, 10, 11, 12]\n",
    "\n",
    "print(c[:len(c)//2])\n",
    "print(c[len(c)//2:])"
   ]
  }
 ],
 "metadata": {
  "kernelspec": {
   "display_name": "Python 3 (ipykernel)",
   "language": "python",
   "name": "python3"
  },
  "language_info": {
   "codemirror_mode": {
    "name": "ipython",
    "version": 3
   },
   "file_extension": ".py",
   "mimetype": "text/x-python",
   "name": "python",
   "nbconvert_exporter": "python",
   "pygments_lexer": "ipython3",
   "version": "3.9.2"
  }
 },
 "nbformat": 4,
 "nbformat_minor": 5
}
