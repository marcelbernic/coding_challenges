{
 "cells": [
  {
   "cell_type": "markdown",
   "id": "8441fa8a",
   "metadata": {},
   "source": [
    "# Dynamic Programming - Learn to Solve Algorithmic Problems & Coding Challenges\n",
    "\n",
    "### freeCodeCamp.org\n",
    "\n",
    "[Youtube](https://www.youtube.com/watch?v=oBt53YbR9Kk&t)"
   ]
  },
  {
   "cell_type": "markdown",
   "id": "144c273e",
   "metadata": {},
   "source": [
    "## Memoization"
   ]
  },
  {
   "cell_type": "markdown",
   "id": "a97041a5",
   "metadata": {},
   "source": [
    "## Grid Traveler\n",
    "\n",
    "In how many ways we can traverse a grid (m ,n) being allowed to move only down and right"
   ]
  },
  {
   "cell_type": "code",
   "execution_count": 5,
   "id": "6e815f1c",
   "metadata": {},
   "outputs": [
    {
     "name": "stdout",
     "output_type": "stream",
     "text": [
      "1\n",
      "3\n",
      "3\n",
      "6\n",
      "2333606220\n"
     ]
    }
   ],
   "source": [
    "# recursive, ineficient\n",
    "def gridTraveler(m: int, n: int) -> int:\n",
    "    if m == 0 or n == 0: return 0\n",
    "    if m == 1 and n == 1: return 1\n",
    "    \n",
    "    return gridTraveler(m - 1, n) + gridTraveler(m, n-1)\n",
    "    \n",
    "# memoized version -> good observation: gridTraveler(a, b) = gridTraveler(b, a)\n",
    "def gridTraveler(m: int, n: int, memo: dict = {}) -> int:\n",
    "    key = f'{m},{n}'\n",
    "    if key in memo: return memo[key]\n",
    "    \n",
    "    if m == 0 or n == 0: return 0\n",
    "    if m == 1 and n == 1: return 1\n",
    "    \n",
    "    memo[key] = gridTraveler(m - 1, n, memo) + gridTraveler(m, n-1, memo)\n",
    "    return memo[key]\n",
    "\n",
    "\n",
    "print(gridTraveler(1, 1)) # 1\n",
    "print(gridTraveler(2, 3)) # 3\n",
    "print(gridTraveler(3, 2)) # 3\n",
    "print(gridTraveler(3, 3)) # 6\n",
    "print(gridTraveler(18, 18)) # 2333606220"
   ]
  },
  {
   "cell_type": "markdown",
   "id": "f63b4e54",
   "metadata": {},
   "source": [
    "## Can Sum\n",
    "\n",
    "Write a function 'canSum(targetSum, numbers)' that takes in  a targetSum and an array of numbers as arguments; The function should return a boolean indicating whether or not it is possible to generate the targetSum using numbers from the array\n",
    "\n",
    "Constraints:\n",
    "```\n",
    "1. You may use an element of the array as many times as needed\n",
    "2. You may assume that all input numbers are nonnegatives\n",
    "```\n",
    "Examples:\n",
    "```\n",
    "canSum(7, [5, 3, 4, 7]) -> true\n",
    "canSum(7, [2, 5]) -> false\n",
    "```"
   ]
  },
  {
   "cell_type": "code",
   "execution_count": 21,
   "id": "06ed8af4",
   "metadata": {},
   "outputs": [
    {
     "name": "stdout",
     "output_type": "stream",
     "text": [
      "False\n"
     ]
    }
   ],
   "source": [
    "from typing import List\n",
    "\n",
    "def canSum(target_sum: int, arr: List[int]) -> bool:\n",
    "    if target_sum == 0: return True\n",
    "    if target_sum < 0: return False\n",
    "    \n",
    "    for num in arr:\n",
    "        remainder = target_sum - num\n",
    "        if canSum(remainder, arr): \n",
    "            return True\n",
    "    \n",
    "    return False\n",
    "\n",
    "def canSum(target_sum: int, arr: List[int], memo: dict = {}) -> bool:\n",
    "    if target_sum in memo: return memo[target_sum]\n",
    "    if target_sum == 0: return True\n",
    "    if target_sum < 0: return False\n",
    "    \n",
    "    for num in arr:\n",
    "        remainder = target_sum - num\n",
    "        if canSum(remainder, arr, memo):\n",
    "            memo[target_sum] = True\n",
    "            return True\n",
    "   \n",
    "    memo[target_sum] = False\n",
    "    return False\n",
    "\n",
    "#print(canSum(7, [2, 3])) # true\n",
    "#print(canSum(7, [5, 3, 4, 7])) # true\n",
    "#print(canSum(7, [2, 4])) # false\n",
    "#print(canSum(8, [2, 3, 5])) # true\n",
    "print(canSum(300, [7, 14])) # false"
   ]
  },
  {
   "cell_type": "markdown",
   "id": "719132f1",
   "metadata": {},
   "source": [
    "## Can Construct\n",
    "\n",
    "Write a function `can_construct(target, word_bank)` that accepts a target string\n",
    "and an array of strings\n",
    "\n",
    "The function should return a boolean indicating wheter or not the `target` can be\n",
    "constructed by concatenating elements of the `word_bank` array.\n",
    "\n",
    "You may reuse elements of `word_bank` as many times as needed.\n",
    "\n",
    "Ex:\n",
    "```\n",
    "can_construct('abcdef', ['abc', 'fgh', 'def', 'sst']) -> true\n",
    "can_construct('', ['abc', 'fgh']) -> true\n",
    "```"
   ]
  },
  {
   "cell_type": "code",
   "execution_count": 20,
   "id": "bb2647b1",
   "metadata": {},
   "outputs": [
    {
     "name": "stdout",
     "output_type": "stream",
     "text": [
      "True\n",
      "False\n",
      "True\n",
      "False\n"
     ]
    }
   ],
   "source": [
    "\n",
    "\n",
    "from typing import List\n",
    "\n",
    "def can_construct(target: str, word_bank: List[str], memo: dict = {}) -> bool:\n",
    "    if target in memo: return memo[target]\n",
    "    if target == '': return True\n",
    "    \n",
    "    for word in word_bank:\n",
    "        try:\n",
    "            is_prefix = target.index(word) == 0\n",
    "        except:\n",
    "            is_prefix = False\n",
    "            \n",
    "        if is_prefix:\n",
    "            suffix = target[len(word):]\n",
    "            if can_construct(suffix, word_bank, memo):\n",
    "                memo[target] = True\n",
    "                return True\n",
    "    memo[target] = False\n",
    "    return False\n",
    "\n",
    "\n",
    "\n",
    "print(can_construct('abcdef', ['ab', 'abc', 'cd', 'def', 'abcd'])) # true\n",
    "print(can_construct('skateboard', ['bo', 'rd', 'ate', 't', 'ska', 'sk', 'boar'])) # false\n",
    "print(can_construct('enterapotentpot', ['a', 'p', 'ent', 'enter', 'ot', 'o', 't'])) # true\n",
    "print(can_construct('eeeeeeeeeeeeeeeeeeeeeeef', ['e', 'ee', 'eee', 'eeee', 'eeeee', 'eeeeee'])) # -> false"
   ]
  },
  {
   "cell_type": "markdown",
   "id": "982b0ebf",
   "metadata": {},
   "source": [
    "## Count Construct\n",
    "\n",
    "Write a function `can_construct(target, word_bank)` that accepts a target string and an array of strings\n",
    "\n",
    "The function should return the `number of ways` that the `target` can be constructed by concatenating elements of the `word_bank` array.\n",
    "\n",
    "You may reuse elements of `word_bank` as many times as needed.\n",
    "\n",
    "Ex: \n",
    "```\n",
    "count_construct('abcdef', ['abc', 'fgh', 'def', 'sst']) -> true\n",
    "count_construct('', ['abc', 'fgh']) -> true\n",
    "```"
   ]
  },
  {
   "cell_type": "code",
   "execution_count": 2,
   "id": "e9d5c1d9",
   "metadata": {},
   "outputs": [
    {
     "name": "stdout",
     "output_type": "stream",
     "text": [
      "2\n",
      "1\n",
      "0\n",
      "4\n",
      "0\n"
     ]
    }
   ],
   "source": [
    "from typing import List\n",
    "\n",
    "def count_construct(target: str, word_bank: List[str], memo: dict = {}) -> int:\n",
    "    if target in memo: return memo[target]\n",
    "    if target == '': return 1\n",
    "    \n",
    "    total_count = 0\n",
    "    for word in word_bank:\n",
    "        try:\n",
    "            is_prefix = target.index(word) == 0\n",
    "        except:\n",
    "            is_prefix = False\n",
    "        \n",
    "        if is_prefix:\n",
    "            num_ways_rest = count_construct(target[len(word):], word_bank, memo)\n",
    "            total_count += num_ways_rest\n",
    "    \n",
    "    memo[target] = total_count\n",
    "    return total_count\n",
    "            \n",
    "            \n",
    "    \n",
    "\n",
    "\n",
    "print(count_construct('purple', ['purp', 'p', 'ur', 'le', 'purpl'])) # -> 1\n",
    "print(count_construct('abcdef', ['ab', 'abc', 'cd', 'def', 'abcd'])) # -> 1\n",
    "print(count_construct('skateboard', ['bo', 'rd', 'ate', 't', 'ska', 'sk', 'boar'])) # -> 0\n",
    "print(count_construct('enterapotentpot', ['a', 'p', 'ent', 'enter', 'ot', 'o', 't'])) # -> 4\n",
    "print(count_construct('eeeeeeeeeeeeeeeeeeeeeeef', ['e', 'ee', 'eee', 'eeee', 'eeeee', 'eeeeee'])) # -> o "
   ]
  },
  {
   "cell_type": "markdown",
   "id": "214ea4f9",
   "metadata": {},
   "source": [
    "## All Construct\n",
    "\n",
    "Write a function `can_construct(target, word_bank)` that accepts a target string and an array of strings\n",
    "\n",
    "The function should return a 2D array containing `all of the ways` that the `target` can be constructed by concatenating elements of the `word_bank` array.\n",
    "\n",
    "You may reuse elements of `word_bank` as many times as needed.\n",
    "\n",
    "Ex: \n",
    "```\n",
    "all_construct('purple', ['purp', 'p', 'ur', 'le', 'purpl'])\n",
    "->\n",
    "[\n",
    "    [ purp, le]\n",
    "    [ p, ur, p, le]\n",
    "]\n",
    "\n",
    "all_construct('hello', ['cat', 'dog', 'mouse'])\n",
    "->\n",
    "[]\n",
    "\n",
    "all_construct('', ['cat', 'dog', 'mouse'])\n",
    "->\n",
    "[[]]\n",
    "```"
   ]
  },
  {
   "cell_type": "code",
   "execution_count": 25,
   "id": "73bc80b2",
   "metadata": {},
   "outputs": [
    {
     "name": "stdout",
     "output_type": "stream",
     "text": [
      "[['purp', 'le'], ['p', 'ur', 'p', 'le']]\n",
      "[['ab', 'cd', 'ef'], ['ab', 'c', 'def'], ['abc', 'def'], ['abcd', 'ef']]\n",
      "[]\n",
      "[]\n"
     ]
    }
   ],
   "source": [
    "from typing import List\n",
    "\n",
    "def all_construct(target: str, word_bank: List[str]) -> List[List[str]]:\n",
    "    if target == '': return [[]]\n",
    "    \n",
    "    result = []\n",
    "    \n",
    "    for word in word_bank:\n",
    "        try:\n",
    "            is_prefix = target.index(word) == 0\n",
    "        except:\n",
    "            is_prefix = False\n",
    "        \n",
    "        if is_prefix:\n",
    "            suffix = target[len(word):]\n",
    "            suffix_ways = all_construct(suffix, word_bank)\n",
    "            \n",
    "            target_ways = suffix_ways\n",
    "            for x in target_ways: \n",
    "                x.insert(0, word)\n",
    "            for way in target_ways: \n",
    "                result.append(way)\n",
    "\n",
    "    return result\n",
    "\n",
    "\n",
    "print(all_construct('purple', ['purp', 'p', 'ur', 'le', 'purpl']))\n",
    "# [\n",
    "#   ['purp', 'le'],\n",
    "#   ['p', 'ur', 'p', 'le']\n",
    "# ]\n",
    "print(all_construct('abcdef', ['ab', 'abc', 'cd', 'def', 'abcd', 'ef', 'c']))\n",
    "# [\n",
    "#   ['ab', 'cd', 'ef'],\n",
    "#   ['ab', 'c', 'def'],\n",
    "#   ['abc', 'def'],\n",
    "#   ['abcd', 'ef']\n",
    "# ]\n",
    "print(all_construct('skateboard', ['bo', 'rd', 'ate', 't', 'ska', 'sk', 'boar']))\n",
    "# []\n",
    "print(all_construct('eeeeeeeeeeeeeeeeeeeeeeef', ['e', 'ee', 'eee', 'eeee', 'eeeee', 'eeeeee']))\n",
    "# []"
   ]
  },
  {
   "cell_type": "markdown",
   "id": "1d610f1b",
   "metadata": {},
   "source": [
    "## TABULATION"
   ]
  }
 ],
 "metadata": {
  "kernelspec": {
   "display_name": "Python 3 (ipykernel)",
   "language": "python",
   "name": "python3"
  },
  "language_info": {
   "codemirror_mode": {
    "name": "ipython",
    "version": 3
   },
   "file_extension": ".py",
   "mimetype": "text/x-python",
   "name": "python",
   "nbconvert_exporter": "python",
   "pygments_lexer": "ipython3",
   "version": "3.9.2"
  }
 },
 "nbformat": 4,
 "nbformat_minor": 5
}
