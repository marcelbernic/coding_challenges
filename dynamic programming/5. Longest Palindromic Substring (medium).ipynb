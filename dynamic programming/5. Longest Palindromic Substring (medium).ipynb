{
 "cells": [
  {
   "cell_type": "markdown",
   "id": "9a25a16b",
   "metadata": {},
   "source": [
    "5. Longest Palindromic Substring (medium)"
   ]
  },
  {
   "cell_type": "markdown",
   "id": "433664cc",
   "metadata": {},
   "source": [
    "Given a string s, return the longest palindromic substring in s.\n",
    "\n",
    " \n",
    "\n",
    "Example 1:\n",
    "```\n",
    "Input: s = \"babad\"\n",
    "Output: \"bab\"\n",
    "Note: \"aba\" is also a valid answer.\n",
    "```\n",
    "Example 2:\n",
    "```\n",
    "Input: s = \"cbbd\"\n",
    "Output: \"bb\"\n",
    "```\n",
    "Example 3:\n",
    "```\n",
    "Input: s = \"a\"\n",
    "Output: \"a\"\n",
    "```\n",
    "Example 4:\n",
    "```\n",
    "Input: s = \"ac\"\n",
    "Output: \"a\"\n",
    "```\n",
    " \n",
    "\n",
    "Constraints:\n",
    "```\n",
    "    1 <= s.length <= 1000\n",
    "    s consist of only digits and English letters.\n",
    "```\n"
   ]
  },
  {
   "cell_type": "code",
   "execution_count": 1,
   "id": "915fe89a",
   "metadata": {},
   "outputs": [],
   "source": [
    "# Dynamic Programming\n",
    "import numpy as np\n",
    "\n",
    "def longestPalindrome(self, s: str) -> str:\n",
    "    if len(s) == 0:\n",
    "        return 0\n",
    "    if len(s) == 1:\n",
    "        return s[0]\n",
    "\n",
    "    memo = np.zeros((len(s), len(s)))\n",
    "    res = (1, 1)\n",
    "    # populate F(i, i)\n",
    "    for i in range(len(s)):\n",
    "        memo[i][i] = 1\n",
    "    # populate F(i, i+1)\n",
    "    for i in range(len(s)-1):\n",
    "        if s[i] == s[i+1]:\n",
    "            memo[i][i+1] = 1\n",
    "            res = (i, i+1)\n",
    "    # build the table\n",
    "    for i in reversed(range(len(s)-2)):\n",
    "        for j in range(len(s)-1, i, -1):\n",
    "           if memo[i+1][j-1] == 1 and s[i] == s[j]:\n",
    "                memo[i][j] = 1\n",
    "                if j-i > res[1] - res[0]: res = (i, j)   \n",
    "    return s[res[0]:res[1]+1]"
   ]
  },
  {
   "cell_type": "code",
   "execution_count": null,
   "id": "8e99e85a",
   "metadata": {},
   "outputs": [],
   "source": [
    "# Iterative approach\n",
    "def longestPalindrome(self, s: str) -> str:\n",
    "    if s is None or len(s) < 1: return \"\"\n",
    "\n",
    "    start = 0\n",
    "    end = 0\n",
    "    for i in range(len(s)):\n",
    "        len1 = self.expandFromMiddle(s, i, i)\n",
    "        len2 = self.expandFromMiddle(s, i, i+1)\n",
    "        length = max(len1, len2)\n",
    "\n",
    "        if length > (end - start):\n",
    "            start = i - ((length-1) //  2)\n",
    "            end = i + length // 2\n",
    "\n",
    "    return s[start:end+1]\n",
    "\n",
    "def expandFromMiddle(self, s:str, left: int, right: int) -> int:\n",
    "    if s is None or left > right: return 0\n",
    "\n",
    "    while left >= 0 and right < len(s) and s[left] == s[right]:\n",
    "        left -= 1\n",
    "        right += 1\n",
    "\n",
    "    return right - left - 1"
   ]
  }
 ],
 "metadata": {
  "kernelspec": {
   "display_name": "Python 3 (ipykernel)",
   "language": "python",
   "name": "python3"
  },
  "language_info": {
   "codemirror_mode": {
    "name": "ipython",
    "version": 3
   },
   "file_extension": ".py",
   "mimetype": "text/x-python",
   "name": "python",
   "nbconvert_exporter": "python",
   "pygments_lexer": "ipython3",
   "version": "3.9.2"
  }
 },
 "nbformat": 4,
 "nbformat_minor": 5
}
