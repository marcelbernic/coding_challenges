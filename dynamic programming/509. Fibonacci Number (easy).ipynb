{
 "cells": [
  {
   "cell_type": "markdown",
   "id": "b046424c",
   "metadata": {},
   "source": [
    "509. Fibonacci Number (easy)"
   ]
  },
  {
   "cell_type": "code",
   "execution_count": 1,
   "id": "c1c93556",
   "metadata": {},
   "outputs": [],
   "source": [
    "# Using recursion and memoization\n",
    "class Solution:\n",
    "\n",
    "    def fib(self, n: int) -> int:\n",
    "        if n <= 1:\n",
    "            return n\n",
    "        self.cache = {0: 0, 1: 1}\n",
    "        return self.memoize(n)\n",
    "    \n",
    "    def memoize(self, n: int) -> {}:\n",
    "        if n in self.cache.keys():\n",
    "            return self.cache[n]\n",
    "        self.cache[n] = self.memoize(n-1) + self.memoize(n-2)\n",
    "        return self.memoize(n)"
   ]
  },
  {
   "cell_type": "code",
   "execution_count": 2,
   "id": "86e1fefa",
   "metadata": {},
   "outputs": [],
   "source": [
    "# Using recursion and memoize only last two values\n",
    "class Solution:\n",
    "\n",
    "    def fib(self, n: int) -> int:\n",
    "        if n <= 1:\n",
    "            return n\n",
    "        if n == 2:\n",
    "            return 1\n",
    "        \n",
    "        current = 0\n",
    "        prev1 = 1\n",
    "        prev2 = 1\n",
    "        \n",
    "        for i in range(3, n+1):\n",
    "            current = prev1 + prev2\n",
    "            prev2 = prev1\n",
    "            prev1 = current\n",
    "            \n",
    "        return current"
   ]
  }
 ],
 "metadata": {
  "kernelspec": {
   "display_name": "Python 3 (ipykernel)",
   "language": "python",
   "name": "python3"
  },
  "language_info": {
   "codemirror_mode": {
    "name": "ipython",
    "version": 3
   },
   "file_extension": ".py",
   "mimetype": "text/x-python",
   "name": "python",
   "nbconvert_exporter": "python",
   "pygments_lexer": "ipython3",
   "version": "3.9.2"
  }
 },
 "nbformat": 4,
 "nbformat_minor": 5
}
