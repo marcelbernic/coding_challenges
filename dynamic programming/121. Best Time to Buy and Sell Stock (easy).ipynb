{
 "cells": [
  {
   "cell_type": "markdown",
   "id": "44b9e618",
   "metadata": {},
   "source": [
    "# 121. Best Time to Buy and Sell Stock (easy)"
   ]
  },
  {
   "cell_type": "markdown",
   "id": "e72b4c1f",
   "metadata": {},
   "source": [
    "You are given an array prices where prices[i] is the price of a given stock on the ith day.\n",
    "\n",
    "You want to maximize your profit by choosing a single day to buy one stock and choosing a different day in the future to sell that stock.\n",
    "\n",
    "Return the maximum profit you can achieve from this transaction. If you cannot achieve any profit, return 0.\n",
    "\n",
    " \n",
    "\n",
    "Example 1:\n",
    "```\n",
    "Input: prices = [7,1,5,3,6,4]\n",
    "Output: 5\n",
    "Explanation: Buy on day 2 (price = 1) and sell on day 5 (price = 6), profit = 6-1 = 5.\n",
    "Note that buying on day 2 and selling on day 1 is not allowed because you must buy before you sell.\n",
    "```\n",
    "Example 2:\n",
    "```\n",
    "Input: prices = [7,6,4,3,1]\n",
    "Output: 0\n",
    "Explanation: In this case, no transactions are done and the max profit = 0.\n",
    "```\n",
    "\n",
    "Constraints:\n",
    "```\n",
    "    1 <= prices.length <= 105\n",
    "    0 <= prices[i] <= 104\n",
    "```"
   ]
  },
  {
   "cell_type": "code",
   "execution_count": 3,
   "id": "ab457b94",
   "metadata": {},
   "outputs": [
    {
     "data": {
      "text/plain": [
       "0"
      ]
     },
     "execution_count": 3,
     "metadata": {},
     "output_type": "execute_result"
    }
   ],
   "source": [
    "from typing import List \n",
    "\n",
    "def maxProfit(prices: List[int]) -> int:\n",
    "    pass"
   ]
  },
  {
   "cell_type": "code",
   "execution_count": null,
   "id": "42a28b78",
   "metadata": {},
   "outputs": [],
   "source": [
    "# This is a place holder so you cannot see the solution without scrolling down\n",
    "\n",
    "# PUSH YOURSELF! before looking at the solution\n",
    "\n",
    "\n",
    "\n",
    "\n",
    "\n",
    "\n",
    "\n",
    "\n",
    "\n",
    "\n",
    "\n",
    "\n",
    "\n",
    "\n",
    "\n",
    "\n",
    "\n",
    "\n",
    "\n",
    "\n",
    "\n",
    "\n",
    "\n"
   ]
  },
  {
   "cell_type": "code",
   "execution_count": 3,
   "id": "6f71ed62",
   "metadata": {},
   "outputs": [],
   "source": [
    "from typing import List \n",
    "\n",
    "def maxProfit(self, prices: List[int]) -> int:\n",
    "    min_price = math.inf\n",
    "    max_profit = 0\n",
    "    for i in range(len(prices)):\n",
    "        if prices[i] < min_price:\n",
    "            min_price = prices[i]\n",
    "        elif prices[i] - min_price > max_profit:\n",
    "            max_profit = prices[i] - min_price\n",
    "    return max_profit\n",
    "        "
   ]
  }
 ],
 "metadata": {
  "kernelspec": {
   "display_name": "Python 3 (ipykernel)",
   "language": "python",
   "name": "python3"
  },
  "language_info": {
   "codemirror_mode": {
    "name": "ipython",
    "version": 3
   },
   "file_extension": ".py",
   "mimetype": "text/x-python",
   "name": "python",
   "nbconvert_exporter": "python",
   "pygments_lexer": "ipython3",
   "version": "3.9.2"
  }
 },
 "nbformat": 4,
 "nbformat_minor": 5
}
