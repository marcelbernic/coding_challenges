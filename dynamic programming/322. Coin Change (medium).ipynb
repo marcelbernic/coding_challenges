{
 "cells": [
  {
   "cell_type": "markdown",
   "id": "9d18c158",
   "metadata": {},
   "source": [
    "322. Coin Change (medium)"
   ]
  },
  {
   "cell_type": "markdown",
   "id": "38da7044",
   "metadata": {},
   "source": [
    "You are given an integer array coins representing coins of different denominations and an integer amount representing a total amount of money.\n",
    "\n",
    "Return the fewest number of coins that you need to make up that amount. If that amount of money cannot be made up by any combination of the coins, return -1.\n",
    "\n",
    "You may assume that you have an infinite number of each kind of coin.\n",
    "\n",
    " \n",
    "\n",
    "Example 1:\n",
    "```\n",
    "Input: coins = [1,2,5], amount = 11\n",
    "Output: 3\n",
    "Explanation: 11 = 5 + 5 + 1\n",
    "```\n",
    "Example 2:\n",
    "```\n",
    "Input: coins = [2], amount = 3\n",
    "Output: -1\n",
    "```\n",
    "Example 3:\n",
    "```\n",
    "Input: coins = [1], amount = 0\n",
    "Output: 0\n",
    "```\n",
    "Example 4:\n",
    "```\n",
    "Input: coins = [1], amount = 1\n",
    "Output: 1\n",
    "```\n",
    "Example 5:\n",
    "```\n",
    "Input: coins = [1], amount = 2\n",
    "Output: 2\n",
    "```\n",
    " \n",
    "\n",
    "Constraints:\n",
    "```\n",
    "    1 <= coins.length <= 12\n",
    "    1 <= coins[i] <= 231 - 1\n",
    "    0 <= amount <= 104\n",
    "\n",
    "```"
   ]
  },
  {
   "cell_type": "code",
   "execution_count": 4,
   "id": "19a33f03",
   "metadata": {},
   "outputs": [],
   "source": [
    "# Dynamic programming\n",
    "from typing import List\n",
    "\n",
    "def coin_change(coins: List[int], amount: int) -> int:\n",
    "    if amount == 0: return 0\n",
    "    memo = [-1 for i in range(amount + 1)]\n",
    "    memo[0] = 0\n",
    "    \n",
    "    for i in range(1, len(memo)):\n",
    "        min_amount = math.inf\n",
    "        for coin in coins:\n",
    "            if i - coin >= 0:\n",
    "                min_amount = min(min_amount, memo[i - coin] + 1)\n",
    "        if min_amount != math.inf:\n",
    "            memo[i] = min_amount\n",
    "            \n",
    "    return memo[-1]"
   ]
  }
 ],
 "metadata": {
  "kernelspec": {
   "display_name": "Python 3 (ipykernel)",
   "language": "python",
   "name": "python3"
  },
  "language_info": {
   "codemirror_mode": {
    "name": "ipython",
    "version": 3
   },
   "file_extension": ".py",
   "mimetype": "text/x-python",
   "name": "python",
   "nbconvert_exporter": "python",
   "pygments_lexer": "ipython3",
   "version": "3.9.2"
  }
 },
 "nbformat": 4,
 "nbformat_minor": 5
}
