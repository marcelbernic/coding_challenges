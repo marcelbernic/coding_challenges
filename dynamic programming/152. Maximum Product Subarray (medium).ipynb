{
 "cells": [
  {
   "cell_type": "markdown",
   "id": "041c4de5",
   "metadata": {},
   "source": [
    "152. Maximum Product Subarray (medium)"
   ]
  },
  {
   "cell_type": "markdown",
   "id": "c4c610b3",
   "metadata": {},
   "source": [
    "Given an integer array nums, find a contiguous non-empty subarray within the array that has the largest product, and return the product.\n",
    "\n",
    "It is guaranteed that the answer will fit in a 32-bit integer.\n",
    "\n",
    "A subarray is a contiguous subsequence of the array.\n",
    "\n",
    " \n",
    "\n",
    "Example 1:\n",
    "```\n",
    "Input: nums = [2,3,-2,4]\n",
    "Output: 6\n",
    "Explanation: [2,3] has the largest product 6.\n",
    "```\n",
    "Example 2:\n",
    "```\n",
    "Input: nums = [-2,0,-1]\n",
    "Output: 0\n",
    "Explanation: The result cannot be 2, because [-2,-1] is not a subarray.\n",
    "```\n",
    " \n",
    "\n",
    "Constraints:\n",
    "```\n",
    "    1 <= nums.length <= 2 * 104\n",
    "    -10 <= nums[i] <= 10\n",
    "    The product of any prefix or suffix of nums is guaranteed to fit in a 32-bit integer.\n",
    "```\n"
   ]
  },
  {
   "cell_type": "code",
   "execution_count": 3,
   "id": "af750b75",
   "metadata": {},
   "outputs": [],
   "source": [
    "# Dynamic programming\n",
    "from typing import List\n",
    "\n",
    "def maxProduct(self, nums: List[int]) -> int:\n",
    "    if len(nums) == 0:\n",
    "        return 0\n",
    "\n",
    "    max_so_far = min_so_far = nums[0]\n",
    "    result = max_so_far\n",
    "\n",
    "    for num in nums[1:]:\n",
    "        temp_max = max(num, num * max_so_far, num * min_so_far)\n",
    "        min_so_far = min(num, num * max_so_far, num * min_so_far)\n",
    "\n",
    "        max_so_far = temp_max\n",
    "        result = max(max_so_far, result)\n",
    "\n",
    "    return result"
   ]
  }
 ],
 "metadata": {
  "kernelspec": {
   "display_name": "Python 3 (ipykernel)",
   "language": "python",
   "name": "python3"
  },
  "language_info": {
   "codemirror_mode": {
    "name": "ipython",
    "version": 3
   },
   "file_extension": ".py",
   "mimetype": "text/x-python",
   "name": "python",
   "nbconvert_exporter": "python",
   "pygments_lexer": "ipython3",
   "version": "3.9.2"
  }
 },
 "nbformat": 4,
 "nbformat_minor": 5
}
