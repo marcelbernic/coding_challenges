{
 "cells": [
  {
   "cell_type": "markdown",
   "id": "0ba5cbd3",
   "metadata": {},
   "source": [
    "## 22. Generate Parentheses (medium)\n",
    "Given n pairs of parentheses, write a function to generate all combinations of well-formed parentheses.\n",
    "\n",
    " \n",
    "\n",
    "Example 1:\n",
    "```\n",
    "Input: n = 3\n",
    "Output: [\"((()))\",\"(()())\",\"(())()\",\"()(())\",\"()()()\"]\n",
    "```\n",
    "Example 2:\n",
    "```\n",
    "Input: n = 1\n",
    "Output: [\"()\"]\n",
    "```\n",
    " \n",
    "\n",
    "Constraints:\n",
    "```\n",
    "    1 <= n <= 8\n",
    "```\n"
   ]
  },
  {
   "cell_type": "code",
   "execution_count": 2,
   "id": "323af7be",
   "metadata": {},
   "outputs": [],
   "source": [
    "from typing import List\n",
    "\n",
    "def generateParenthesis(self, n: int) -> List[str]:        \n",
    "    ans = []\n",
    "    def backtrack(s: str, n_open: int, n_close: int):\n",
    "        if len(s) == n*2:\n",
    "            ans.append(s)\n",
    "            return\n",
    "\n",
    "        if (n_open < n):\n",
    "            backtrack(s + \"(\", n_open+1, n_close)\n",
    "        if (n_close < n_open):\n",
    "            backtrack(s + \")\", n_open, n_close+1)\n",
    "\n",
    "    backtrack(\"\", 0, 0)\n",
    "    return ans"
   ]
  }
 ],
 "metadata": {
  "kernelspec": {
   "display_name": "Python 3 (ipykernel)",
   "language": "python",
   "name": "python3"
  },
  "language_info": {
   "codemirror_mode": {
    "name": "ipython",
    "version": 3
   },
   "file_extension": ".py",
   "mimetype": "text/x-python",
   "name": "python",
   "nbconvert_exporter": "python",
   "pygments_lexer": "ipython3",
   "version": "3.9.2"
  }
 },
 "nbformat": 4,
 "nbformat_minor": 5
}
